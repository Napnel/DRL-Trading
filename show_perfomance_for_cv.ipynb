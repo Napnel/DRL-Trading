{
 "cells": [
  {
   "cell_type": "code",
   "execution_count": 1,
   "metadata": {},
   "outputs": [],
   "source": [
    "import os\n",
    "import re\n",
    "import glob\n",
    "import pandas as pd\n",
    "import matplotlib\n",
    "import matplotlib.pyplot as plt\n",
    "import seaborn as sns"
   ]
  },
  {
   "cell_type": "code",
   "execution_count": 2,
   "metadata": {},
   "outputs": [
    {
     "data": {
      "text/plain": [
       "['./experiments/compare-algo-1\\\\A2C_2021-11-15_13-28\\\\ExperimentCV_TradingEnv_7ff5c_00000_0_2021-11-15_13-28-36',\n",
       " './experiments/compare-algo-1\\\\DQN_2021-11-15_13-09\\\\ExperimentCV_TradingEnv_e040e_00000_0_2021-11-15_13-09-49',\n",
       " './experiments/compare-algo-1\\\\PPO_2021-11-15_13-35\\\\ExperimentCV_TradingEnv_69299_00000_0_2021-11-15_13-35-07']"
      ]
     },
     "execution_count": 2,
     "metadata": {},
     "output_type": "execute_result"
    }
   ],
   "source": [
    "expt_name = \"./experiments/compare-algo-1\"\n",
    "algo_names = glob.glob(os.path.join(expt_name, \"*\", \"ExperimentCV_*\"))\n",
    "algo_names"
   ]
  },
  {
   "cell_type": "code",
   "execution_count": 3,
   "metadata": {},
   "outputs": [],
   "source": [
    "summary_perfomance = {}\n",
    "summary_equity_curve = {}\n",
    "for algo_name in algo_names:\n",
    "    splits_folders = glob.glob(os.path.join(algo_name, \"splits_*\"))\n",
    "    splits_equity_curve = []\n",
    "    splits_performance = []\n",
    "    for i, folder in enumerate(splits_folders):\n",
    "        stats_folder = os.path.join(folder, \"best-stats-eval\")\n",
    "        equity_curve = pd.read_csv(os.path.join(stats_folder, \"equity_curve.csv\"), index_col=0, header=0)\n",
    "        performance = pd.read_csv(os.path.join(stats_folder, \"performance.csv\"), index_col=0, header=0)\n",
    "        splits_equity_curve.append(equity_curve)\n",
    "        splits_performance.append(performance)\n",
    "        \n",
    "    summary_perfomance[algo_name.split('\\\\')[1][:3]] = splits_performance"
   ]
  },
  {
   "cell_type": "code",
   "execution_count": 4,
   "metadata": {},
   "outputs": [],
   "source": [
    "# fig, ax = plt.subplots(1, 1, figsize=(16, 10))\n",
    "# ax.set_ylabel('Equity')\n",
    "# ax.set_xlabel('Date')\n",
    "# for i, equity_curve in enumerate(splits_equity_curve):\n",
    "#     print(equity_curve.columns)\n",
    "#     ax.plot(equity_curve.index, equity_curve[\"Equity\"], label=str(i))\n",
    "#     # equity_curve[\"Equity\"].plot(ax=ax, label=str(i), legend=True)\n",
    "    \n",
    "# ax.legend()"
   ]
  },
  {
   "cell_type": "code",
   "execution_count": 5,
   "metadata": {},
   "outputs": [],
   "source": [
    "pd.options.display.precision = 2\n",
    "pd.options.display.float_format = '{:.2f}'.format"
   ]
  },
  {
   "cell_type": "code",
   "execution_count": 6,
   "metadata": {},
   "outputs": [
    {
     "data": {
      "text/html": [
       "<div>\n",
       "<style scoped>\n",
       "    .dataframe tbody tr th:only-of-type {\n",
       "        vertical-align: middle;\n",
       "    }\n",
       "\n",
       "    .dataframe tbody tr th {\n",
       "        vertical-align: top;\n",
       "    }\n",
       "\n",
       "    .dataframe thead th {\n",
       "        text-align: right;\n",
       "    }\n",
       "</style>\n",
       "<table border=\"1\" class=\"dataframe\">\n",
       "  <thead>\n",
       "    <tr style=\"text-align: right;\">\n",
       "      <th></th>\n",
       "      <th>0</th>\n",
       "      <th>1</th>\n",
       "      <th>2</th>\n",
       "      <th>3</th>\n",
       "    </tr>\n",
       "  </thead>\n",
       "  <tbody>\n",
       "    <tr>\n",
       "      <th>Buy &amp; Hold Return [%]</th>\n",
       "      <td>9.33</td>\n",
       "      <td>3.60</td>\n",
       "      <td>16.18</td>\n",
       "      <td>-14.85</td>\n",
       "    </tr>\n",
       "    <tr>\n",
       "      <th>Return (Ann.) [%]</th>\n",
       "      <td>0.37</td>\n",
       "      <td>23.27</td>\n",
       "      <td>1.13</td>\n",
       "      <td>3.62</td>\n",
       "    </tr>\n",
       "    <tr>\n",
       "      <th>Volatility (Ann.) [%]</th>\n",
       "      <td>13.33</td>\n",
       "      <td>17.17</td>\n",
       "      <td>9.37</td>\n",
       "      <td>15.36</td>\n",
       "    </tr>\n",
       "    <tr>\n",
       "      <th>Sharpe Ratio</th>\n",
       "      <td>0.09</td>\n",
       "      <td>1.31</td>\n",
       "      <td>0.17</td>\n",
       "      <td>0.31</td>\n",
       "    </tr>\n",
       "    <tr>\n",
       "      <th>Max. Drawdown [%]</th>\n",
       "      <td>-11.61</td>\n",
       "      <td>-8.52</td>\n",
       "      <td>-16.51</td>\n",
       "      <td>-13.39</td>\n",
       "    </tr>\n",
       "  </tbody>\n",
       "</table>\n",
       "</div>"
      ],
      "text/plain": [
       "                           0     1      2      3\n",
       "Buy & Hold Return [%]   9.33  3.60  16.18 -14.85\n",
       "Return (Ann.) [%]       0.37 23.27   1.13   3.62\n",
       "Volatility (Ann.) [%]  13.33 17.17   9.37  15.36\n",
       "Sharpe Ratio            0.09  1.31   0.17   0.31\n",
       "Max. Drawdown [%]     -11.61 -8.52 -16.51 -13.39"
      ]
     },
     "execution_count": 6,
     "metadata": {},
     "output_type": "execute_result"
    }
   ],
   "source": [
    "performance_df = pd.DataFrame()\n",
    "perfomance = summary_perfomance[\"DQN\"]\n",
    "for i, p in enumerate(perfomance):\n",
    "    performance_df[str(i)] = p.iloc[4:, :].astype(float)\n",
    "    \n",
    "performance_df"
   ]
  },
  {
   "cell_type": "code",
   "execution_count": 7,
   "metadata": {},
   "outputs": [
    {
     "data": {
      "text/html": [
       "<div>\n",
       "<style scoped>\n",
       "    .dataframe tbody tr th:only-of-type {\n",
       "        vertical-align: middle;\n",
       "    }\n",
       "\n",
       "    .dataframe tbody tr th {\n",
       "        vertical-align: top;\n",
       "    }\n",
       "\n",
       "    .dataframe thead th {\n",
       "        text-align: right;\n",
       "    }\n",
       "</style>\n",
       "<table border=\"1\" class=\"dataframe\">\n",
       "  <thead>\n",
       "    <tr style=\"text-align: right;\">\n",
       "      <th></th>\n",
       "      <th>0</th>\n",
       "      <th>1</th>\n",
       "      <th>2</th>\n",
       "      <th>3</th>\n",
       "    </tr>\n",
       "  </thead>\n",
       "  <tbody>\n",
       "    <tr>\n",
       "      <th>Buy &amp; Hold Return [%]</th>\n",
       "      <td>9.33</td>\n",
       "      <td>3.60</td>\n",
       "      <td>16.18</td>\n",
       "      <td>-14.85</td>\n",
       "    </tr>\n",
       "    <tr>\n",
       "      <th>Return (Ann.) [%]</th>\n",
       "      <td>6.15</td>\n",
       "      <td>4.23</td>\n",
       "      <td>1.28</td>\n",
       "      <td>-19.19</td>\n",
       "    </tr>\n",
       "    <tr>\n",
       "      <th>Volatility (Ann.) [%]</th>\n",
       "      <td>15.10</td>\n",
       "      <td>21.05</td>\n",
       "      <td>9.18</td>\n",
       "      <td>17.67</td>\n",
       "    </tr>\n",
       "    <tr>\n",
       "      <th>Sharpe Ratio</th>\n",
       "      <td>0.47</td>\n",
       "      <td>0.30</td>\n",
       "      <td>0.18</td>\n",
       "      <td>-1.12</td>\n",
       "    </tr>\n",
       "    <tr>\n",
       "      <th>Max. Drawdown [%]</th>\n",
       "      <td>-11.72</td>\n",
       "      <td>-14.28</td>\n",
       "      <td>-7.58</td>\n",
       "      <td>-22.67</td>\n",
       "    </tr>\n",
       "  </tbody>\n",
       "</table>\n",
       "</div>"
      ],
      "text/plain": [
       "                           0      1     2      3\n",
       "Buy & Hold Return [%]   9.33   3.60 16.18 -14.85\n",
       "Return (Ann.) [%]       6.15   4.23  1.28 -19.19\n",
       "Volatility (Ann.) [%]  15.10  21.05  9.18  17.67\n",
       "Sharpe Ratio            0.47   0.30  0.18  -1.12\n",
       "Max. Drawdown [%]     -11.72 -14.28 -7.58 -22.67"
      ]
     },
     "execution_count": 7,
     "metadata": {},
     "output_type": "execute_result"
    }
   ],
   "source": [
    "performance_df = pd.DataFrame()\n",
    "perfomance = summary_perfomance[\"A2C\"]\n",
    "for i, p in enumerate(perfomance):\n",
    "    performance_df[str(i)] = p.iloc[4:, :].astype(float)\n",
    "    \n",
    "performance_df"
   ]
  },
  {
   "cell_type": "code",
   "execution_count": 8,
   "metadata": {},
   "outputs": [
    {
     "data": {
      "text/html": [
       "<div>\n",
       "<style scoped>\n",
       "    .dataframe tbody tr th:only-of-type {\n",
       "        vertical-align: middle;\n",
       "    }\n",
       "\n",
       "    .dataframe tbody tr th {\n",
       "        vertical-align: top;\n",
       "    }\n",
       "\n",
       "    .dataframe thead th {\n",
       "        text-align: right;\n",
       "    }\n",
       "</style>\n",
       "<table border=\"1\" class=\"dataframe\">\n",
       "  <thead>\n",
       "    <tr style=\"text-align: right;\">\n",
       "      <th></th>\n",
       "      <th>0</th>\n",
       "      <th>1</th>\n",
       "      <th>2</th>\n",
       "      <th>3</th>\n",
       "    </tr>\n",
       "  </thead>\n",
       "  <tbody>\n",
       "    <tr>\n",
       "      <th>Buy &amp; Hold Return [%]</th>\n",
       "      <td>9.33</td>\n",
       "      <td>3.60</td>\n",
       "      <td>16.18</td>\n",
       "      <td>-14.85</td>\n",
       "    </tr>\n",
       "    <tr>\n",
       "      <th>Return (Ann.) [%]</th>\n",
       "      <td>18.93</td>\n",
       "      <td>0.14</td>\n",
       "      <td>-2.46</td>\n",
       "      <td>-13.35</td>\n",
       "    </tr>\n",
       "    <tr>\n",
       "      <th>Volatility (Ann.) [%]</th>\n",
       "      <td>13.22</td>\n",
       "      <td>21.00</td>\n",
       "      <td>8.34</td>\n",
       "      <td>15.58</td>\n",
       "    </tr>\n",
       "    <tr>\n",
       "      <th>Sharpe Ratio</th>\n",
       "      <td>1.38</td>\n",
       "      <td>0.11</td>\n",
       "      <td>-0.26</td>\n",
       "      <td>-0.85</td>\n",
       "    </tr>\n",
       "    <tr>\n",
       "      <th>Max. Drawdown [%]</th>\n",
       "      <td>-7.24</td>\n",
       "      <td>-14.12</td>\n",
       "      <td>-8.11</td>\n",
       "      <td>-22.31</td>\n",
       "    </tr>\n",
       "  </tbody>\n",
       "</table>\n",
       "</div>"
      ],
      "text/plain": [
       "                          0      1     2      3\n",
       "Buy & Hold Return [%]  9.33   3.60 16.18 -14.85\n",
       "Return (Ann.) [%]     18.93   0.14 -2.46 -13.35\n",
       "Volatility (Ann.) [%] 13.22  21.00  8.34  15.58\n",
       "Sharpe Ratio           1.38   0.11 -0.26  -0.85\n",
       "Max. Drawdown [%]     -7.24 -14.12 -8.11 -22.31"
      ]
     },
     "execution_count": 8,
     "metadata": {},
     "output_type": "execute_result"
    }
   ],
   "source": [
    "performance_df = pd.DataFrame()\n",
    "perfomance = summary_perfomance[\"PPO\"]\n",
    "for i, p in enumerate(perfomance):\n",
    "    performance_df[str(i)] = p.iloc[4:, :].astype(float)\n",
    "    \n",
    "performance_df"
   ]
  },
  {
   "cell_type": "code",
   "execution_count": 9,
   "metadata": {},
   "outputs": [
    {
     "name": "stdout",
     "output_type": "stream",
     "text": [
      "A2C\n",
      "                           0      1     2      3\n",
      "Buy & Hold Return [%]   9.33   3.60 16.18 -14.85\n",
      "Return (Ann.) [%]       6.15   4.23  1.28 -19.19\n",
      "Volatility (Ann.) [%]  15.10  21.05  9.18  17.67\n",
      "Sharpe Ratio            0.47   0.30  0.18  -1.12\n",
      "Max. Drawdown [%]     -11.72 -14.28 -7.58 -22.67\n",
      "DQN\n",
      "                           0     1      2      3\n",
      "Buy & Hold Return [%]   9.33  3.60  16.18 -14.85\n",
      "Return (Ann.) [%]       0.37 23.27   1.13   3.62\n",
      "Volatility (Ann.) [%]  13.33 17.17   9.37  15.36\n",
      "Sharpe Ratio            0.09  1.31   0.17   0.31\n",
      "Max. Drawdown [%]     -11.61 -8.52 -16.51 -13.39\n",
      "PPO\n",
      "                          0      1     2      3\n",
      "Buy & Hold Return [%]  9.33   3.60 16.18 -14.85\n",
      "Return (Ann.) [%]     18.93   0.14 -2.46 -13.35\n",
      "Volatility (Ann.) [%] 13.22  21.00  8.34  15.58\n",
      "Sharpe Ratio           1.38   0.11 -0.26  -0.85\n",
      "Max. Drawdown [%]     -7.24 -14.12 -8.11 -22.31\n"
     ]
    }
   ],
   "source": [
    "for algo, splits_performance in summary_perfomance.items():\n",
    "    print(algo)\n",
    "    performance_df = pd.DataFrame()\n",
    "    for i, p in enumerate(splits_performance):\n",
    "        # p.iloc[3:, :] = p.iloc[3:, :].astype(float)\n",
    "        performance_df[str(i)] = p.iloc[4:, :].astype(float)\n",
    "        # performance_df.columns\n",
    "        \n",
    "    print(performance_df)"
   ]
  },
  {
   "cell_type": "code",
   "execution_count": 10,
   "metadata": {},
   "outputs": [
    {
     "name": "stdout",
     "output_type": "stream",
     "text": [
      "<class 'pandas.core.frame.DataFrame'>\n",
      "Index: 9 entries, Start to Max. Drawdown [%]\n",
      "Data columns (total 1 columns):\n",
      " #   Column  Non-Null Count  Dtype \n",
      "---  ------  --------------  ----- \n",
      " 0   0       9 non-null      object\n",
      "dtypes: object(1)\n",
      "memory usage: 144.0+ bytes\n"
     ]
    }
   ],
   "source": [
    "performance.info()"
   ]
  }
 ],
 "metadata": {
  "interpreter": {
   "hash": "92494b380cdd7d1d1ced08fe7bc7df853d898bcea1d66a2a33078fd6ace70ca7"
  },
  "kernelspec": {
   "display_name": "Python 3.7.10 64-bit ('drl-trading': conda)",
   "language": "python",
   "name": "python3"
  },
  "language_info": {
   "codemirror_mode": {
    "name": "ipython",
    "version": 3
   },
   "file_extension": ".py",
   "mimetype": "text/x-python",
   "name": "python",
   "nbconvert_exporter": "python",
   "pygments_lexer": "ipython3",
   "version": "3.7.10"
  },
  "orig_nbformat": 4
 },
 "nbformat": 4,
 "nbformat_minor": 2
}
