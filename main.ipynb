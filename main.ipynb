{
 "cells": [
  {
   "cell_type": "code",
   "execution_count": 1,
   "source": [
    "import pandas as pd\r\n",
    "import os\r\n",
    "\r\n",
    "from envs import TradingEnv\r\n",
    "from utils import preprocessing\r\n",
    "\r\n",
    "from stable_baselines3 import DQN, A2C, PPO\r\n",
    "from sb3_contrib import QRDQN"
   ],
   "outputs": [
    {
     "output_type": "display_data",
     "data": {
      "text/html": [
       "\n",
       "    <div class=\"bk-root\">\n",
       "        <a href=\"https://bokeh.org\" target=\"_blank\" class=\"bk-logo bk-logo-small bk-logo-notebook\"></a>\n",
       "        <span id=\"1002\">Loading BokehJS ...</span>\n",
       "    </div>"
      ]
     },
     "metadata": {}
    },
    {
     "output_type": "display_data",
     "data": {
      "application/javascript": "\n(function(root) {\n  function now() {\n    return new Date();\n  }\n\n  var force = true;\n\n  if (typeof root._bokeh_onload_callbacks === \"undefined\" || force === true) {\n    root._bokeh_onload_callbacks = [];\n    root._bokeh_is_loading = undefined;\n  }\n\n  var JS_MIME_TYPE = 'application/javascript';\n  var HTML_MIME_TYPE = 'text/html';\n  var EXEC_MIME_TYPE = 'application/vnd.bokehjs_exec.v0+json';\n  var CLASS_NAME = 'output_bokeh rendered_html';\n\n  /**\n   * Render data to the DOM node\n   */\n  function render(props, node) {\n    var script = document.createElement(\"script\");\n    node.appendChild(script);\n  }\n\n  /**\n   * Handle when an output is cleared or removed\n   */\n  function handleClearOutput(event, handle) {\n    var cell = handle.cell;\n\n    var id = cell.output_area._bokeh_element_id;\n    var server_id = cell.output_area._bokeh_server_id;\n    // Clean up Bokeh references\n    if (id != null && id in Bokeh.index) {\n      Bokeh.index[id].model.document.clear();\n      delete Bokeh.index[id];\n    }\n\n    if (server_id !== undefined) {\n      // Clean up Bokeh references\n      var cmd = \"from bokeh.io.state import curstate; print(curstate().uuid_to_server['\" + server_id + \"'].get_sessions()[0].document.roots[0]._id)\";\n      cell.notebook.kernel.execute(cmd, {\n        iopub: {\n          output: function(msg) {\n            var id = msg.content.text.trim();\n            if (id in Bokeh.index) {\n              Bokeh.index[id].model.document.clear();\n              delete Bokeh.index[id];\n            }\n          }\n        }\n      });\n      // Destroy server and session\n      var cmd = \"import bokeh.io.notebook as ion; ion.destroy_server('\" + server_id + \"')\";\n      cell.notebook.kernel.execute(cmd);\n    }\n  }\n\n  /**\n   * Handle when a new output is added\n   */\n  function handleAddOutput(event, handle) {\n    var output_area = handle.output_area;\n    var output = handle.output;\n\n    // limit handleAddOutput to display_data with EXEC_MIME_TYPE content only\n    if ((output.output_type != \"display_data\") || (!Object.prototype.hasOwnProperty.call(output.data, EXEC_MIME_TYPE))) {\n      return\n    }\n\n    var toinsert = output_area.element.find(\".\" + CLASS_NAME.split(' ')[0]);\n\n    if (output.metadata[EXEC_MIME_TYPE][\"id\"] !== undefined) {\n      toinsert[toinsert.length - 1].firstChild.textContent = output.data[JS_MIME_TYPE];\n      // store reference to embed id on output_area\n      output_area._bokeh_element_id = output.metadata[EXEC_MIME_TYPE][\"id\"];\n    }\n    if (output.metadata[EXEC_MIME_TYPE][\"server_id\"] !== undefined) {\n      var bk_div = document.createElement(\"div\");\n      bk_div.innerHTML = output.data[HTML_MIME_TYPE];\n      var script_attrs = bk_div.children[0].attributes;\n      for (var i = 0; i < script_attrs.length; i++) {\n        toinsert[toinsert.length - 1].firstChild.setAttribute(script_attrs[i].name, script_attrs[i].value);\n        toinsert[toinsert.length - 1].firstChild.textContent = bk_div.children[0].textContent\n      }\n      // store reference to server id on output_area\n      output_area._bokeh_server_id = output.metadata[EXEC_MIME_TYPE][\"server_id\"];\n    }\n  }\n\n  function register_renderer(events, OutputArea) {\n\n    function append_mime(data, metadata, element) {\n      // create a DOM node to render to\n      var toinsert = this.create_output_subarea(\n        metadata,\n        CLASS_NAME,\n        EXEC_MIME_TYPE\n      );\n      this.keyboard_manager.register_events(toinsert);\n      // Render to node\n      var props = {data: data, metadata: metadata[EXEC_MIME_TYPE]};\n      render(props, toinsert[toinsert.length - 1]);\n      element.append(toinsert);\n      return toinsert\n    }\n\n    /* Handle when an output is cleared or removed */\n    events.on('clear_output.CodeCell', handleClearOutput);\n    events.on('delete.Cell', handleClearOutput);\n\n    /* Handle when a new output is added */\n    events.on('output_added.OutputArea', handleAddOutput);\n\n    /**\n     * Register the mime type and append_mime function with output_area\n     */\n    OutputArea.prototype.register_mime_type(EXEC_MIME_TYPE, append_mime, {\n      /* Is output safe? */\n      safe: true,\n      /* Index of renderer in `output_area.display_order` */\n      index: 0\n    });\n  }\n\n  // register the mime type if in Jupyter Notebook environment and previously unregistered\n  if (root.Jupyter !== undefined) {\n    var events = require('base/js/events');\n    var OutputArea = require('notebook/js/outputarea').OutputArea;\n\n    if (OutputArea.prototype.mime_types().indexOf(EXEC_MIME_TYPE) == -1) {\n      register_renderer(events, OutputArea);\n    }\n  }\n\n  \n  if (typeof (root._bokeh_timeout) === \"undefined\" || force === true) {\n    root._bokeh_timeout = Date.now() + 5000;\n    root._bokeh_failed_load = false;\n  }\n\n  var NB_LOAD_WARNING = {'data': {'text/html':\n     \"<div style='background-color: #fdd'>\\n\"+\n     \"<p>\\n\"+\n     \"BokehJS does not appear to have successfully loaded. If loading BokehJS from CDN, this \\n\"+\n     \"may be due to a slow or bad network connection. Possible fixes:\\n\"+\n     \"</p>\\n\"+\n     \"<ul>\\n\"+\n     \"<li>re-rerun `output_notebook()` to attempt to load from CDN again, or</li>\\n\"+\n     \"<li>use INLINE resources instead, as so:</li>\\n\"+\n     \"</ul>\\n\"+\n     \"<code>\\n\"+\n     \"from bokeh.resources import INLINE\\n\"+\n     \"output_notebook(resources=INLINE)\\n\"+\n     \"</code>\\n\"+\n     \"</div>\"}};\n\n  function display_loaded() {\n    var el = document.getElementById(\"1002\");\n    if (el != null) {\n      el.textContent = \"BokehJS is loading...\";\n    }\n    if (root.Bokeh !== undefined) {\n      if (el != null) {\n        el.textContent = \"BokehJS \" + root.Bokeh.version + \" successfully loaded.\";\n      }\n    } else if (Date.now() < root._bokeh_timeout) {\n      setTimeout(display_loaded, 100)\n    }\n  }\n\n\n  function run_callbacks() {\n    try {\n      root._bokeh_onload_callbacks.forEach(function(callback) {\n        if (callback != null)\n          callback();\n      });\n    } finally {\n      delete root._bokeh_onload_callbacks\n    }\n    console.debug(\"Bokeh: all callbacks have finished\");\n  }\n\n  function load_libs(css_urls, js_urls, callback) {\n    if (css_urls == null) css_urls = [];\n    if (js_urls == null) js_urls = [];\n\n    root._bokeh_onload_callbacks.push(callback);\n    if (root._bokeh_is_loading > 0) {\n      console.debug(\"Bokeh: BokehJS is being loaded, scheduling callback at\", now());\n      return null;\n    }\n    if (js_urls == null || js_urls.length === 0) {\n      run_callbacks();\n      return null;\n    }\n    console.debug(\"Bokeh: BokehJS not loaded, scheduling load and callback at\", now());\n    root._bokeh_is_loading = css_urls.length + js_urls.length;\n\n    function on_load() {\n      root._bokeh_is_loading--;\n      if (root._bokeh_is_loading === 0) {\n        console.debug(\"Bokeh: all BokehJS libraries/stylesheets loaded\");\n        run_callbacks()\n      }\n    }\n\n    function on_error(url) {\n      console.error(\"failed to load \" + url);\n    }\n\n    for (let i = 0; i < css_urls.length; i++) {\n      const url = css_urls[i];\n      const element = document.createElement(\"link\");\n      element.onload = on_load;\n      element.onerror = on_error.bind(null, url);\n      element.rel = \"stylesheet\";\n      element.type = \"text/css\";\n      element.href = url;\n      console.debug(\"Bokeh: injecting link tag for BokehJS stylesheet: \", url);\n      document.body.appendChild(element);\n    }\n\n    const hashes = {\"https://cdn.bokeh.org/bokeh/release/bokeh-2.3.2.min.js\": \"XypntL49z55iwGVUW4qsEu83zKL3XEcz0MjuGOQ9SlaaQ68X/g+k1FcioZi7oQAc\", \"https://cdn.bokeh.org/bokeh/release/bokeh-tables-2.3.2.min.js\": \"bEsM86IHGDTLCS0Zod8a8WM6Y4+lafAL/eSiyQcuPzinmWNgNO2/olUF0Z2Dkn5i\", \"https://cdn.bokeh.org/bokeh/release/bokeh-widgets-2.3.2.min.js\": \"TX0gSQTdXTTeScqxj6PVQxTiRW8DOoGVwinyi1D3kxv7wuxQ02XkOxv0xwiypcAH\"};\n\n    for (let i = 0; i < js_urls.length; i++) {\n      const url = js_urls[i];\n      const element = document.createElement('script');\n      element.onload = on_load;\n      element.onerror = on_error.bind(null, url);\n      element.async = false;\n      element.src = url;\n      if (url in hashes) {\n        element.crossOrigin = \"anonymous\";\n        element.integrity = \"sha384-\" + hashes[url];\n      }\n      console.debug(\"Bokeh: injecting script tag for BokehJS library: \", url);\n      document.head.appendChild(element);\n    }\n  };\n\n  function inject_raw_css(css) {\n    const element = document.createElement(\"style\");\n    element.appendChild(document.createTextNode(css));\n    document.body.appendChild(element);\n  }\n\n  \n  var js_urls = [\"https://cdn.bokeh.org/bokeh/release/bokeh-2.3.2.min.js\", \"https://cdn.bokeh.org/bokeh/release/bokeh-widgets-2.3.2.min.js\", \"https://cdn.bokeh.org/bokeh/release/bokeh-tables-2.3.2.min.js\"];\n  var css_urls = [];\n  \n\n  var inline_js = [\n    function(Bokeh) {\n      Bokeh.set_log_level(\"info\");\n    },\n    function(Bokeh) {\n    \n    \n    }\n  ];\n\n  function run_inline_js() {\n    \n    if (root.Bokeh !== undefined || force === true) {\n      \n    for (var i = 0; i < inline_js.length; i++) {\n      inline_js[i].call(root, root.Bokeh);\n    }\n    if (force === true) {\n        display_loaded();\n      }} else if (Date.now() < root._bokeh_timeout) {\n      setTimeout(run_inline_js, 100);\n    } else if (!root._bokeh_failed_load) {\n      console.log(\"Bokeh: BokehJS failed to load within specified timeout.\");\n      root._bokeh_failed_load = true;\n    } else if (force !== true) {\n      var cell = $(document.getElementById(\"1002\")).parents('.cell').data().cell;\n      cell.output_area.append_execute_result(NB_LOAD_WARNING)\n    }\n\n  }\n\n  if (root._bokeh_is_loading === 0) {\n    console.debug(\"Bokeh: BokehJS loaded, going straight to plotting\");\n    run_inline_js();\n  } else {\n    load_libs(css_urls, js_urls, function() {\n      console.debug(\"Bokeh: BokehJS plotting callback run at\", now());\n      run_inline_js();\n    });\n  }\n}(window));",
      "application/vnd.bokehjs_load.v0+json": ""
     },
     "metadata": {}
    }
   ],
   "metadata": {}
  },
  {
   "cell_type": "code",
   "execution_count": 2,
   "source": [
    "log_dir = \"./logs/\"\r\n",
    "os.makedirs(log_dir, exist_ok=True)\r\n",
    "lookback_window = 20\r\n",
    "# fee = 0.00019\r\n",
    "fee = 0.000665\r\n",
    "assets = 10000"
   ],
   "outputs": [],
   "metadata": {}
  },
  {
   "cell_type": "code",
   "execution_count": 3,
   "source": [
    "df = pd.read_csv(\"./data/3600/ethusd/2021-01-01.csv\", parse_dates=[0]).set_index(\"Date\")\r\n",
    "train_df = df[: len(df) // 2]\r\n",
    "eval_df = df[len(df) // 2 :]\r\n",
    "print(train_df.head(3))\r\n",
    "print(eval_df.head(3))"
   ],
   "outputs": [
    {
     "output_type": "stream",
     "name": "stdout",
     "text": [
      "                       Open    High     Low   Close    Volume\n",
      "Date                                                         \n",
      "2021-01-01 00:00:00  734.21  734.28  723.79  731.63  3015.608\n",
      "2021-01-01 01:00:00  731.42  739.26  731.42  736.66   912.377\n",
      "2021-01-01 02:00:00  737.14  737.46  725.51  727.42  4502.349\n",
      "                       Open    High     Low   Close    Volume\n",
      "Date                                                         \n",
      "2021-04-01 00:00:00  1829.2  1839.7  1825.0  1834.7   929.029\n",
      "2021-04-01 01:00:00  1834.6  1854.5  1833.0  1849.6  2446.906\n",
      "2021-04-01 02:00:00  1849.9  1862.6  1838.6  1846.2  1712.854\n"
     ]
    }
   ],
   "metadata": {}
  },
  {
   "cell_type": "code",
   "execution_count": 4,
   "source": [
    "train_env = TradingEnv(lookback_window=lookback_window, df=train_df, preprocessed_df=preprocessing(train_df), assets=assets, fee=fee)\r\n",
    "# train_env = make_vec_env(lambda: train_env, n_envs=1)\r\n",
    "\r\n",
    "eval_env = TradingEnv(lookback_window=lookback_window, df=eval_df, preprocessed_df=preprocessing(eval_df), assets=assets, fee=fee)\r\n",
    "# eval_env = make_vec_env(lambda: eval_env, n_envs=1)"
   ],
   "outputs": [],
   "metadata": {}
  },
  {
   "cell_type": "code",
   "execution_count": 5,
   "source": [
    "from utils import backtest"
   ],
   "outputs": [],
   "metadata": {}
  },
  {
   "cell_type": "code",
   "execution_count": 6,
   "source": [
    "models = [DQN, A2C, PPO, QRDQN]\r\n",
    "for model_class in models:\r\n",
    "    model = model_class(\"MlpPolicy\", train_env, verbose=0, tensorboard_log=\"./logs\")\r\n",
    "    model_name = model.__class__.__name__\r\n",
    "    model.learn(5000)\r\n",
    "    model.save(f\"./results/{model_name}\")\r\n",
    "\r\n",
    "    stats_train = backtest(model, train_env, assets, fee, plot=False, plot_filename=f\"./results/BackTest-{model_name}-train\")\r\n",
    "    stats_eval = backtest(model, eval_env, assets, fee, plot=False, plot_filename=f\"./results/BackTest-{model_name}-eval\")\r\n",
    "\r\n",
    "    stats = pd.DataFrame()\r\n",
    "    stats[\"train\"] = stats_train\r\n",
    "    stats[\"eval\"] = stats_eval\r\n",
    "    stats = stats.drop([\"Best Trade [%]\", \"Worst Trade [%]\", \"_strategy\", \"_equity_curve\", \"_trades\"], axis=0)\r\n",
    "    print(model_name)\r\n",
    "    print(stats)"
   ],
   "outputs": [
    {
     "output_type": "stream",
     "name": "stdout",
     "text": [
      "DQN\n",
      "                                      train                 eval\n",
      "Start                   2021-01-01 00:00:00  2021-04-01 00:00:00\n",
      "End                     2021-03-31 23:00:00  2021-06-30 00:00:00\n",
      "Duration                   89 days 23:00:00     90 days 00:00:00\n",
      "Exposure Time [%]                 95.277778            88.246182\n",
      "Equity Final [$]                  2462.1602         11160.863056\n",
      "Equity Peak [$]                10012.971749         14627.769389\n",
      "Return [%]                       -75.378398            11.608631\n",
      "Buy & Hold Return [%]            149.948745            21.191475\n",
      "Return (Ann.) [%]                -99.661806            55.351435\n",
      "Volatility (Ann.) [%]              0.562059           196.285187\n",
      "Sharpe Ratio                            0.0             0.281995\n",
      "Sortino Ratio                           0.0             0.950665\n",
      "Calmar Ratio                            0.0             1.317467\n",
      "Max. Drawdown [%]                -76.802745            -42.01354\n",
      "Avg. Drawdown [%]                -38.793464            -6.795839\n",
      "Max. Drawdown Duration     89 days 00:00:00     53 days 12:00:00\n",
      "Avg. Drawdown Duration     44 days 13:00:00      5 days 04:00:00\n",
      "# Trades                                 28                   37\n",
      "Win Rate [%]                      35.714286            48.648649\n",
      "Avg. Trade [%]                    -6.149053             0.688823\n",
      "Max. Trade Duration         7 days 10:00:00     13 days 06:00:00\n",
      "Avg. Trade Duration         3 days 01:00:00      2 days 03:00:00\n",
      "Profit Factor                      0.338842             1.376177\n",
      "Expectancy [%]                     -4.76555             1.137273\n",
      "SQN                               -1.492904             0.248629\n",
      "A2C\n",
      "                                      train                 eval\n",
      "Start                   2021-01-01 00:00:00  2021-04-01 00:00:00\n",
      "End                     2021-03-31 23:00:00  2021-06-30 00:00:00\n",
      "Duration                   89 days 23:00:00     90 days 00:00:00\n",
      "Exposure Time [%]                 79.953704            82.739472\n",
      "Equity Final [$]                7779.401531          7065.877394\n",
      "Equity Peak [$]                13427.368499         11403.224074\n",
      "Return [%]                       -22.205985           -29.341226\n",
      "Buy & Hold Return [%]            149.948745            21.191475\n",
      "Return (Ann.) [%]                -63.501868           -75.168276\n",
      "Volatility (Ann.) [%]             39.068462            33.707653\n",
      "Sharpe Ratio                            0.0                  0.0\n",
      "Sortino Ratio                           0.0                  0.0\n",
      "Calmar Ratio                            0.0                  0.0\n",
      "Max. Drawdown [%]                -49.288622            -42.07993\n",
      "Avg. Drawdown [%]                 -8.322278             -4.38009\n",
      "Max. Drawdown Duration     85 days 18:00:00     85 days 00:00:00\n",
      "Avg. Drawdown Duration     11 days 01:00:00      7 days 08:00:00\n",
      "# Trades                                283                  261\n",
      "Win Rate [%]                      49.116608            49.808429\n",
      "Avg. Trade [%]                    -0.096144            -0.160428\n",
      "Max. Trade Duration         1 days 03:00:00      2 days 08:00:00\n",
      "Avg. Trade Duration         0 days 06:00:00      0 days 06:00:00\n",
      "Profit Factor                      0.934909             0.906174\n",
      "Expectancy [%]                    -0.060669            -0.100893\n",
      "SQN                               -0.560424            -0.726267\n",
      "PPO\n",
      "                                      train                 eval\n",
      "Start                   2021-01-01 00:00:00  2021-04-01 00:00:00\n",
      "End                     2021-03-31 23:00:00  2021-06-30 00:00:00\n",
      "Duration                   89 days 23:00:00     90 days 00:00:00\n",
      "Exposure Time [%]                 87.407407            86.534012\n",
      "Equity Final [$]                4324.628851          5359.387828\n",
      "Equity Peak [$]                 11162.22656         11569.273342\n",
      "Return [%]                       -56.753711           -46.406122\n",
      "Buy & Hold Return [%]            149.948745            21.191475\n",
      "Return (Ann.) [%]                -96.705673            -91.89788\n",
      "Volatility (Ann.) [%]              3.531623             9.816696\n",
      "Sharpe Ratio                            0.0                  0.0\n",
      "Sortino Ratio                           0.0                  0.0\n",
      "Calmar Ratio                            0.0                  0.0\n",
      "Max. Drawdown [%]                -61.256575           -56.753344\n",
      "Avg. Drawdown [%]                -14.252728            -5.215257\n",
      "Max. Drawdown Duration     86 days 15:00:00     74 days 11:00:00\n",
      "Avg. Drawdown Duration     17 days 18:00:00      5 days 21:00:00\n",
      "# Trades                                454                  467\n",
      "Win Rate [%]                      48.678414            49.036403\n",
      "Avg. Trade [%]                    -0.210159            -0.158713\n",
      "Max. Trade Duration         0 days 20:00:00      0 days 16:00:00\n",
      "Avg. Trade Duration         0 days 04:00:00      0 days 04:00:00\n",
      "Profit Factor                      0.789396             0.856268\n",
      "Expectancy [%]                    -0.183519             -0.12775\n",
      "SQN                               -1.745706            -1.293393\n",
      "QRDQN\n",
      "                                      train                 eval\n",
      "Start                   2021-01-01 00:00:00  2021-04-01 00:00:00\n",
      "End                     2021-03-31 23:00:00  2021-06-30 00:00:00\n",
      "Duration                   89 days 23:00:00     90 days 00:00:00\n",
      "Exposure Time [%]                      55.0            99.028228\n",
      "Equity Final [$]                 963.499121          7178.897717\n",
      "Equity Peak [$]                10268.486951         10039.584413\n",
      "Return [%]                       -90.365009           -28.211023\n",
      "Buy & Hold Return [%]            149.948745            21.191475\n",
      "Return (Ann.) [%]                 -99.99229           -73.194883\n",
      "Volatility (Ann.) [%]              0.033602            77.830019\n",
      "Sharpe Ratio                            0.0                  0.0\n",
      "Sortino Ratio                           0.0                  0.0\n",
      "Calmar Ratio                            0.0                  0.0\n",
      "Max. Drawdown [%]                -91.103859           -67.558871\n",
      "Avg. Drawdown [%]                 -18.80629           -67.558871\n",
      "Max. Drawdown Duration     88 days 04:00:00     89 days 03:00:00\n",
      "Avg. Drawdown Duration     17 days 20:00:00     89 days 03:00:00\n",
      "# Trades                                  5                    6\n",
      "Win Rate [%]                           40.0            33.333333\n",
      "Avg. Trade [%]                   -38.805827            -5.508042\n",
      "Max. Trade Duration        37 days 08:00:00     47 days 04:00:00\n",
      "Avg. Trade Duration         9 days 21:00:00     14 days 20:00:00\n",
      "Profit Factor                      0.092245             0.505016\n",
      "Expectancy [%]                   -25.416962            -4.262367\n",
      "SQN                                -1.55462            -0.974592\n"
     ]
    }
   ],
   "metadata": {}
  },
  {
   "cell_type": "code",
   "execution_count": 7,
   "source": [
    "train_env = TradingEnv(lookback_window=lookback_window, df=train_df, preprocessed_df=preprocessing(train_df), assets=assets, fee=fee)\r\n",
    "eval_env = TradingEnv(lookback_window=lookback_window, df=eval_df, preprocessed_df=preprocessing(eval_df), assets=assets, fee=fee)"
   ],
   "outputs": [
    {
     "output_type": "error",
     "ename": "TypeError",
     "evalue": "__init__() got an unexpected keyword argument 'obs_flatten'",
     "traceback": [
      "\u001b[1;31m---------------------------------------------------------------------------\u001b[0m",
      "\u001b[1;31mTypeError\u001b[0m                                 Traceback (most recent call last)",
      "\u001b[1;32m<ipython-input-7-d6c0839ae6e9>\u001b[0m in \u001b[0;36m<module>\u001b[1;34m\u001b[0m\n\u001b[1;32m----> 1\u001b[1;33m \u001b[0mtrain_env\u001b[0m \u001b[1;33m=\u001b[0m \u001b[0mTradingEnv\u001b[0m\u001b[1;33m(\u001b[0m\u001b[0mlookback_window\u001b[0m\u001b[1;33m=\u001b[0m\u001b[0mlookback_window\u001b[0m\u001b[1;33m,\u001b[0m \u001b[0mdf\u001b[0m\u001b[1;33m=\u001b[0m\u001b[0mtrain_df\u001b[0m\u001b[1;33m,\u001b[0m \u001b[0mpreprocessed_df\u001b[0m\u001b[1;33m=\u001b[0m\u001b[0mpreprocessing\u001b[0m\u001b[1;33m(\u001b[0m\u001b[0mtrain_df\u001b[0m\u001b[1;33m)\u001b[0m\u001b[1;33m,\u001b[0m \u001b[0massets\u001b[0m\u001b[1;33m=\u001b[0m\u001b[0massets\u001b[0m\u001b[1;33m,\u001b[0m \u001b[0mfee\u001b[0m\u001b[1;33m=\u001b[0m\u001b[0mfee\u001b[0m\u001b[1;33m,\u001b[0m \u001b[0mobs_flatten\u001b[0m\u001b[1;33m=\u001b[0m\u001b[1;32mFalse\u001b[0m\u001b[1;33m)\u001b[0m\u001b[1;33m\u001b[0m\u001b[1;33m\u001b[0m\u001b[0m\n\u001b[0m\u001b[0;32m      2\u001b[0m \u001b[0meval_env\u001b[0m \u001b[1;33m=\u001b[0m \u001b[0mTradingEnv\u001b[0m\u001b[1;33m(\u001b[0m\u001b[0mlookback_window\u001b[0m\u001b[1;33m=\u001b[0m\u001b[0mlookback_window\u001b[0m\u001b[1;33m,\u001b[0m \u001b[0mdf\u001b[0m\u001b[1;33m=\u001b[0m\u001b[0meval_df\u001b[0m\u001b[1;33m,\u001b[0m \u001b[0mpreprocessed_df\u001b[0m\u001b[1;33m=\u001b[0m\u001b[0mpreprocessing\u001b[0m\u001b[1;33m(\u001b[0m\u001b[0meval_df\u001b[0m\u001b[1;33m)\u001b[0m\u001b[1;33m,\u001b[0m \u001b[0massets\u001b[0m\u001b[1;33m=\u001b[0m\u001b[0massets\u001b[0m\u001b[1;33m,\u001b[0m \u001b[0mfee\u001b[0m\u001b[1;33m=\u001b[0m\u001b[0mfee\u001b[0m\u001b[1;33m,\u001b[0m \u001b[0mobs_flatten\u001b[0m\u001b[1;33m=\u001b[0m\u001b[1;32mFalse\u001b[0m\u001b[1;33m)\u001b[0m\u001b[1;33m\u001b[0m\u001b[1;33m\u001b[0m\u001b[0m\n",
      "\u001b[1;31mTypeError\u001b[0m: __init__() got an unexpected keyword argument 'obs_flatten'"
     ]
    }
   ],
   "metadata": {}
  },
  {
   "cell_type": "code",
   "execution_count": null,
   "source": [
    "from models.cnn_features_extractor import CustomCNN"
   ],
   "outputs": [],
   "metadata": {}
  },
  {
   "cell_type": "code",
   "execution_count": null,
   "source": [
    "policy_kwargs = dict(\r\n",
    "    features_extractor_class=CustomCNN,\r\n",
    "    features_extractor_kwargs=dict(features_dim=128),\r\n",
    ")\r\n",
    "model = PPO(\"CnnPolicy\", train_env, verbose=0, tensorboard_log=\"./logs\", policy_kwargs=policy_kwargs)\r\n",
    "model_name = model.__class__.__name__\r\n",
    "model.learn(10000)\r\n",
    "model.save(f\"./results/{model_name}\")\r\n",
    "del model"
   ],
   "outputs": [],
   "metadata": {}
  },
  {
   "cell_type": "code",
   "execution_count": null,
   "source": [
    "model = PPO.load(\"./results/PPO\")\r\n",
    "stats_train = backtest(model, train_env, assets, fee, plot=True, plot_filename=f\"./results/BackTest-{model_name}-train\")\r\n",
    "stats_eval = backtest(model, eval_env, assets, fee, plot=True, plot_filename=f\"./results/BackTest-{model_name}-eval\")\r\n",
    "\r\n",
    "stats = pd.DataFrame()\r\n",
    "stats[\"train\"] = stats_train\r\n",
    "stats[\"eval\"] = stats_eval\r\n",
    "stats = stats.drop([\"Best Trade [%]\", \"Worst Trade [%]\", \"_strategy\", \"_equity_curve\", \"_trades\"], axis=0)\r\n",
    "print(model_name)\r\n",
    "print(stats)"
   ],
   "outputs": [
    {
     "output_type": "stream",
     "name": "stdout",
     "text": [
      "PPO\n",
      "                                      train                 eval\n",
      "Start                   2021-01-01 00:00:00  2021-04-01 00:00:00\n",
      "End                     2021-03-31 23:00:00  2021-06-30 00:00:00\n",
      "Duration                   89 days 23:00:00     90 days 00:00:00\n",
      "Exposure Time [%]                 87.546296            87.875983\n",
      "Equity Final [$]                8406.227844          5574.452909\n",
      "Equity Peak [$]                14686.509833         12143.905628\n",
      "Return [%]                       -15.937722           -44.255471\n",
      "Buy & Hold Return [%]            149.948745            21.191475\n",
      "Return (Ann.) [%]                -50.544363           -90.405551\n",
      "Volatility (Ann.) [%]             51.791585            11.474288\n",
      "Sharpe Ratio                            0.0                  0.0\n",
      "Sortino Ratio                           0.0                  0.0\n",
      "Calmar Ratio                            0.0                  0.0\n",
      "Max. Drawdown [%]                -48.860988            -58.56959\n",
      "Avg. Drawdown [%]                 -5.301335            -6.571299\n",
      "Max. Drawdown Duration     40 days 23:00:00     52 days 16:00:00\n",
      "Avg. Drawdown Duration      3 days 01:00:00      5 days 04:00:00\n",
      "# Trades                                417                  431\n",
      "Win Rate [%]                      48.681055            46.635731\n",
      "Avg. Trade [%]                    -0.038652            -0.192139\n",
      "Max. Trade Duration         1 days 01:00:00      1 days 04:00:00\n",
      "Avg. Trade Duration         0 days 04:00:00      0 days 04:00:00\n",
      "Profit Factor                      0.989424             0.837149\n",
      "Expectancy [%]                     -0.00872            -0.157011\n",
      "SQN                                  -0.318             -1.13355\n"
     ]
    }
   ],
   "metadata": {}
  }
 ],
 "metadata": {
  "orig_nbformat": 4,
  "language_info": {
   "name": "python",
   "version": "3.8.5",
   "mimetype": "text/x-python",
   "codemirror_mode": {
    "name": "ipython",
    "version": 3
   },
   "pygments_lexer": "ipython3",
   "nbconvert_exporter": "python",
   "file_extension": ".py"
  },
  "kernelspec": {
   "name": "python3",
   "display_name": "Python 3.8.5 64-bit ('drl-trading': conda)"
  },
  "interpreter": {
   "hash": "e45917c04d38222114aa5092d372c38c1fe51cd799a955b9958f10f4348c0bb7"
  }
 },
 "nbformat": 4,
 "nbformat_minor": 2
}