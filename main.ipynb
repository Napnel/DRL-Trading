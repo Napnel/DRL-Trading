{
 "cells": [
  {
   "cell_type": "code",
   "execution_count": 1,
   "source": [
    "import pandas as pd\r\n",
    "import os\r\n",
    "\r\n",
    "from envs import TradingEnv\r\n",
    "from utils import preprocessing\r\n",
    "\r\n",
    "from stable_baselines3 import DQN, A2C, PPO\r\n",
    "from sb3_contrib import QRDQN"
   ],
   "outputs": [],
   "metadata": {}
  },
  {
   "cell_type": "code",
   "execution_count": null,
   "source": [
    "log_dir = \"./logs/\"\r\n",
    "os.makedirs(log_dir, exist_ok=True)\r\n",
    "lookback_window = 20\r\n",
    "# fee = 0.00019\r\n",
    "fee = 0.000665\r\n",
    "assets = 10000"
   ],
   "outputs": [],
   "metadata": {}
  },
  {
   "cell_type": "code",
   "execution_count": null,
   "source": [
    "df = pd.read_csv(\"./data/3600/ethusd/2021-01-01.csv\", parse_dates=[0]).set_index(\"Date\")\r\n",
    "train_df = df[: len(df) // 2]\r\n",
    "eval_df = df[len(df) // 2 :]\r\n",
    "print(train_df.head(3))\r\n",
    "print(eval_df.head(3))"
   ],
   "outputs": [
    {
     "output_type": "stream",
     "name": "stdout",
     "text": [
      "                       Open    High     Low   Close    Volume\n",
      "Date                                                         \n",
      "2021-01-01 00:00:00  734.21  734.28  723.79  731.63  3015.608\n",
      "2021-01-01 01:00:00  731.42  739.26  731.42  736.66   912.377\n",
      "2021-01-01 02:00:00  737.14  737.46  725.51  727.42  4502.349\n",
      "                       Open    High     Low   Close    Volume\n",
      "Date                                                         \n",
      "2021-04-01 00:00:00  1829.2  1839.7  1825.0  1834.7   929.029\n",
      "2021-04-01 01:00:00  1834.6  1854.5  1833.0  1849.6  2446.906\n",
      "2021-04-01 02:00:00  1849.9  1862.6  1838.6  1846.2  1712.854\n"
     ]
    }
   ],
   "metadata": {}
  },
  {
   "cell_type": "code",
   "execution_count": null,
   "source": [
    "train_env = TradingEnv(lookback_window=lookback_window, df=train_df, preprocessed_df=preprocessing(train_df), assets=assets, fee=fee)\r\n",
    "# train_env = make_vec_env(lambda: train_env, n_envs=1)\r\n",
    "\r\n",
    "eval_env = TradingEnv(lookback_window=lookback_window, df=eval_df, preprocessed_df=preprocessing(eval_df), assets=assets, fee=fee)\r\n",
    "# eval_env = make_vec_env(lambda: eval_env, n_envs=1)"
   ],
   "outputs": [],
   "metadata": {}
  },
  {
   "cell_type": "code",
   "execution_count": null,
   "source": [
    "from utils import backtest"
   ],
   "outputs": [],
   "metadata": {}
  },
  {
   "cell_type": "code",
   "execution_count": null,
   "source": [
    "models = [DQN, A2C, PPO, QRDQN]\r\n",
    "for model_class in models:\r\n",
    "    model = model_class(\"MlpPolicy\", train_env, verbose=0, tensorboard_log=\"./logs\")\r\n",
    "    model_name = model.__class__.__name__\r\n",
    "    model.learn(5000)\r\n",
    "    model.save(f\"./results/{model_name}\")\r\n",
    "\r\n",
    "    stats_train = backtest(model, train_env, assets, fee, plot=False, plot_filename=f\"./results/BackTest-{model_name}-train\")\r\n",
    "    stats_eval = backtest(model, eval_env, assets, fee, plot=False, plot_filename=f\"./results/BackTest-{model_name}-eval\")\r\n",
    "\r\n",
    "    stats = pd.DataFrame()\r\n",
    "    stats[\"train\"] = stats_train\r\n",
    "    stats[\"eval\"] = stats_eval\r\n",
    "    stats = stats.drop([\"Best Trade [%]\", \"Worst Trade [%]\", \"_strategy\", \"_equity_curve\", \"_trades\"], axis=0)\r\n",
    "    print(model_name)\r\n",
    "    print(stats)"
   ],
   "outputs": [
    {
     "output_type": "stream",
     "name": "stdout",
     "text": [
      "DQN\n",
      "                                      train                 eval\n",
      "Start                   2021-01-01 00:00:00  2021-04-01 00:00:00\n",
      "End                     2021-03-31 23:00:00  2021-06-30 00:00:00\n",
      "Duration                   89 days 23:00:00     90 days 00:00:00\n",
      "Exposure Time [%]                 95.277778            88.246182\n",
      "Equity Final [$]                  2462.1602         11160.863056\n",
      "Equity Peak [$]                10012.971749         14627.769389\n",
      "Return [%]                       -75.378398            11.608631\n",
      "Buy & Hold Return [%]            149.948745            21.191475\n",
      "Return (Ann.) [%]                -99.661806            55.351435\n",
      "Volatility (Ann.) [%]              0.562059           196.285187\n",
      "Sharpe Ratio                            0.0             0.281995\n",
      "Sortino Ratio                           0.0             0.950665\n",
      "Calmar Ratio                            0.0             1.317467\n",
      "Max. Drawdown [%]                -76.802745            -42.01354\n",
      "Avg. Drawdown [%]                -38.793464            -6.795839\n",
      "Max. Drawdown Duration     89 days 00:00:00     53 days 12:00:00\n",
      "Avg. Drawdown Duration     44 days 13:00:00      5 days 04:00:00\n",
      "# Trades                                 28                   37\n",
      "Win Rate [%]                      35.714286            48.648649\n",
      "Avg. Trade [%]                    -6.149053             0.688823\n",
      "Max. Trade Duration         7 days 10:00:00     13 days 06:00:00\n",
      "Avg. Trade Duration         3 days 01:00:00      2 days 03:00:00\n",
      "Profit Factor                      0.338842             1.376177\n",
      "Expectancy [%]                     -4.76555             1.137273\n",
      "SQN                               -1.492904             0.248629\n",
      "A2C\n",
      "                                      train                 eval\n",
      "Start                   2021-01-01 00:00:00  2021-04-01 00:00:00\n",
      "End                     2021-03-31 23:00:00  2021-06-30 00:00:00\n",
      "Duration                   89 days 23:00:00     90 days 00:00:00\n",
      "Exposure Time [%]                 79.953704            82.739472\n",
      "Equity Final [$]                7779.401531          7065.877394\n",
      "Equity Peak [$]                13427.368499         11403.224074\n",
      "Return [%]                       -22.205985           -29.341226\n",
      "Buy & Hold Return [%]            149.948745            21.191475\n",
      "Return (Ann.) [%]                -63.501868           -75.168276\n",
      "Volatility (Ann.) [%]             39.068462            33.707653\n",
      "Sharpe Ratio                            0.0                  0.0\n",
      "Sortino Ratio                           0.0                  0.0\n",
      "Calmar Ratio                            0.0                  0.0\n",
      "Max. Drawdown [%]                -49.288622            -42.07993\n",
      "Avg. Drawdown [%]                 -8.322278             -4.38009\n",
      "Max. Drawdown Duration     85 days 18:00:00     85 days 00:00:00\n",
      "Avg. Drawdown Duration     11 days 01:00:00      7 days 08:00:00\n",
      "# Trades                                283                  261\n",
      "Win Rate [%]                      49.116608            49.808429\n",
      "Avg. Trade [%]                    -0.096144            -0.160428\n",
      "Max. Trade Duration         1 days 03:00:00      2 days 08:00:00\n",
      "Avg. Trade Duration         0 days 06:00:00      0 days 06:00:00\n",
      "Profit Factor                      0.934909             0.906174\n",
      "Expectancy [%]                    -0.060669            -0.100893\n",
      "SQN                               -0.560424            -0.726267\n",
      "PPO\n",
      "                                      train                 eval\n",
      "Start                   2021-01-01 00:00:00  2021-04-01 00:00:00\n",
      "End                     2021-03-31 23:00:00  2021-06-30 00:00:00\n",
      "Duration                   89 days 23:00:00     90 days 00:00:00\n",
      "Exposure Time [%]                 87.407407            86.534012\n",
      "Equity Final [$]                4324.628851          5359.387828\n",
      "Equity Peak [$]                 11162.22656         11569.273342\n",
      "Return [%]                       -56.753711           -46.406122\n",
      "Buy & Hold Return [%]            149.948745            21.191475\n",
      "Return (Ann.) [%]                -96.705673            -91.89788\n",
      "Volatility (Ann.) [%]              3.531623             9.816696\n",
      "Sharpe Ratio                            0.0                  0.0\n",
      "Sortino Ratio                           0.0                  0.0\n",
      "Calmar Ratio                            0.0                  0.0\n",
      "Max. Drawdown [%]                -61.256575           -56.753344\n",
      "Avg. Drawdown [%]                -14.252728            -5.215257\n",
      "Max. Drawdown Duration     86 days 15:00:00     74 days 11:00:00\n",
      "Avg. Drawdown Duration     17 days 18:00:00      5 days 21:00:00\n",
      "# Trades                                454                  467\n",
      "Win Rate [%]                      48.678414            49.036403\n",
      "Avg. Trade [%]                    -0.210159            -0.158713\n",
      "Max. Trade Duration         0 days 20:00:00      0 days 16:00:00\n",
      "Avg. Trade Duration         0 days 04:00:00      0 days 04:00:00\n",
      "Profit Factor                      0.789396             0.856268\n",
      "Expectancy [%]                    -0.183519             -0.12775\n",
      "SQN                               -1.745706            -1.293393\n",
      "QRDQN\n",
      "                                      train                 eval\n",
      "Start                   2021-01-01 00:00:00  2021-04-01 00:00:00\n",
      "End                     2021-03-31 23:00:00  2021-06-30 00:00:00\n",
      "Duration                   89 days 23:00:00     90 days 00:00:00\n",
      "Exposure Time [%]                      55.0            99.028228\n",
      "Equity Final [$]                 963.499121          7178.897717\n",
      "Equity Peak [$]                10268.486951         10039.584413\n",
      "Return [%]                       -90.365009           -28.211023\n",
      "Buy & Hold Return [%]            149.948745            21.191475\n",
      "Return (Ann.) [%]                 -99.99229           -73.194883\n",
      "Volatility (Ann.) [%]              0.033602            77.830019\n",
      "Sharpe Ratio                            0.0                  0.0\n",
      "Sortino Ratio                           0.0                  0.0\n",
      "Calmar Ratio                            0.0                  0.0\n",
      "Max. Drawdown [%]                -91.103859           -67.558871\n",
      "Avg. Drawdown [%]                 -18.80629           -67.558871\n",
      "Max. Drawdown Duration     88 days 04:00:00     89 days 03:00:00\n",
      "Avg. Drawdown Duration     17 days 20:00:00     89 days 03:00:00\n",
      "# Trades                                  5                    6\n",
      "Win Rate [%]                           40.0            33.333333\n",
      "Avg. Trade [%]                   -38.805827            -5.508042\n",
      "Max. Trade Duration        37 days 08:00:00     47 days 04:00:00\n",
      "Avg. Trade Duration         9 days 21:00:00     14 days 20:00:00\n",
      "Profit Factor                      0.092245             0.505016\n",
      "Expectancy [%]                   -25.416962            -4.262367\n",
      "SQN                                -1.55462            -0.974592\n"
     ]
    }
   ],
   "metadata": {}
  },
  {
   "cell_type": "code",
   "execution_count": null,
   "source": [
    "train_env = TradingEnv(lookback_window=lookback_window, df=train_df, preprocessed_df=preprocessing(train_df), assets=assets, fee=fee)\r\n",
    "eval_env = TradingEnv(lookback_window=lookback_window, df=eval_df, preprocessed_df=preprocessing(eval_df), assets=assets, fee=fee)"
   ],
   "outputs": [
    {
     "output_type": "error",
     "ename": "TypeError",
     "evalue": "__init__() got an unexpected keyword argument 'obs_flatten'",
     "traceback": [
      "\u001b[1;31m---------------------------------------------------------------------------\u001b[0m",
      "\u001b[1;31mTypeError\u001b[0m                                 Traceback (most recent call last)",
      "\u001b[1;32m<ipython-input-7-d6c0839ae6e9>\u001b[0m in \u001b[0;36m<module>\u001b[1;34m\u001b[0m\n\u001b[1;32m----> 1\u001b[1;33m \u001b[0mtrain_env\u001b[0m \u001b[1;33m=\u001b[0m \u001b[0mTradingEnv\u001b[0m\u001b[1;33m(\u001b[0m\u001b[0mlookback_window\u001b[0m\u001b[1;33m=\u001b[0m\u001b[0mlookback_window\u001b[0m\u001b[1;33m,\u001b[0m \u001b[0mdf\u001b[0m\u001b[1;33m=\u001b[0m\u001b[0mtrain_df\u001b[0m\u001b[1;33m,\u001b[0m \u001b[0mpreprocessed_df\u001b[0m\u001b[1;33m=\u001b[0m\u001b[0mpreprocessing\u001b[0m\u001b[1;33m(\u001b[0m\u001b[0mtrain_df\u001b[0m\u001b[1;33m)\u001b[0m\u001b[1;33m,\u001b[0m \u001b[0massets\u001b[0m\u001b[1;33m=\u001b[0m\u001b[0massets\u001b[0m\u001b[1;33m,\u001b[0m \u001b[0mfee\u001b[0m\u001b[1;33m=\u001b[0m\u001b[0mfee\u001b[0m\u001b[1;33m,\u001b[0m \u001b[0mobs_flatten\u001b[0m\u001b[1;33m=\u001b[0m\u001b[1;32mFalse\u001b[0m\u001b[1;33m)\u001b[0m\u001b[1;33m\u001b[0m\u001b[1;33m\u001b[0m\u001b[0m\n\u001b[0m\u001b[0;32m      2\u001b[0m \u001b[0meval_env\u001b[0m \u001b[1;33m=\u001b[0m \u001b[0mTradingEnv\u001b[0m\u001b[1;33m(\u001b[0m\u001b[0mlookback_window\u001b[0m\u001b[1;33m=\u001b[0m\u001b[0mlookback_window\u001b[0m\u001b[1;33m,\u001b[0m \u001b[0mdf\u001b[0m\u001b[1;33m=\u001b[0m\u001b[0meval_df\u001b[0m\u001b[1;33m,\u001b[0m \u001b[0mpreprocessed_df\u001b[0m\u001b[1;33m=\u001b[0m\u001b[0mpreprocessing\u001b[0m\u001b[1;33m(\u001b[0m\u001b[0meval_df\u001b[0m\u001b[1;33m)\u001b[0m\u001b[1;33m,\u001b[0m \u001b[0massets\u001b[0m\u001b[1;33m=\u001b[0m\u001b[0massets\u001b[0m\u001b[1;33m,\u001b[0m \u001b[0mfee\u001b[0m\u001b[1;33m=\u001b[0m\u001b[0mfee\u001b[0m\u001b[1;33m,\u001b[0m \u001b[0mobs_flatten\u001b[0m\u001b[1;33m=\u001b[0m\u001b[1;32mFalse\u001b[0m\u001b[1;33m)\u001b[0m\u001b[1;33m\u001b[0m\u001b[1;33m\u001b[0m\u001b[0m\n",
      "\u001b[1;31mTypeError\u001b[0m: __init__() got an unexpected keyword argument 'obs_flatten'"
     ]
    }
   ],
   "metadata": {}
  },
  {
   "cell_type": "code",
   "execution_count": null,
   "source": [
    "from models.cnn_features_extractor import CustomCNN"
   ],
   "outputs": [],
   "metadata": {}
  },
  {
   "cell_type": "code",
   "execution_count": null,
   "source": [
    "policy_kwargs = dict(\r\n",
    "    features_extractor_class=CustomCNN,\r\n",
    "    features_extractor_kwargs=dict(features_dim=128),\r\n",
    ")\r\n",
    "model = PPO(\"CnnPolicy\", train_env, verbose=0, tensorboard_log=\"./logs\", policy_kwargs=policy_kwargs)\r\n",
    "model_name = model.__class__.__name__\r\n",
    "model.learn(10000)\r\n",
    "model.save(f\"./results/{model_name}\")\r\n",
    "del model"
   ],
   "outputs": [],
   "metadata": {}
  },
  {
   "cell_type": "code",
   "execution_count": null,
   "source": [
    "model = PPO.load(\"./results/PPO\")\r\n",
    "stats_train = backtest(model, train_env, assets, fee, plot=True, plot_filename=f\"./results/BackTest-{model_name}-train\")\r\n",
    "stats_eval = backtest(model, eval_env, assets, fee, plot=True, plot_filename=f\"./results/BackTest-{model_name}-eval\")\r\n",
    "\r\n",
    "stats = pd.DataFrame()\r\n",
    "stats[\"train\"] = stats_train\r\n",
    "stats[\"eval\"] = stats_eval\r\n",
    "stats = stats.drop([\"Best Trade [%]\", \"Worst Trade [%]\", \"_strategy\", \"_equity_curve\", \"_trades\"], axis=0)\r\n",
    "print(model_name)\r\n",
    "print(stats)"
   ],
   "outputs": [
    {
     "output_type": "stream",
     "name": "stdout",
     "text": [
      "PPO\n",
      "                                      train                 eval\n",
      "Start                   2021-01-01 00:00:00  2021-04-01 00:00:00\n",
      "End                     2021-03-31 23:00:00  2021-06-30 00:00:00\n",
      "Duration                   89 days 23:00:00     90 days 00:00:00\n",
      "Exposure Time [%]                 87.546296            87.875983\n",
      "Equity Final [$]                8406.227844          5574.452909\n",
      "Equity Peak [$]                14686.509833         12143.905628\n",
      "Return [%]                       -15.937722           -44.255471\n",
      "Buy & Hold Return [%]            149.948745            21.191475\n",
      "Return (Ann.) [%]                -50.544363           -90.405551\n",
      "Volatility (Ann.) [%]             51.791585            11.474288\n",
      "Sharpe Ratio                            0.0                  0.0\n",
      "Sortino Ratio                           0.0                  0.0\n",
      "Calmar Ratio                            0.0                  0.0\n",
      "Max. Drawdown [%]                -48.860988            -58.56959\n",
      "Avg. Drawdown [%]                 -5.301335            -6.571299\n",
      "Max. Drawdown Duration     40 days 23:00:00     52 days 16:00:00\n",
      "Avg. Drawdown Duration      3 days 01:00:00      5 days 04:00:00\n",
      "# Trades                                417                  431\n",
      "Win Rate [%]                      48.681055            46.635731\n",
      "Avg. Trade [%]                    -0.038652            -0.192139\n",
      "Max. Trade Duration         1 days 01:00:00      1 days 04:00:00\n",
      "Avg. Trade Duration         0 days 04:00:00      0 days 04:00:00\n",
      "Profit Factor                      0.989424             0.837149\n",
      "Expectancy [%]                     -0.00872            -0.157011\n",
      "SQN                                  -0.318             -1.13355\n"
     ]
    }
   ],
   "metadata": {}
  }
 ],
 "metadata": {
  "orig_nbformat": 4,
  "language_info": {
   "name": "python",
   "version": "3.7.10",
   "mimetype": "text/x-python",
   "codemirror_mode": {
    "name": "ipython",
    "version": 3
   },
   "pygments_lexer": "ipython3",
   "nbconvert_exporter": "python",
   "file_extension": ".py"
  },
  "kernelspec": {
   "name": "python3",
   "display_name": "Python 3.7.10 64-bit ('drl-trading': conda)"
  },
  "interpreter": {
   "hash": "e82865e532b7e394095be646e23b93da3726393d2bbb7df037ebf7989b111349"
  }
 },
 "nbformat": 4,
 "nbformat_minor": 2
}