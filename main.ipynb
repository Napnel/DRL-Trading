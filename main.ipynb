{
 "cells": [
  {
   "cell_type": "code",
   "execution_count": 1,
   "source": [
    "import pandas as pd\r\n",
    "\r\n",
    "from stable_baselines3 import DQN, PPO, A2C\r\n",
    "from sb3_contrib import QRDQN\r\n",
    "\r\n",
    "from utils.data_loader import DataLoader\r\n",
    "from utils.feature_enginner import FeatureEngineer\r\n",
    "from envs.base import BaseTradingEnv\r\n",
    "from models.features_extractor import CustomCNN"
   ],
   "outputs": [
    {
     "output_type": "display_data",
     "data": {
      "text/html": [
       "\n",
       "    <div class=\"bk-root\">\n",
       "        <a href=\"https://bokeh.org\" target=\"_blank\" class=\"bk-logo bk-logo-small bk-logo-notebook\"></a>\n",
       "        <span id=\"1002\">Loading BokehJS ...</span>\n",
       "    </div>"
      ]
     },
     "metadata": {}
    },
    {
     "output_type": "display_data",
     "data": {
      "application/javascript": "\n(function(root) {\n  function now() {\n    return new Date();\n  }\n\n  var force = true;\n\n  if (typeof root._bokeh_onload_callbacks === \"undefined\" || force === true) {\n    root._bokeh_onload_callbacks = [];\n    root._bokeh_is_loading = undefined;\n  }\n\n  var JS_MIME_TYPE = 'application/javascript';\n  var HTML_MIME_TYPE = 'text/html';\n  var EXEC_MIME_TYPE = 'application/vnd.bokehjs_exec.v0+json';\n  var CLASS_NAME = 'output_bokeh rendered_html';\n\n  /**\n   * Render data to the DOM node\n   */\n  function render(props, node) {\n    var script = document.createElement(\"script\");\n    node.appendChild(script);\n  }\n\n  /**\n   * Handle when an output is cleared or removed\n   */\n  function handleClearOutput(event, handle) {\n    var cell = handle.cell;\n\n    var id = cell.output_area._bokeh_element_id;\n    var server_id = cell.output_area._bokeh_server_id;\n    // Clean up Bokeh references\n    if (id != null && id in Bokeh.index) {\n      Bokeh.index[id].model.document.clear();\n      delete Bokeh.index[id];\n    }\n\n    if (server_id !== undefined) {\n      // Clean up Bokeh references\n      var cmd = \"from bokeh.io.state import curstate; print(curstate().uuid_to_server['\" + server_id + \"'].get_sessions()[0].document.roots[0]._id)\";\n      cell.notebook.kernel.execute(cmd, {\n        iopub: {\n          output: function(msg) {\n            var id = msg.content.text.trim();\n            if (id in Bokeh.index) {\n              Bokeh.index[id].model.document.clear();\n              delete Bokeh.index[id];\n            }\n          }\n        }\n      });\n      // Destroy server and session\n      var cmd = \"import bokeh.io.notebook as ion; ion.destroy_server('\" + server_id + \"')\";\n      cell.notebook.kernel.execute(cmd);\n    }\n  }\n\n  /**\n   * Handle when a new output is added\n   */\n  function handleAddOutput(event, handle) {\n    var output_area = handle.output_area;\n    var output = handle.output;\n\n    // limit handleAddOutput to display_data with EXEC_MIME_TYPE content only\n    if ((output.output_type != \"display_data\") || (!Object.prototype.hasOwnProperty.call(output.data, EXEC_MIME_TYPE))) {\n      return\n    }\n\n    var toinsert = output_area.element.find(\".\" + CLASS_NAME.split(' ')[0]);\n\n    if (output.metadata[EXEC_MIME_TYPE][\"id\"] !== undefined) {\n      toinsert[toinsert.length - 1].firstChild.textContent = output.data[JS_MIME_TYPE];\n      // store reference to embed id on output_area\n      output_area._bokeh_element_id = output.metadata[EXEC_MIME_TYPE][\"id\"];\n    }\n    if (output.metadata[EXEC_MIME_TYPE][\"server_id\"] !== undefined) {\n      var bk_div = document.createElement(\"div\");\n      bk_div.innerHTML = output.data[HTML_MIME_TYPE];\n      var script_attrs = bk_div.children[0].attributes;\n      for (var i = 0; i < script_attrs.length; i++) {\n        toinsert[toinsert.length - 1].firstChild.setAttribute(script_attrs[i].name, script_attrs[i].value);\n        toinsert[toinsert.length - 1].firstChild.textContent = bk_div.children[0].textContent\n      }\n      // store reference to server id on output_area\n      output_area._bokeh_server_id = output.metadata[EXEC_MIME_TYPE][\"server_id\"];\n    }\n  }\n\n  function register_renderer(events, OutputArea) {\n\n    function append_mime(data, metadata, element) {\n      // create a DOM node to render to\n      var toinsert = this.create_output_subarea(\n        metadata,\n        CLASS_NAME,\n        EXEC_MIME_TYPE\n      );\n      this.keyboard_manager.register_events(toinsert);\n      // Render to node\n      var props = {data: data, metadata: metadata[EXEC_MIME_TYPE]};\n      render(props, toinsert[toinsert.length - 1]);\n      element.append(toinsert);\n      return toinsert\n    }\n\n    /* Handle when an output is cleared or removed */\n    events.on('clear_output.CodeCell', handleClearOutput);\n    events.on('delete.Cell', handleClearOutput);\n\n    /* Handle when a new output is added */\n    events.on('output_added.OutputArea', handleAddOutput);\n\n    /**\n     * Register the mime type and append_mime function with output_area\n     */\n    OutputArea.prototype.register_mime_type(EXEC_MIME_TYPE, append_mime, {\n      /* Is output safe? */\n      safe: true,\n      /* Index of renderer in `output_area.display_order` */\n      index: 0\n    });\n  }\n\n  // register the mime type if in Jupyter Notebook environment and previously unregistered\n  if (root.Jupyter !== undefined) {\n    var events = require('base/js/events');\n    var OutputArea = require('notebook/js/outputarea').OutputArea;\n\n    if (OutputArea.prototype.mime_types().indexOf(EXEC_MIME_TYPE) == -1) {\n      register_renderer(events, OutputArea);\n    }\n  }\n\n  \n  if (typeof (root._bokeh_timeout) === \"undefined\" || force === true) {\n    root._bokeh_timeout = Date.now() + 5000;\n    root._bokeh_failed_load = false;\n  }\n\n  var NB_LOAD_WARNING = {'data': {'text/html':\n     \"<div style='background-color: #fdd'>\\n\"+\n     \"<p>\\n\"+\n     \"BokehJS does not appear to have successfully loaded. If loading BokehJS from CDN, this \\n\"+\n     \"may be due to a slow or bad network connection. Possible fixes:\\n\"+\n     \"</p>\\n\"+\n     \"<ul>\\n\"+\n     \"<li>re-rerun `output_notebook()` to attempt to load from CDN again, or</li>\\n\"+\n     \"<li>use INLINE resources instead, as so:</li>\\n\"+\n     \"</ul>\\n\"+\n     \"<code>\\n\"+\n     \"from bokeh.resources import INLINE\\n\"+\n     \"output_notebook(resources=INLINE)\\n\"+\n     \"</code>\\n\"+\n     \"</div>\"}};\n\n  function display_loaded() {\n    var el = document.getElementById(\"1002\");\n    if (el != null) {\n      el.textContent = \"BokehJS is loading...\";\n    }\n    if (root.Bokeh !== undefined) {\n      if (el != null) {\n        el.textContent = \"BokehJS \" + root.Bokeh.version + \" successfully loaded.\";\n      }\n    } else if (Date.now() < root._bokeh_timeout) {\n      setTimeout(display_loaded, 100)\n    }\n  }\n\n\n  function run_callbacks() {\n    try {\n      root._bokeh_onload_callbacks.forEach(function(callback) {\n        if (callback != null)\n          callback();\n      });\n    } finally {\n      delete root._bokeh_onload_callbacks\n    }\n    console.debug(\"Bokeh: all callbacks have finished\");\n  }\n\n  function load_libs(css_urls, js_urls, callback) {\n    if (css_urls == null) css_urls = [];\n    if (js_urls == null) js_urls = [];\n\n    root._bokeh_onload_callbacks.push(callback);\n    if (root._bokeh_is_loading > 0) {\n      console.debug(\"Bokeh: BokehJS is being loaded, scheduling callback at\", now());\n      return null;\n    }\n    if (js_urls == null || js_urls.length === 0) {\n      run_callbacks();\n      return null;\n    }\n    console.debug(\"Bokeh: BokehJS not loaded, scheduling load and callback at\", now());\n    root._bokeh_is_loading = css_urls.length + js_urls.length;\n\n    function on_load() {\n      root._bokeh_is_loading--;\n      if (root._bokeh_is_loading === 0) {\n        console.debug(\"Bokeh: all BokehJS libraries/stylesheets loaded\");\n        run_callbacks()\n      }\n    }\n\n    function on_error(url) {\n      console.error(\"failed to load \" + url);\n    }\n\n    for (let i = 0; i < css_urls.length; i++) {\n      const url = css_urls[i];\n      const element = document.createElement(\"link\");\n      element.onload = on_load;\n      element.onerror = on_error.bind(null, url);\n      element.rel = \"stylesheet\";\n      element.type = \"text/css\";\n      element.href = url;\n      console.debug(\"Bokeh: injecting link tag for BokehJS stylesheet: \", url);\n      document.body.appendChild(element);\n    }\n\n    const hashes = {\"https://cdn.bokeh.org/bokeh/release/bokeh-2.3.3.min.js\": \"dM3QQsP+wXdHg42wTqW85BjZQdLNNIXqlPw/BgKoExPmTG7ZLML4EGqLMfqHT6ON\", \"https://cdn.bokeh.org/bokeh/release/bokeh-tables-2.3.3.min.js\": \"8x57I4YuIfu8XyZfFo0XVr2WAT8EK4rh/uDe3wF7YuW2FNUSNEpJbsPaB1nJ2fz2\", \"https://cdn.bokeh.org/bokeh/release/bokeh-widgets-2.3.3.min.js\": \"3QTqdz9LyAm2i0sG5XTePsHec3UHWwVsrOL68SYRoAXsafvfAyqtQ+h440+qIBhS\"};\n\n    for (let i = 0; i < js_urls.length; i++) {\n      const url = js_urls[i];\n      const element = document.createElement('script');\n      element.onload = on_load;\n      element.onerror = on_error.bind(null, url);\n      element.async = false;\n      element.src = url;\n      if (url in hashes) {\n        element.crossOrigin = \"anonymous\";\n        element.integrity = \"sha384-\" + hashes[url];\n      }\n      console.debug(\"Bokeh: injecting script tag for BokehJS library: \", url);\n      document.head.appendChild(element);\n    }\n  };\n\n  function inject_raw_css(css) {\n    const element = document.createElement(\"style\");\n    element.appendChild(document.createTextNode(css));\n    document.body.appendChild(element);\n  }\n\n  \n  var js_urls = [\"https://cdn.bokeh.org/bokeh/release/bokeh-2.3.3.min.js\", \"https://cdn.bokeh.org/bokeh/release/bokeh-widgets-2.3.3.min.js\", \"https://cdn.bokeh.org/bokeh/release/bokeh-tables-2.3.3.min.js\"];\n  var css_urls = [];\n  \n\n  var inline_js = [\n    function(Bokeh) {\n      Bokeh.set_log_level(\"info\");\n    },\n    function(Bokeh) {\n    \n    \n    }\n  ];\n\n  function run_inline_js() {\n    \n    if (root.Bokeh !== undefined || force === true) {\n      \n    for (var i = 0; i < inline_js.length; i++) {\n      inline_js[i].call(root, root.Bokeh);\n    }\n    if (force === true) {\n        display_loaded();\n      }} else if (Date.now() < root._bokeh_timeout) {\n      setTimeout(run_inline_js, 100);\n    } else if (!root._bokeh_failed_load) {\n      console.log(\"Bokeh: BokehJS failed to load within specified timeout.\");\n      root._bokeh_failed_load = true;\n    } else if (force !== true) {\n      var cell = $(document.getElementById(\"1002\")).parents('.cell').data().cell;\n      cell.output_area.append_execute_result(NB_LOAD_WARNING)\n    }\n\n  }\n\n  if (root._bokeh_is_loading === 0) {\n    console.debug(\"Bokeh: BokehJS loaded, going straight to plotting\");\n    run_inline_js();\n  } else {\n    load_libs(css_urls, js_urls, function() {\n      console.debug(\"Bokeh: BokehJS plotting callback run at\", now());\n      run_inline_js();\n    });\n  }\n}(window));",
      "application/vnd.bokehjs_load.v0+json": ""
     },
     "metadata": {}
    }
   ],
   "metadata": {}
  },
  {
   "cell_type": "markdown",
   "source": [
    "### Prepare Dataset"
   ],
   "metadata": {}
  },
  {
   "cell_type": "code",
   "execution_count": 2,
   "source": [
    "# load the data\r\n",
    "df = DataLoader.load_data(\"./data/3600/ethusd/2021-01-01.csv\")\r\n",
    "df_train = df[: len(df) // 2]\r\n",
    "df_eval = df[len(df) // 2 :]\r\n",
    "\r\n",
    "# extract feature from the data\r\n",
    "feature_enginner = FeatureEngineer(df_train, df_eval)\r\n",
    "data_train = feature_enginner.entire_data[\"train\"]\r\n",
    "data_val = feature_enginner.entire_data[\"val\"]\r\n",
    "features_train = feature_enginner.entire_normalized_features[\"train\"]\r\n",
    "features_eval = feature_enginner.entire_normalized_features[\"val\"]"
   ],
   "outputs": [],
   "metadata": {}
  },
  {
   "cell_type": "code",
   "execution_count": 3,
   "source": [
    "data_train.head()"
   ],
   "outputs": [
    {
     "output_type": "execute_result",
     "data": {
      "text/plain": [
       "                       Open    High     Low   Close    Volume\n",
       "Date                                                         \n",
       "2021-01-03 01:00:00  763.26  770.72  762.63  769.78  3796.167\n",
       "2021-01-03 02:00:00  770.36  784.59  765.70  783.61  7542.043\n",
       "2021-01-03 03:00:00  782.81  786.05  776.31  780.64  4480.900\n",
       "2021-01-03 04:00:00  781.17  785.52  773.85  780.87   954.168\n",
       "2021-01-03 05:00:00  781.07  788.88  778.58  786.51  1414.752"
      ],
      "text/html": [
       "<div>\n",
       "<style scoped>\n",
       "    .dataframe tbody tr th:only-of-type {\n",
       "        vertical-align: middle;\n",
       "    }\n",
       "\n",
       "    .dataframe tbody tr th {\n",
       "        vertical-align: top;\n",
       "    }\n",
       "\n",
       "    .dataframe thead th {\n",
       "        text-align: right;\n",
       "    }\n",
       "</style>\n",
       "<table border=\"1\" class=\"dataframe\">\n",
       "  <thead>\n",
       "    <tr style=\"text-align: right;\">\n",
       "      <th></th>\n",
       "      <th>Open</th>\n",
       "      <th>High</th>\n",
       "      <th>Low</th>\n",
       "      <th>Close</th>\n",
       "      <th>Volume</th>\n",
       "    </tr>\n",
       "    <tr>\n",
       "      <th>Date</th>\n",
       "      <th></th>\n",
       "      <th></th>\n",
       "      <th></th>\n",
       "      <th></th>\n",
       "      <th></th>\n",
       "    </tr>\n",
       "  </thead>\n",
       "  <tbody>\n",
       "    <tr>\n",
       "      <th>2021-01-03 01:00:00</th>\n",
       "      <td>763.26</td>\n",
       "      <td>770.72</td>\n",
       "      <td>762.63</td>\n",
       "      <td>769.78</td>\n",
       "      <td>3796.167</td>\n",
       "    </tr>\n",
       "    <tr>\n",
       "      <th>2021-01-03 02:00:00</th>\n",
       "      <td>770.36</td>\n",
       "      <td>784.59</td>\n",
       "      <td>765.70</td>\n",
       "      <td>783.61</td>\n",
       "      <td>7542.043</td>\n",
       "    </tr>\n",
       "    <tr>\n",
       "      <th>2021-01-03 03:00:00</th>\n",
       "      <td>782.81</td>\n",
       "      <td>786.05</td>\n",
       "      <td>776.31</td>\n",
       "      <td>780.64</td>\n",
       "      <td>4480.900</td>\n",
       "    </tr>\n",
       "    <tr>\n",
       "      <th>2021-01-03 04:00:00</th>\n",
       "      <td>781.17</td>\n",
       "      <td>785.52</td>\n",
       "      <td>773.85</td>\n",
       "      <td>780.87</td>\n",
       "      <td>954.168</td>\n",
       "    </tr>\n",
       "    <tr>\n",
       "      <th>2021-01-03 05:00:00</th>\n",
       "      <td>781.07</td>\n",
       "      <td>788.88</td>\n",
       "      <td>778.58</td>\n",
       "      <td>786.51</td>\n",
       "      <td>1414.752</td>\n",
       "    </tr>\n",
       "  </tbody>\n",
       "</table>\n",
       "</div>"
      ]
     },
     "metadata": {},
     "execution_count": 3
    }
   ],
   "metadata": {}
  },
  {
   "cell_type": "code",
   "execution_count": 4,
   "source": [
    "features_train.head()"
   ],
   "outputs": [
    {
     "output_type": "execute_result",
     "data": {
      "text/plain": [
       "                     Price Log Diff  Volume Log Diff  SMA-20 Log Diff  \\\n",
       "Date                                                                    \n",
       "2021-01-03 01:00:00       -0.731082         0.399727         1.240058   \n",
       "2021-01-03 02:00:00       -1.343157        -0.969791         1.705924   \n",
       "2021-01-03 03:00:00        0.331145         0.735070         1.469065   \n",
       "2021-01-03 04:00:00        0.014022         2.184168         1.367556   \n",
       "2021-01-03 05:00:00       -0.520892        -0.556514         1.480696   \n",
       "\n",
       "                     SMA-50 Log Diff      MACD       RSI  \\\n",
       "Date                                                       \n",
       "2021-01-03 01:00:00         0.639219  0.741964  1.273165   \n",
       "2021-01-03 02:00:00         0.973054  0.902788  1.679600   \n",
       "2021-01-03 03:00:00         0.871528  0.918387  1.470357   \n",
       "2021-01-03 04:00:00         0.848126  0.874230  1.477364   \n",
       "2021-01-03 05:00:00         0.967852  0.850743  1.649243   \n",
       "\n",
       "                     BB Sigma-1 Upper Bound  BB Sigma-1 Lower Bound  \\\n",
       "Date                                                                  \n",
       "2021-01-03 01:00:00                1.166905                1.140390   \n",
       "2021-01-03 02:00:00                1.482730                1.696311   \n",
       "2021-01-03 03:00:00                1.186970                1.552980   \n",
       "2021-01-03 04:00:00                1.036559                1.516252   \n",
       "2021-01-03 05:00:00                1.085110                1.681039   \n",
       "\n",
       "                     BB Sigma-2 Upper Bound  BB Sigma-2 Lower Bound  \n",
       "Date                                                                 \n",
       "2021-01-03 01:00:00                1.005889                0.935612  \n",
       "2021-01-03 02:00:00                1.177664                1.504663  \n",
       "2021-01-03 03:00:00                0.861988                1.451831  \n",
       "2021-01-03 04:00:00                0.686979                1.471406  \n",
       "2021-01-03 05:00:00                0.681729                1.660860  "
      ],
      "text/html": [
       "<div>\n",
       "<style scoped>\n",
       "    .dataframe tbody tr th:only-of-type {\n",
       "        vertical-align: middle;\n",
       "    }\n",
       "\n",
       "    .dataframe tbody tr th {\n",
       "        vertical-align: top;\n",
       "    }\n",
       "\n",
       "    .dataframe thead th {\n",
       "        text-align: right;\n",
       "    }\n",
       "</style>\n",
       "<table border=\"1\" class=\"dataframe\">\n",
       "  <thead>\n",
       "    <tr style=\"text-align: right;\">\n",
       "      <th></th>\n",
       "      <th>Price Log Diff</th>\n",
       "      <th>Volume Log Diff</th>\n",
       "      <th>SMA-20 Log Diff</th>\n",
       "      <th>SMA-50 Log Diff</th>\n",
       "      <th>MACD</th>\n",
       "      <th>RSI</th>\n",
       "      <th>BB Sigma-1 Upper Bound</th>\n",
       "      <th>BB Sigma-1 Lower Bound</th>\n",
       "      <th>BB Sigma-2 Upper Bound</th>\n",
       "      <th>BB Sigma-2 Lower Bound</th>\n",
       "    </tr>\n",
       "    <tr>\n",
       "      <th>Date</th>\n",
       "      <th></th>\n",
       "      <th></th>\n",
       "      <th></th>\n",
       "      <th></th>\n",
       "      <th></th>\n",
       "      <th></th>\n",
       "      <th></th>\n",
       "      <th></th>\n",
       "      <th></th>\n",
       "      <th></th>\n",
       "    </tr>\n",
       "  </thead>\n",
       "  <tbody>\n",
       "    <tr>\n",
       "      <th>2021-01-03 01:00:00</th>\n",
       "      <td>-0.731082</td>\n",
       "      <td>0.399727</td>\n",
       "      <td>1.240058</td>\n",
       "      <td>0.639219</td>\n",
       "      <td>0.741964</td>\n",
       "      <td>1.273165</td>\n",
       "      <td>1.166905</td>\n",
       "      <td>1.140390</td>\n",
       "      <td>1.005889</td>\n",
       "      <td>0.935612</td>\n",
       "    </tr>\n",
       "    <tr>\n",
       "      <th>2021-01-03 02:00:00</th>\n",
       "      <td>-1.343157</td>\n",
       "      <td>-0.969791</td>\n",
       "      <td>1.705924</td>\n",
       "      <td>0.973054</td>\n",
       "      <td>0.902788</td>\n",
       "      <td>1.679600</td>\n",
       "      <td>1.482730</td>\n",
       "      <td>1.696311</td>\n",
       "      <td>1.177664</td>\n",
       "      <td>1.504663</td>\n",
       "    </tr>\n",
       "    <tr>\n",
       "      <th>2021-01-03 03:00:00</th>\n",
       "      <td>0.331145</td>\n",
       "      <td>0.735070</td>\n",
       "      <td>1.469065</td>\n",
       "      <td>0.871528</td>\n",
       "      <td>0.918387</td>\n",
       "      <td>1.470357</td>\n",
       "      <td>1.186970</td>\n",
       "      <td>1.552980</td>\n",
       "      <td>0.861988</td>\n",
       "      <td>1.451831</td>\n",
       "    </tr>\n",
       "    <tr>\n",
       "      <th>2021-01-03 04:00:00</th>\n",
       "      <td>0.014022</td>\n",
       "      <td>2.184168</td>\n",
       "      <td>1.367556</td>\n",
       "      <td>0.848126</td>\n",
       "      <td>0.874230</td>\n",
       "      <td>1.477364</td>\n",
       "      <td>1.036559</td>\n",
       "      <td>1.516252</td>\n",
       "      <td>0.686979</td>\n",
       "      <td>1.471406</td>\n",
       "    </tr>\n",
       "    <tr>\n",
       "      <th>2021-01-03 05:00:00</th>\n",
       "      <td>-0.520892</td>\n",
       "      <td>-0.556514</td>\n",
       "      <td>1.480696</td>\n",
       "      <td>0.967852</td>\n",
       "      <td>0.850743</td>\n",
       "      <td>1.649243</td>\n",
       "      <td>1.085110</td>\n",
       "      <td>1.681039</td>\n",
       "      <td>0.681729</td>\n",
       "      <td>1.660860</td>\n",
       "    </tr>\n",
       "  </tbody>\n",
       "</table>\n",
       "</div>"
      ]
     },
     "metadata": {},
     "execution_count": 4
    }
   ],
   "metadata": {}
  },
  {
   "cell_type": "markdown",
   "source": [
    "### Define Environmnet"
   ],
   "metadata": {}
  },
  {
   "cell_type": "markdown",
   "source": [
    "#### Hyperparameter for Envirionment"
   ],
   "metadata": {}
  },
  {
   "cell_type": "code",
   "execution_count": 5,
   "source": [
    "window_size = 20\r\n",
    "fee = 0.000665"
   ],
   "outputs": [],
   "metadata": {}
  },
  {
   "cell_type": "markdown",
   "source": [
    "If you want to change the action, define it.  \r\n",
    "The default is BUY and SELL only."
   ],
   "metadata": {}
  },
  {
   "cell_type": "code",
   "execution_count": 6,
   "source": [
    "from enum import Enum\r\n",
    "class Actions(Enum):\r\n",
    "    Sell = 0\r\n",
    "    Buy = 1\r\n",
    "    # Hold = 2"
   ],
   "outputs": [],
   "metadata": {}
  },
  {
   "cell_type": "code",
   "execution_count": 7,
   "source": [
    "class TradingEnv(BaseTradingEnv):\r\n",
    "    def _calculate_reward(self):\r\n",
    "        # reward = 0.0\r\n",
    "        reward = self.position.profit_or_loss_pct\r\n",
    "        if self.closed_trades.empty:\r\n",
    "            return reward\r\n",
    "\r\n",
    "        trade = self.closed_trades.iloc[-1, :]\r\n",
    "        return reward if trade[\"ExitTime\"] != self.current_datetime else trade[\"ReturnPct\"]"
   ],
   "outputs": [],
   "metadata": {}
  },
  {
   "cell_type": "code",
   "execution_count": 8,
   "source": [
    "train_env = TradingEnv(data_train, features_train, window_size=window_size, fee=fee, actions=Actions)\r\n",
    "eval_env = TradingEnv(data_val, features_eval, window_size=window_size, fee=fee, actions=Actions)"
   ],
   "outputs": [],
   "metadata": {}
  },
  {
   "cell_type": "markdown",
   "source": [
    "### Define Agent"
   ],
   "metadata": {}
  },
  {
   "cell_type": "code",
   "execution_count": 9,
   "source": [
    "# policy_kwargs = dict(\r\n",
    "#     features_extractor_class=CustomCNN,\r\n",
    "#     features_extractor_kwargs=dict(features_dim=32),\r\n",
    "# )\r\n",
    "# model = PPO(\"CnnPolicy\", train_env, verbose=0, tensorboard_log=\"./logs\", policy_kwargs=policy_kwargs)\r\n",
    "# model = PPO(\"MlpPolicy\", train_env, verbose=1, tensorboard_log=\"./logs\")\r\n",
    "# model_class = DQN\r\n",
    "# model = model_class(\"MlpPolicy\", train_env, tensorboard_log=\"./logs\", target_update_interval=500, learning_starts=500, learning_rate=1e-3)\r\n",
    "model_class = A2C\r\n",
    "model = model_class('MlpPolicy', train_env, tensorboard_log='./logs')\r\n",
    "model_name = model.__class__.__name__"
   ],
   "outputs": [],
   "metadata": {}
  },
  {
   "cell_type": "markdown",
   "source": [
    "### Training And Evaluation"
   ],
   "metadata": {}
  },
  {
   "cell_type": "code",
   "execution_count": 10,
   "source": [
    "model.learn(total_timesteps=15000, eval_env=eval_env, eval_freq=1000, n_eval_episodes=1)\r\n",
    "model.save(f\"./results/{model_name}\")\r\n",
    "del model"
   ],
   "outputs": [
    {
     "output_type": "stream",
     "name": "stdout",
     "text": [
      "Eval num_timesteps=1000, episode_reward=66.97 +/- 0.00\n",
      "Episode length: 2452.00 +/- 0.00\n",
      "New best mean reward!\n",
      "Eval num_timesteps=2000, episode_reward=54.74 +/- 0.00\n",
      "Episode length: 2452.00 +/- 0.00\n",
      "Eval num_timesteps=3000, episode_reward=53.14 +/- 0.00\n",
      "Episode length: 2452.00 +/- 0.00\n",
      "Eval num_timesteps=4000, episode_reward=62.89 +/- 0.00\n",
      "Episode length: 2452.00 +/- 0.00\n",
      "Eval num_timesteps=5000, episode_reward=82.59 +/- 0.00\n",
      "Episode length: 2452.00 +/- 0.00\n",
      "New best mean reward!\n",
      "Eval num_timesteps=6000, episode_reward=80.94 +/- 0.00\n",
      "Episode length: 2452.00 +/- 0.00\n",
      "Eval num_timesteps=7000, episode_reward=79.12 +/- 0.00\n",
      "Episode length: 2452.00 +/- 0.00\n",
      "Eval num_timesteps=8000, episode_reward=104.40 +/- 0.00\n",
      "Episode length: 2452.00 +/- 0.00\n",
      "New best mean reward!\n",
      "Eval num_timesteps=9000, episode_reward=106.59 +/- 0.00\n",
      "Episode length: 2452.00 +/- 0.00\n",
      "New best mean reward!\n",
      "Eval num_timesteps=10000, episode_reward=109.77 +/- 0.00\n",
      "Episode length: 2452.00 +/- 0.00\n",
      "New best mean reward!\n",
      "Eval num_timesteps=11000, episode_reward=105.22 +/- 0.00\n",
      "Episode length: 2452.00 +/- 0.00\n",
      "Eval num_timesteps=12000, episode_reward=107.56 +/- 0.00\n",
      "Episode length: 2452.00 +/- 0.00\n",
      "Eval num_timesteps=13000, episode_reward=103.80 +/- 0.00\n",
      "Episode length: 2452.00 +/- 0.00\n",
      "Eval num_timesteps=14000, episode_reward=119.40 +/- 0.00\n",
      "Episode length: 2452.00 +/- 0.00\n",
      "New best mean reward!\n",
      "Eval num_timesteps=15000, episode_reward=108.69 +/- 0.00\n",
      "Episode length: 2452.00 +/- 0.00\n"
     ]
    }
   ],
   "metadata": {}
  },
  {
   "cell_type": "code",
   "execution_count": 11,
   "source": [
    "model = model_class.load(f\"./results/{model_name}\")\r\n",
    "print(model)"
   ],
   "outputs": [
    {
     "output_type": "stream",
     "name": "stdout",
     "text": [
      "<stable_baselines3.a2c.a2c.A2C object at 0x0000026A86A5F438>\n"
     ]
    }
   ],
   "metadata": {}
  },
  {
   "cell_type": "code",
   "execution_count": 12,
   "source": [
    "from utils import backtest"
   ],
   "outputs": [],
   "metadata": {}
  },
  {
   "cell_type": "code",
   "execution_count": 13,
   "source": [
    "stats_train = backtest(model, train_env, plot=True, plot_filename=f\"./results/BackTest-{model_name}-train\")\r\n",
    "stats_eval = backtest(model, eval_env, plot=True, plot_filename=f\"./results/BackTest-{model_name}-eval\")\r\n",
    "\r\n",
    "stats = pd.DataFrame()\r\n",
    "stats[\"train\"] = stats_train\r\n",
    "stats[\"eval\"] = stats_eval\r\n",
    "stats"
   ],
   "outputs": [
    {
     "output_type": "error",
     "ename": "NameError",
     "evalue": "name 'pd' is not defined",
     "traceback": [
      "\u001b[1;31m---------------------------------------------------------------------------\u001b[0m",
      "\u001b[1;31mNameError\u001b[0m                                 Traceback (most recent call last)",
      "\u001b[1;32m~\\AppData\\Local\\Temp/ipykernel_10320/1579208176.py\u001b[0m in \u001b[0;36m<module>\u001b[1;34m\u001b[0m\n\u001b[0;32m      2\u001b[0m \u001b[0mstats_eval\u001b[0m \u001b[1;33m=\u001b[0m \u001b[0mbacktest\u001b[0m\u001b[1;33m(\u001b[0m\u001b[0mmodel\u001b[0m\u001b[1;33m,\u001b[0m \u001b[0meval_env\u001b[0m\u001b[1;33m,\u001b[0m \u001b[0mplot\u001b[0m\u001b[1;33m=\u001b[0m\u001b[1;32mTrue\u001b[0m\u001b[1;33m,\u001b[0m \u001b[0mplot_filename\u001b[0m\u001b[1;33m=\u001b[0m\u001b[1;34mf\"./results/BackTest-{model_name}-eval\"\u001b[0m\u001b[1;33m)\u001b[0m\u001b[1;33m\u001b[0m\u001b[0m\n\u001b[0;32m      3\u001b[0m \u001b[1;33m\u001b[0m\u001b[0m\n\u001b[1;32m----> 4\u001b[1;33m \u001b[0mstats\u001b[0m \u001b[1;33m=\u001b[0m \u001b[0mpd\u001b[0m\u001b[1;33m.\u001b[0m\u001b[0mDataFrame\u001b[0m\u001b[1;33m(\u001b[0m\u001b[1;33m)\u001b[0m\u001b[1;33m\u001b[0m\u001b[0m\n\u001b[0m\u001b[0;32m      5\u001b[0m \u001b[0mstats\u001b[0m\u001b[1;33m[\u001b[0m\u001b[1;34m\"train\"\u001b[0m\u001b[1;33m]\u001b[0m \u001b[1;33m=\u001b[0m \u001b[0mstats_train\u001b[0m\u001b[1;33m\u001b[0m\u001b[0m\n\u001b[0;32m      6\u001b[0m \u001b[0mstats\u001b[0m\u001b[1;33m[\u001b[0m\u001b[1;34m\"eval\"\u001b[0m\u001b[1;33m]\u001b[0m \u001b[1;33m=\u001b[0m \u001b[0mstats_eval\u001b[0m\u001b[1;33m\u001b[0m\u001b[0m\n",
      "\u001b[1;31mNameError\u001b[0m: name 'pd' is not defined"
     ]
    }
   ],
   "metadata": {}
  }
 ],
 "metadata": {
  "orig_nbformat": 4,
  "language_info": {
   "name": "python",
   "version": "3.7.0",
   "mimetype": "text/x-python",
   "codemirror_mode": {
    "name": "ipython",
    "version": 3
   },
   "pygments_lexer": "ipython3",
   "nbconvert_exporter": "python",
   "file_extension": ".py"
  },
  "kernelspec": {
   "name": "python3",
   "display_name": "Python 3.7.0 64-bit ('drl-trading': conda)"
  },
  "interpreter": {
   "hash": "e45917c04d38222114aa5092d372c38c1fe51cd799a955b9958f10f4348c0bb7"
  }
 },
 "nbformat": 4,
 "nbformat_minor": 2
}