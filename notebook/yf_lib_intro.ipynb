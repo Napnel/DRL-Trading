{
 "cells": [
  {
   "cell_type": "code",
   "execution_count": null,
   "source": [
    "import sys\r\n",
    "from yahoo_finance_api2 import share\r\n",
    "from yahoo_finance_api2.exceptions import YahooFinanceError\r\n",
    " \r\n",
    "my_share = share.Share('MSFT')\r\n",
    "symbol_data = None\r\n",
    " \r\n",
    "try:\r\n",
    "    symbol_data = my_share.get_historical(\r\n",
    "        share.PERIOD_TYPE_DAY, 10,\r\n",
    "        share.FREQUENCY_TYPE_MINUTE, 5)\r\n",
    "except YahooFinanceError as e:\r\n",
    "    print(e.message)\r\n",
    "    sys.exit(1)\r\n",
    " \r\n",
    "print(symbol_data)"
   ],
   "outputs": [],
   "metadata": {}
  },
  {
   "cell_type": "code",
   "execution_count": null,
   "source": [
    "import matplotlib.pyplot as plt\r\n",
    "from yahoo_finance_api2 import share\r\n",
    "from yahoo_finance_api2.exceptions import YahooFinanceError\r\n",
    "import pandas as pd\r\n",
    "\r\n",
    "data_list = [ \\\r\n",
    "    [\"4391.T\", \"LOGIZARD\"], \r\n",
    "    [\"4755.T\", \"RAKUTEN\"],\r\n",
    "    [\"2303.T\", \"DAWN\"]]\r\n",
    "\r\n",
    "fig, ax = plt.subplots(len(data_list), 1, figsize=(16, 8))\r\n",
    "for i, (company_code, company_name) in enumerate(data_list):\r\n",
    "    my_share = share.Share(company_code)\r\n",
    "\r\n",
    "    try:\r\n",
    "        symbol_data = my_share.get_historical(share.PERIOD_TYPE_WEEK, 1000,\r\n",
    "                                        share.FREQUENCY_TYPE_DAY, 1)\r\n",
    "        df = pd.DataFrame(symbol_data.values(), index=symbol_data.keys()).T\r\n",
    "        df.timestamp = pd.to_datetime(df.timestamp, unit='ms')\r\n",
    "        df.index = pd.DatetimeIndex(df.timestamp, name='timestamp').tz_localize('UTC').tz_convert('Asia/Tokyo')\r\n",
    "\r\n",
    "        ax[i].set_title( \"TSE {} ({})\".format(company_name, company_code))\r\n",
    "        ax[i].plot(df.index, df.close, '.')\r\n",
    "        ax[i].grid(True)\r\n",
    "        ax[i].set_ylabel(\"Stock Price [Yen]\")\r\n",
    "        ax[i].label_outer()\r\n",
    "        if i == (len(data_list) - 1):\r\n",
    "            ax[i].set_xlabel(\"Date\")\r\n",
    "    except YahooFinanceError as e:\r\n",
    "        print(e.message)\r\n",
    "        pass\r\n",
    "plt.show()"
   ],
   "outputs": [],
   "metadata": {}
  }
 ],
 "metadata": {
  "orig_nbformat": 4,
  "language_info": {
   "name": "python",
   "version": "3.8.5",
   "mimetype": "text/x-python",
   "codemirror_mode": {
    "name": "ipython",
    "version": 3
   },
   "pygments_lexer": "ipython3",
   "nbconvert_exporter": "python",
   "file_extension": ".py"
  },
  "kernelspec": {
   "name": "python3",
   "display_name": "Python 3.8.5 64-bit ('drl-trading': conda)"
  },
  "interpreter": {
   "hash": "e45917c04d38222114aa5092d372c38c1fe51cd799a955b9958f10f4348c0bb7"
  }
 },
 "nbformat": 4,
 "nbformat_minor": 2
}