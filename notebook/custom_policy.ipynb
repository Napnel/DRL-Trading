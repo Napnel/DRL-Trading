{
 "cells": [
  {
   "cell_type": "code",
   "execution_count": 1,
   "source": [
    "import gym\r\n",
    "import torch as th\r\n",
    "import torch.nn as nn\r\n",
    "\r\n",
    "from stable_baselines3 import PPO\r\n",
    "from stable_baselines3.common.torch_layers import BaseFeaturesExtractor\r\n",
    "from stable_baselines3.common.env_util import make_vec_env"
   ],
   "outputs": [],
   "metadata": {}
  },
  {
   "cell_type": "code",
   "execution_count": 2,
   "source": [
    "class CustomCNN(BaseFeaturesExtractor):\r\n",
    "    \"\"\"\r\n",
    "    :param observation_space: (gym.Space)\r\n",
    "    :param features_dim: (int) Number of features extracted.\r\n",
    "        This corresponds to the number of unit for the last layer.\r\n",
    "    \"\"\"\r\n",
    "\r\n",
    "    def __init__(self, observation_space: gym.spaces.Box, features_dim: int = 256):\r\n",
    "        super(CustomCNN, self).__init__(observation_space, features_dim)\r\n",
    "        # We assume CxHxW images (channels first)\r\n",
    "        # Re-ordering will be done by pre-preprocessing or wrapper\r\n",
    "        n_input_channels = observation_space.shape[0]\r\n",
    "        self.cnn = nn.Sequential(\r\n",
    "            nn.Conv2d(None, 32, kernel_size=8, stride=4, padding=0),\r\n",
    "            nn.ReLU(),\r\n",
    "            nn.Conv2d(32, 64, kernel_size=4, stride=2, padding=0),\r\n",
    "            nn.ReLU(),\r\n",
    "            nn.Flatten(),\r\n",
    "        )\r\n",
    "\r\n",
    "        # Compute shape by doing one forward pass\r\n",
    "        with th.no_grad():\r\n",
    "            n_flatten = self.cnn(\r\n",
    "                th.as_tensor(observation_space.sample()[None]).float()\r\n",
    "            ).shape[1]\r\n",
    "\r\n",
    "        self.linear = nn.Sequential(nn.Linear(n_flatten, features_dim), nn.ReLU())\r\n",
    "\r\n",
    "    def forward(self, observations: th.Tensor) -> th.Tensor:\r\n",
    "        return self.linear(self.cnn(observations))\r\n",
    "\r\n",
    "env = gym.make('BreakoutNoFrameskip-v4')\r\n",
    "# env = make_vec_env('BreakoutNoFrameskip-v4', 4)\r\n",
    "policy_kwargs = dict(\r\n",
    "    features_extractor_class=CustomCNN,\r\n",
    "    features_extractor_kwargs=dict(features_dim=128),\r\n",
    ")\r\n",
    "# model = PPO(\"CnnPolicy\", env, policy_kwargs=policy_kwargs)\r\n",
    "model = PPO(\"CnnPolicy\", env)\r\n",
    "print(model.policy)\r\n",
    "model.learn(500)\r\n",
    "model.save(\"Breakout_PPO\")\r\n",
    "del model"
   ],
   "outputs": [
    {
     "output_type": "stream",
     "name": "stdout",
     "text": [
      "ActorCriticCnnPolicy(\n",
      "  (features_extractor): NatureCNN(\n",
      "    (cnn): Sequential(\n",
      "      (0): Conv2d(3, 32, kernel_size=(8, 8), stride=(4, 4))\n",
      "      (1): ReLU()\n",
      "      (2): Conv2d(32, 64, kernel_size=(4, 4), stride=(2, 2))\n",
      "      (3): ReLU()\n",
      "      (4): Conv2d(64, 64, kernel_size=(3, 3), stride=(1, 1))\n",
      "      (5): ReLU()\n",
      "      (6): Flatten(start_dim=1, end_dim=-1)\n",
      "    )\n",
      "    (linear): Sequential(\n",
      "      (0): Linear(in_features=22528, out_features=512, bias=True)\n",
      "      (1): ReLU()\n",
      "    )\n",
      "  )\n",
      "  (mlp_extractor): MlpExtractor(\n",
      "    (shared_net): Sequential()\n",
      "    (policy_net): Sequential()\n",
      "    (value_net): Sequential()\n",
      "  )\n",
      "  (action_net): Linear(in_features=512, out_features=4, bias=True)\n",
      "  (value_net): Linear(in_features=512, out_features=1, bias=True)\n",
      ")\n"
     ]
    }
   ],
   "metadata": {}
  },
  {
   "cell_type": "code",
   "execution_count": 3,
   "source": [
    "env = gym.make('BreakoutNoFrameskip-v4')\r\n",
    "model = PPO.load(\"Breakout_PPO\")\r\n",
    "for episode in range(10):\r\n",
    "    step = 0\r\n",
    "    observation = env.reset()\r\n",
    "    while True:\r\n",
    "        env.render()\r\n",
    "        action = model.predict(observation)\r\n",
    "        observation, reward, done, info = env.step(action)\r\n",
    "        if done:\r\n",
    "            print(f\"Episode{episode} finished after {step} timesteps\")\r\n",
    "            break\r\n",
    "        step += 1\r\n",
    "\r\n",
    "env.close()"
   ],
   "outputs": [
    {
     "output_type": "stream",
     "name": "stderr",
     "text": [
      "C:\\Users\\yoshi\\miniconda3\\envs\\drl-trading\\lib\\site-packages\\pyglet\\image\\codecs\\wic.py:289: UserWarning: [WinError -2147417850] スレッド モードを設定してから変更することはできません。\n",
      "  warnings.warn(str(err))\n"
     ]
    },
    {
     "output_type": "stream",
     "name": "stdout",
     "text": [
      "Episode0 finished after 504 timesteps\n",
      "Episode1 finished after 691 timesteps\n",
      "Episode2 finished after 1189 timesteps\n",
      "Episode3 finished after 789 timesteps\n",
      "Episode4 finished after 681 timesteps\n",
      "Episode5 finished after 810 timesteps\n",
      "Episode6 finished after 494 timesteps\n",
      "Episode7 finished after 506 timesteps\n",
      "Episode8 finished after 634 timesteps\n",
      "Episode9 finished after 491 timesteps\n"
     ]
    }
   ],
   "metadata": {}
  },
  {
   "cell_type": "code",
   "execution_count": 6,
   "source": [
    "for i in range(10):\r\n",
    "    print(env.observation_space.sample().shape)"
   ],
   "outputs": [
    {
     "output_type": "stream",
     "name": "stdout",
     "text": [
      "(210, 160, 3)\n",
      "(210, 160, 3)\n",
      "(210, 160, 3)\n",
      "(210, 160, 3)\n",
      "(210, 160, 3)\n",
      "(210, 160, 3)\n",
      "(210, 160, 3)\n",
      "(210, 160, 3)\n",
      "(210, 160, 3)\n",
      "(210, 160, 3)\n"
     ]
    }
   ],
   "metadata": {}
  }
 ],
 "metadata": {
  "orig_nbformat": 4,
  "language_info": {
   "name": "python",
   "version": "3.8.5",
   "mimetype": "text/x-python",
   "codemirror_mode": {
    "name": "ipython",
    "version": 3
   },
   "pygments_lexer": "ipython3",
   "nbconvert_exporter": "python",
   "file_extension": ".py"
  },
  "kernelspec": {
   "name": "python3",
   "display_name": "Python 3.8.5 64-bit ('drl-trading': conda)"
  },
  "interpreter": {
   "hash": "e45917c04d38222114aa5092d372c38c1fe51cd799a955b9958f10f4348c0bb7"
  }
 },
 "nbformat": 4,
 "nbformat_minor": 2
}