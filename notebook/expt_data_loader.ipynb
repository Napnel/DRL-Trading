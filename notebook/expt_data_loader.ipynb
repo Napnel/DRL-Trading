{
 "cells": [
  {
   "cell_type": "code",
   "execution_count": null,
   "source": [
    "import sys\r\n",
    "import pathlib\r\n",
    "sys.path.append(str(pathlib.Path().resolve().parent))"
   ],
   "outputs": [],
   "metadata": {}
  }
 ],
 "metadata": {
  "orig_nbformat": 4,
  "language_info": {
   "name": "python"
  }
 },
 "nbformat": 4,
 "nbformat_minor": 2
}