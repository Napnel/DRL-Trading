{
 "cells": [
  {
   "cell_type": "code",
   "execution_count": null,
   "source": [
    "import quantstats as qs\r\n",
    "\r\n",
    "# extend pandas functionality with metrics, etc.\r\n",
    "qs.extend_pandas()\r\n",
    "\r\n",
    "# fetch the daily returns for a stock\r\n",
    "stock = qs.utils.download_returns('FB')\r\n",
    "\r\n",
    "# show sharpe ratio\r\n",
    "qs.stats.sharpe(stock)\r\n",
    "\r\n",
    "# or using extend_pandas() :)\r\n",
    "stock.sharpe()"
   ],
   "outputs": [],
   "metadata": {}
  }
 ],
 "metadata": {
  "orig_nbformat": 4,
  "language_info": {
   "name": "python"
  }
 },
 "nbformat": 4,
 "nbformat_minor": 2
}