{
 "cells": [
  {
   "cell_type": "code",
   "execution_count": 1,
   "source": [
    "from stable_baselines3.common.callbacks import BaseCallback\r\n",
    "\r\n",
    "\r\n",
    "class CustomCallback(BaseCallback):\r\n",
    "    \"\"\"\r\n",
    "    A custom callback that derives from ``BaseCallback``.\r\n",
    "\r\n",
    "    :param verbose: (int) Verbosity level 0: not output 1: info 2: debug\r\n",
    "    \"\"\"\r\n",
    "    def __init__(self, verbose=0):\r\n",
    "        super(CustomCallback, self).__init__(verbose)\r\n",
    "        # Those variables will be accessible in the callback\r\n",
    "        # (they are defined in the base class)\r\n",
    "        # The RL model\r\n",
    "        # self.model = None  # type: BaseAlgorithm\r\n",
    "        # An alias for self.model.get_env(), the environment used for training\r\n",
    "        # self.training_env = None  # type: Union[gym.Env, VecEnv, None]\r\n",
    "        # Number of time the callback was called\r\n",
    "        # self.n_calls = 0  # type: int\r\n",
    "        # self.num_timesteps = 0  # type: int\r\n",
    "        # local and global variables\r\n",
    "        # self.locals = None  # type: Dict[str, Any]\r\n",
    "        # self.globals = None  # type: Dict[str, Any]\r\n",
    "        # The logger object, used to report things in the terminal\r\n",
    "        # self.logger = None  # stable_baselines3.common.logger\r\n",
    "        # # Sometimes, for event callback, it is useful\r\n",
    "        # # to have access to the parent object\r\n",
    "        # self.parent = None  # type: Optional[BaseCallback]\r\n",
    "\r\n",
    "    def _on_training_start(self) -> None:\r\n",
    "        \"\"\"\r\n",
    "        This method is called before the first rollout starts.\r\n",
    "        \"\"\"\r\n",
    "        pass\r\n",
    "\r\n",
    "    def _on_rollout_start(self) -> None:\r\n",
    "        \"\"\"\r\n",
    "        A rollout is the collection of environment interaction\r\n",
    "        using the current policy.\r\n",
    "        This event is triggered before collecting new samples.\r\n",
    "        \"\"\"\r\n",
    "        pass\r\n",
    "\r\n",
    "    def _on_step(self) -> bool:\r\n",
    "        \"\"\"\r\n",
    "        This method will be called by the model after each call to `env.step()`.\r\n",
    "\r\n",
    "        For child callback (of an `EventCallback`), this will be called\r\n",
    "        when the event is triggered.\r\n",
    "\r\n",
    "        :return: (bool) If the callback returns False, training is aborted early.\r\n",
    "        \"\"\"\r\n",
    "        return True\r\n",
    "\r\n",
    "    def _on_rollout_end(self) -> None:\r\n",
    "        \"\"\"\r\n",
    "        This event is triggered before updating the policy.\r\n",
    "        \"\"\"\r\n",
    "        pass\r\n",
    "\r\n",
    "    def _on_training_end(self) -> None:\r\n",
    "        \"\"\"\r\n",
    "        This event is triggered before exiting the `learn()` method.\r\n",
    "        \"\"\"\r\n",
    "        pass"
   ],
   "outputs": [],
   "metadata": {}
  },
  {
   "cell_type": "code",
   "execution_count": 2,
   "source": [
    "import numpy as np\r\n",
    "\r\n",
    "from stable_baselines3 import SAC\r\n",
    "from stable_baselines3.common.callbacks import BaseCallback\r\n",
    "\r\n",
    "model = SAC(\"MlpPolicy\", \"Pendulum-v0\", tensorboard_log=\"../logs\", verbose=1)\r\n",
    "\r\n",
    "\r\n",
    "class TensorboardCallback(BaseCallback):\r\n",
    "    \"\"\"\r\n",
    "    Custom callback for plotting additional values in tensorboard.\r\n",
    "    \"\"\"\r\n",
    "\r\n",
    "    def __init__(self, verbose=0):\r\n",
    "        super(TensorboardCallback, self).__init__(verbose)\r\n",
    "\r\n",
    "    def _on_step(self) -> bool:\r\n",
    "        # Log scalar value (here a random variable)\r\n",
    "        value = np.random.random()\r\n",
    "        self.logger.record('random_value', value)\r\n",
    "        return True\r\n",
    "\r\n",
    "\r\n",
    "model.learn(50000, callback=TensorboardCallback())"
   ],
   "outputs": [
    {
     "output_type": "stream",
     "name": "stdout",
     "text": [
      "Using cpu device\n",
      "Creating environment from the given name 'Pendulum-v0'\n",
      "Wrapping the env with a `Monitor` wrapper\n",
      "Wrapping the env in a DummyVecEnv.\n",
      "Logging to ../logs\\SAC_1\n"
     ]
    }
   ],
   "metadata": {}
  }
 ],
 "metadata": {
  "orig_nbformat": 4,
  "language_info": {
   "name": "python",
   "version": "3.8.5",
   "mimetype": "text/x-python",
   "codemirror_mode": {
    "name": "ipython",
    "version": 3
   },
   "pygments_lexer": "ipython3",
   "nbconvert_exporter": "python",
   "file_extension": ".py"
  },
  "kernelspec": {
   "name": "python3",
   "display_name": "Python 3.8.5 64-bit ('drl-trading': conda)"
  },
  "interpreter": {
   "hash": "e45917c04d38222114aa5092d372c38c1fe51cd799a955b9958f10f4348c0bb7"
  }
 },
 "nbformat": 4,
 "nbformat_minor": 2
}