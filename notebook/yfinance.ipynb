{
 "cells": [
  {
   "cell_type": "code",
   "execution_count": 4,
   "source": [
    "import yfinance as yf\r\n",
    "\r\n",
    "ticker = yf.Ticker(\"7203.T\")\r\n",
    "hist = ticker.history(period=\"max\")\r\n",
    "print(hist)"
   ],
   "outputs": [
    {
     "output_type": "stream",
     "name": "stdout",
     "text": [
      "                    Open          High          Low        Close    Volume  \\\n",
      "Date                                                                         \n",
      "1999-05-06   2211.686623   2287.733154  2186.337779  2287.733154   3115000   \n",
      "1999-05-07   2275.058684   2281.395895  2186.337733  2205.349365   3033000   \n",
      "1999-05-10   2205.349418   2230.698262  2186.337785  2199.012207   1261000   \n",
      "1999-05-11   2218.023753   2230.698174  2180.000488  2180.000488   1686000   \n",
      "1999-05-12   2180.000419   2218.023682  2180.000419  2218.023682   2596000   \n",
      "...                  ...           ...          ...          ...       ...   \n",
      "2021-06-18  10130.000000  10130.000000  9833.000000  9833.000000  12226400   \n",
      "2021-06-21   9595.000000   9763.000000  9560.000000  9638.000000   9418100   \n",
      "2021-06-22   9915.000000   9985.000000  9842.000000  9960.000000   7651600   \n",
      "2021-06-23   9850.000000   9885.000000  9765.000000  9782.000000   6507000   \n",
      "2021-06-24   9900.000000   9901.000000  9811.000000  9824.000000   4480700   \n",
      "\n",
      "            Dividends  Stock Splits  \n",
      "Date                                 \n",
      "1999-05-06        0.0             0  \n",
      "1999-05-07        0.0             0  \n",
      "1999-05-10        0.0             0  \n",
      "1999-05-11        0.0             0  \n",
      "1999-05-12        0.0             0  \n",
      "...               ...           ...  \n",
      "2021-06-18        0.0             0  \n",
      "2021-06-21        0.0             0  \n",
      "2021-06-22        0.0             0  \n",
      "2021-06-23        0.0             0  \n",
      "2021-06-24        0.0             0  \n",
      "\n",
      "[5527 rows x 7 columns]\n"
     ]
    }
   ],
   "metadata": {}
  },
  {
   "cell_type": "code",
   "execution_count": 5,
   "source": [
    "financials = ticker.financials\r\n",
    "print(financials)"
   ],
   "outputs": [
    {
     "output_type": "stream",
     "name": "stdout",
     "text": [
      "                                              2021-03-31        2020-03-31  \\\n",
      "Research Development                                None              None   \n",
      "Effect Of Accounting Charges                        None              None   \n",
      "Income Before Tax                        2932355000000.0   2825759000000.0   \n",
      "Minority Interest                         883782000000.0    677064000000.0   \n",
      "Net Income                               2245261000000.0   2076183000000.0   \n",
      "Selling General Administrative           2634625000000.0   2973166000000.0   \n",
      "Gross Profit                             4832373000000.0   5407628000000.0   \n",
      "Ebit                                     2197748000000.0   2434462000000.0   \n",
      "Operating Income                         2197748000000.0   2434462000000.0   \n",
      "Other Operating Expenses                            None              None   \n",
      "Interest Expense                          -47537000000.0    -32217000000.0   \n",
      "Extraordinary Items                                 None              None   \n",
      "Non Recurring                                       None              None   \n",
      "Other Items                                         None              None   \n",
      "Income Tax Expense                        649976000000.0    683430000000.0   \n",
      "Total Revenue                           27214593000000.0  29929992000000.0   \n",
      "Total Operating Expenses                25016845000000.0  27495530000000.0   \n",
      "Cost Of Revenue                         22382220000000.0  24522364000000.0   \n",
      "Total Other Income Expense Net            734607000000.0    391297000000.0   \n",
      "Discontinued Operations                             None              None   \n",
      "Net Income From Continuing Ops           2282379000000.0   2142329000000.0   \n",
      "Net Income Applicable To Common Shares   2245261000000.0   2058899000000.0   \n",
      "\n",
      "                                              2019-03-31        2018-03-31  \n",
      "Research Development                                None              None  \n",
      "Effect Of Accounting Charges                        None              None  \n",
      "Income Before Tax                        2645531000000.0   3090512000000.0  \n",
      "Minority Interest                         718985000000.0    694120000000.0  \n",
      "Net Income                               1882873000000.0   2493983000000.0  \n",
      "Selling General Administrative           2986695000000.0   3090495000000.0  \n",
      "Gross Profit                             5443896000000.0   5490357000000.0  \n",
      "Ebit                                     2457201000000.0   2399862000000.0  \n",
      "Operating Income                         2457201000000.0   2399862000000.0  \n",
      "Other Operating Expenses                            None              None  \n",
      "Interest Expense                          -28078000000.0    -27586000000.0  \n",
      "Extraordinary Items                                 None              None  \n",
      "Non Recurring                                       None              None  \n",
      "Other Items                                         None              None  \n",
      "Income Tax Expense                        659944000000.0    504406000000.0  \n",
      "Total Revenue                           30225681000000.0  29379510000000.0  \n",
      "Total Operating Expenses                27768480000000.0  26979648000000.0  \n",
      "Cost Of Revenue                         24781785000000.0  23889153000000.0  \n",
      "Total Other Income Expense Net            188330000000.0    690650000000.0  \n",
      "Discontinued Operations                             None              None  \n",
      "Net Income From Continuing Ops           1985587000000.0   2586106000000.0  \n",
      "Net Income Applicable To Common Shares   1868085000000.0   2481692000000.0  \n"
     ]
    }
   ],
   "metadata": {}
  },
  {
   "cell_type": "code",
   "execution_count": 6,
   "source": [
    "balance_sheet = ticker.balance_sheet\r\n",
    "print(balance_sheet)"
   ],
   "outputs": [
    {
     "output_type": "stream",
     "name": "stdout",
     "text": [
      "                                    2021-03-31    2020-03-31    2019-03-31  \\\n",
      "Intangible Assets                 1.108634e+12           NaN           NaN   \n",
      "Capital Surplus                   4.972750e+11  4.893340e+11  4.871620e+11   \n",
      "Total Liab                        3.797881e+13  3.194275e+13  3.186981e+13   \n",
      "Total Stockholder Equity          2.340455e+13  2.006062e+13  1.934815e+13   \n",
      "Minority Interest                 8.837820e+11  6.770640e+11  7.189850e+11   \n",
      "Other Current Liab                3.717174e+12  4.102642e+12  4.479344e+12   \n",
      "Total Assets                      6.226714e+13  5.268044e+13  5.193695e+13   \n",
      "Common Stock                      3.970500e+11  3.970500e+11  3.970500e+11   \n",
      "Other Current Assets              7.450700e+11  2.469880e+11  1.425310e+11   \n",
      "Retained Earnings                 2.410418e+13  2.342761e+13  2.198752e+13   \n",
      "Other Liab                        3.050830e+12  2.746823e+12  2.887743e+12   \n",
      "Treasury Stock                   -1.593954e+12 -4.253379e+12 -3.523575e+12   \n",
      "Other Assets                      8.861660e+11  8.905140e+11  1.182809e+12   \n",
      "Cash                              3.274150e+12  2.774498e+12  2.790212e+12   \n",
      "Total Current Liabilities         2.146047e+13  1.790238e+13  1.822694e+13   \n",
      "Deferred Long Term Asset Charges  3.362240e+11  3.547850e+11  5.018720e+11   \n",
      "Other Stockholder Equity          1.307726e+12 -1.166273e+12 -9.166500e+11   \n",
      "Property Plant Equipment          7.195309e+12  6.571110e+12  6.178503e+12   \n",
      "Total Current Assets              2.277680e+13  1.864253e+13  1.887924e+13   \n",
      "Long Term Investments             1.324472e+13  1.184489e+13  1.090829e+13   \n",
      "Net Tangible Assets               2.229591e+13  2.006062e+13  1.934815e+13   \n",
      "Short Term Investments            4.215457e+12  1.477202e+12  2.234892e+12   \n",
      "Net Receivables                   3.071200e+12  2.659748e+12  2.940890e+12   \n",
      "Long Term Debt                    1.402581e+12  1.029678e+12  7.655860e+11   \n",
      "Inventory                         2.888028e+12  2.434918e+12  2.656396e+12   \n",
      "Accounts Payable                  4.045939e+12  2.434180e+12  2.645984e+12   \n",
      "Short Long Term Debt                       NaN  1.418710e+11  1.560380e+11   \n",
      "\n",
      "                                    2018-03-31  \n",
      "Intangible Assets                          NaN  \n",
      "Capital Surplus                   4.875020e+11  \n",
      "Total Liab                        3.087815e+13  \n",
      "Total Stockholder Equity          1.873598e+13  \n",
      "Minority Interest                 6.941200e+11  \n",
      "Other Current Liab                4.399669e+12  \n",
      "Total Assets                      5.030825e+13  \n",
      "Common Stock                      3.970500e+11  \n",
      "Other Current Assets              2.022920e+11  \n",
      "Retained Earnings                 1.947346e+13  \n",
      "Other Liab                        2.902003e+12  \n",
      "Treasury Stock                   -1.622034e+12  \n",
      "Other Assets                      1.067759e+12  \n",
      "Cash                              2.390524e+12  \n",
      "Total Current Liabilities         1.779689e+13  \n",
      "Deferred Long Term Asset Charges  4.941200e+11  \n",
      "Other Stockholder Equity          4.356990e+11  \n",
      "Property Plant Equipment          5.901958e+12  \n",
      "Total Current Assets              1.815266e+13  \n",
      "Long Term Investments             1.133854e+13  \n",
      "Net Tangible Assets               1.873598e+13  \n",
      "Short Term Investments            2.447703e+12  \n",
      "Net Receivables                   2.708900e+12  \n",
      "Long Term Debt                    5.910860e+11  \n",
      "Inventory                         2.539789e+12  \n",
      "Accounts Payable                  2.586657e+12  \n",
      "Short Long Term Debt              1.674550e+11  \n"
     ]
    }
   ],
   "metadata": {}
  },
  {
   "cell_type": "code",
   "execution_count": 7,
   "source": [
    "cashflow = ticker.cashflow\r\n",
    "print(cashflow)"
   ],
   "outputs": [
    {
     "output_type": "stream",
     "name": "stdout",
     "text": [
      "                                             2021-03-31    2020-03-31  \\\n",
      "Investments                               -6.672530e+11  2.334300e+11   \n",
      "Change To Liabilities                      3.841420e+11 -7.641000e+10   \n",
      "Total Cashflows From Investing Activities -4.684175e+12 -3.150861e+12   \n",
      "Net Borrowings                             3.201402e+12  1.558199e+12   \n",
      "Total Cash From Financing Activities       2.739174e+12  3.971380e+11   \n",
      "Change To Operating Activities            -1.209962e+12 -2.703900e+11   \n",
      "Issuance Of Stock                          1.998840e+11  1.998840e+11   \n",
      "Net Income                                 2.245261e+12  2.076183e+12   \n",
      "Change In Cash                             1.002406e+12  7.056750e+11   \n",
      "Effect Of Exchange Rate                    2.202450e+11 -1.312450e+11   \n",
      "Total Cash From Operating Activities       2.727162e+12  3.590643e+12   \n",
      "Depreciation                               1.644290e+12  1.605383e+12   \n",
      "Other Cashflows From Investing Activities -1.661218e+12 -1.661218e+12   \n",
      "Dividends Paid                            -6.255140e+11 -6.299870e+11   \n",
      "Change To Inventory                       -2.427690e+11 -1.140960e+11   \n",
      "Change To Account Receivables              5.027000e+09  2.488950e+11   \n",
      "Other Cashflows From Financing Activities -3.659800e+10 -5.494500e+10   \n",
      "Change To Netincome                       -9.882700e+10  2.228170e+11   \n",
      "Capital Expenditures                      -3.489498e+12 -3.595131e+12   \n",
      "Repurchase Of Stock                                 NaN -4.761290e+11   \n",
      "\n",
      "                                             2019-03-31    2018-03-31  \n",
      "Investments                                6.166420e+11 -3.322730e+11  \n",
      "Change To Liabilities                      9.488700e+10  4.664800e+10  \n",
      "Total Cashflows From Investing Activities -2.697241e+12 -3.660092e+12  \n",
      "Net Borrowings                             7.229710e+11  6.893390e+11  \n",
      "Total Cash From Financing Activities      -5.408390e+11 -4.491350e+11  \n",
      "Change To Operating Activities             4.084000e+11  4.857250e+11  \n",
      "Issuance Of Stock                          1.998840e+11  1.998840e+11  \n",
      "Net Income                                 1.882873e+12  2.493983e+12  \n",
      "Change In Cash                             4.868760e+11  7.031300e+10  \n",
      "Effect Of Exchange Rate                   -4.164100e+10 -4.358800e+10  \n",
      "Total Cash From Operating Activities       3.766597e+12  4.223128e+12  \n",
      "Depreciation                               1.792375e+12  1.734033e+12  \n",
      "Other Cashflows From Investing Activities -1.661218e+12 -1.661218e+12  \n",
      "Dividends Paid                            -6.448060e+11 -6.268920e+11  \n",
      "Change To Inventory                       -1.669020e+11 -1.711480e+11  \n",
      "Change To Account Receivables             -2.468450e+11 -1.054350e+11  \n",
      "Other Cashflows From Financing Activities -6.936700e+10 -6.376400e+10  \n",
      "Change To Netincome                        1.431380e+11 -4.994310e+11  \n",
      "Capital Expenditures                      -3.738887e+12 -3.598707e+12  \n",
      "Repurchase Of Stock                       -5.496370e+11 -4.478180e+11  \n"
     ]
    }
   ],
   "metadata": {}
  },
  {
   "cell_type": "code",
   "execution_count": 8,
   "source": [
    "info = ticker.info\r\n",
    "print(info)"
   ],
   "outputs": [
    {
     "output_type": "stream",
     "name": "stdout",
     "text": [
      "{'zip': '471-8571', 'sector': 'Consumer Cyclical', 'fullTimeEmployees': 366283, 'longBusinessSummary': 'Toyota Motor Corporation designs, manufactures, assembles, and sells passenger vehicles, minivans and commercial vehicles, and related parts and accessories. It operates in Automotive, Financial Services, and All Other segments. The company offers hybrid cars under the Prius, Prius PHV, C-HR, LC HV, LS HV, Camry, JPN TAXI, Avalon, Crown, Century HV, UX HV, Corolla SD, Corolla Sport, and WG HV names; fuel cell vehicles under the MIRAI and SORA names; and conventional engine vehicles, including subcompact and compact cars under the Yaris, Aqua, Passo, Roomy, Tank, Etios, Vios, AGYA, Rush, GLANZA, and Raize names. It also provides mini-vehicles, passenger vehicles, commercial vehicles, and auto parts under the Toyota name; mid-size cars under the Camry and REIZ names; luxury cars under the Lexus, Avalon, and Crown names; Century limousines; sports cars under the LC and Supra names; and recreational and sport-utility vehicles under the Sequoia, 4Runner, RAV4, Highlander, and Land Cruiser names. In addition, the company offers pickup trucks under the Tacoma and Tundra names; Minivans, Cabwagons, and Semi-Bonnet Wagon under the Alphard, Vellfire, Noah/Voxy, Esquire, Calya, Estima, Sienta, and Sienna names; and trucks and buses. Further, it provides financial services, such as retail financing and leasing, wholesale financing, insurance, and credit cards; and designs, manufactures, and sells prefabricated housing. Additionally, the company operates GAZOO.com, a web portal for automobile information. It operates in Japan, North America, Europe, Asia, Central and South America, Oceania, Africa, and the Middle East. The company was founded in 1933 and is headquartered in Toyota, Japan.', 'city': 'Toyota', 'phone': '81 565 28 2121', 'country': 'Japan', 'companyOfficers': [], 'website': 'http://global.toyota/en', 'maxAge': 1, 'address1': '1 Toyota-cho', 'industry': 'Auto Manufacturers', 'previousClose': 9782, 'regularMarketOpen': 9900, 'twoHundredDayAverage': 8336.518, 'trailingAnnualDividendYield': 0.02453486, 'payoutRatio': 0.29569998, 'volume24Hr': None, 'regularMarketDayHigh': 9901, 'navPrice': None, 'averageDailyVolume10Day': 7098875, 'totalAssets': None, 'regularMarketPreviousClose': 9782, 'fiftyDayAverage': 9230.694, 'trailingAnnualDividendRate': 240, 'open': 9900, 'toCurrency': None, 'averageVolume10days': 7098875, 'expireDate': None, 'yield': None, 'algorithm': None, 'dividendRate': 270, 'exDividendDate': 1617062400, 'beta': 0.744057, 'circulatingSupply': None, 'startDate': None, 'regularMarketDayLow': 9811, 'priceHint': 2, 'currency': 'JPY', 'trailingPE': 12.3624115, 'regularMarketVolume': 4480700, 'lastMarket': None, 'maxSupply': None, 'openInterest': None, 'marketCap': 27467412668416, 'volumeAllCurrencies': None, 'strikePrice': None, 'averageVolume': 6430451, 'priceToSalesTrailing12Months': 1.0092899, 'dayLow': 9811, 'ask': 9837, 'ytdReturn': None, 'askSize': 0, 'volume': 4480700, 'fiftyTwoWeekHigh': 10330, 'forwardPE': 11.744594, 'fromCurrency': None, 'fiveYearAvgDividendYield': 3.19, 'fiftyTwoWeekLow': 6217, 'bid': 9823, 'tradeable': False, 'dividendYield': 0.0276, 'bidSize': 0, 'dayHigh': 9901, 'exchange': 'JPX', 'shortName': 'TOYOTA MOTOR CORP', 'longName': 'Toyota Motor Corporation', 'exchangeTimezoneName': 'Asia/Tokyo', 'exchangeTimezoneShortName': 'JST', 'isEsgPopulated': False, 'gmtOffSetMilliseconds': '32400000', 'quoteType': 'EQUITY', 'symbol': '7203.T', 'messageBoardId': 'finmb_319676', 'market': 'jp_market', 'annualHoldingsTurnover': None, 'enterpriseToRevenue': 1.705, 'beta3Year': None, 'profitMargins': 0.0825, 'enterpriseToEbitda': 12.078, '52WeekChange': 0.43958795, 'morningStarRiskRating': None, 'forwardEps': 836.47, 'revenueQuarterlyGrowth': None, 'sharesOutstanding': 2795950080, 'fundInceptionDate': None, 'annualReportExpenseRatio': None, 'bookValue': 8370.879, 'sharesShort': None, 'sharesPercentSharesOut': None, 'fundFamily': None, 'lastFiscalYearEnd': 1617148800, 'heldPercentInstitutions': 0.23305, 'netIncomeToCommon': 2245261000704, 'trailingEps': 794.667, 'lastDividendValue': 135, 'SandP52WeekChange': 0.37703323, 'priceToBook': 1.1735924, 'heldPercentInsiders': 0.13639, 'nextFiscalYearEnd': 1680220800, 'mostRecentQuarter': 1617148800, 'shortRatio': None, 'sharesShortPreviousMonthDate': None, 'floatShares': 2129757973, 'enterpriseValue': 46403778772992, 'threeYearAverageReturn': None, 'lastSplitDate': None, 'lastSplitFactor': None, 'legalType': None, 'lastDividendDate': 1617062400, 'morningStarOverallRating': None, 'earningsQuarterlyGrowth': 11.303, 'dateShortInterest': None, 'pegRatio': None, 'lastCapGain': None, 'shortPercentOfFloat': None, 'sharesShortPriorMonth': None, 'impliedSharesOutstanding': None, 'category': None, 'fiveYearAverageReturn': None, 'regularMarketPrice': 9824, 'logo_url': 'https://logo.clearbit.com/global.toyota'}\n"
     ]
    }
   ],
   "metadata": {}
  }
 ],
 "metadata": {
  "orig_nbformat": 4,
  "language_info": {
   "name": "python"
  }
 },
 "nbformat": 4,
 "nbformat_minor": 2
}