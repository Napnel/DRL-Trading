{
 "cells": [
  {
   "cell_type": "code",
   "execution_count": 1,
   "source": [
    "import os\r\n",
    "import time\r\n",
    "import pandas as pd\r\n",
    "from datetime import datetime, timedelta\r\n",
    "import requests"
   ],
   "outputs": [],
   "metadata": {}
  },
  {
   "cell_type": "code",
   "execution_count": 2,
   "source": [
    "def fetch_candles(pair: str, before: int, after: int, periods: int, save: bool = False) -> pd.DataFrame:\r\n",
    "    '''\r\n",
    "    exchange: ftx\r\n",
    "    pair: fttusd-perpetual-futures\r\n",
    "    '''\r\n",
    "    url = f\"https://api.cryptowat.ch/markets/ftx/{pair}/ohlc\"\r\n",
    "    query = {'before': before, 'after': after, 'periods': periods}\r\n",
    "    candles = requests.get(url, params=query).json()[\"result\"][f\"{periods}\"]\r\n",
    "\r\n",
    "    t, o, h, l, c, v = [], [], [], [], [], []\r\n",
    "    for candle in candles:\r\n",
    "        t.append(datetime.fromtimestamp(candle[0]))\r\n",
    "        o.append(candle[1])\r\n",
    "        h.append(candle[2])\r\n",
    "        l.append(candle[3])\r\n",
    "        c.append(candle[4])\r\n",
    "        v.append(candle[5])\r\n",
    "\r\n",
    "    candles = pd.DataFrame({\"Date\": t, \"Open\": o, \"High\": h, \"Low\": l, \"Close\": c, \"Volume\": v}).set_index(\"Date\")\r\n",
    "\r\n",
    "    if save:\r\n",
    "        pth = f\"../data/{periods}/{pair}/\"\r\n",
    "        os.makedirs(pth, exist_ok=True)\r\n",
    "        candles.to_csv(pth + f\"{candles.index[0].strftime('%Y-%m-%d')}.csv\")\r\n",
    "\r\n",
    "    return candles"
   ],
   "outputs": [],
   "metadata": {}
  },
  {
   "cell_type": "code",
   "execution_count": 3,
   "source": [
    "pair = \"btcusd-perpetual-futures\"\r\n",
    "current_time = datetime.fromtimestamp(int(time.time()))\r\n",
    "after = current_time - timedelta(days=300)\r\n",
    "print(current_time)\r\n",
    "print(after)\r\n",
    "before = int(datetime.timestamp(current_time))\r\n",
    "after = int(datetime.timestamp(after))\r\n",
    "periods = 60 * 15\r\n",
    "print(before, after)\r\n",
    "print(before, after + 60 * 60 * 24)\r\n",
    "\r\n",
    "candles = fetch_candles(pair, before, after, periods)\r\n",
    "print(candles)"
   ],
   "outputs": [
    {
     "output_type": "stream",
     "name": "stdout",
     "text": [
      "2021-07-24 14:47:35\n",
      "2020-09-27 14:47:35\n",
      "1627105655 1601185655\n",
      "1627105655 1601272055\n",
      "                      Open   High    Low  Close    Volume\n",
      "Date                                                     \n",
      "2021-05-23 02:45:00  38225  38326  37818  37911  948.7391\n",
      "2021-05-23 03:00:00  37919  38149  37843  38010  403.8273\n",
      "2021-05-23 03:15:00  38008  38166  37687  37961  658.3518\n",
      "2021-05-23 03:30:00  37969  37976  37652  37677  353.5720\n",
      "2021-05-23 03:45:00  37677  37810  37340  37418  656.4611\n",
      "...                    ...    ...    ...    ...       ...\n",
      "2021-07-24 13:45:00  33685  33776  33668  33772  318.9773\n",
      "2021-07-24 14:00:00  33772  33873  33700  33707  682.6960\n",
      "2021-07-24 14:15:00  33707  33733  33584  33644  576.9839\n",
      "2021-07-24 14:30:00  33644  33686  33585  33672  408.7255\n",
      "2021-07-24 14:45:00  33672  33721  33639  33711  355.9761\n",
      "\n",
      "[5999 rows x 5 columns]\n"
     ]
    }
   ],
   "metadata": {}
  },
  {
   "cell_type": "code",
   "execution_count": 11,
   "source": [
    "pairs = [\"btcusd\", \"ethusd\"]\r\n",
    "url = \"https://api.cryptowat.ch/markets/ftx\"\r\n",
    "markets = requests.get(url).json()[\"result\"]\r\n",
    "for market in markets:\r\n",
    "    if market[\"pair\"] in pairs:\r\n",
    "        print(market)"
   ],
   "outputs": [
    {
     "output_type": "stream",
     "name": "stdout",
     "text": [
      "{'id': 62576, 'exchange': 'ftx', 'pair': 'btcusd', 'active': True, 'route': 'https://api.cryptowat.ch/markets/ftx/btcusd'}\n",
      "{'id': 62579, 'exchange': 'ftx', 'pair': 'ethusd', 'active': True, 'route': 'https://api.cryptowat.ch/markets/ftx/ethusd'}\n"
     ]
    }
   ],
   "metadata": {}
  },
  {
   "cell_type": "code",
   "execution_count": null,
   "source": [
    "start = int(datetime.timestamp(datetime(2021, 1, 1)))\r\n",
    "end = int(datetime.timestamp(datetime(2021, 6, 30)))\r\n",
    "for pair in pairs:\r\n",
    "    fetch_candles(pair, end, start, 60 * 15, save=True)"
   ],
   "outputs": [],
   "metadata": {}
  }
 ],
 "metadata": {
  "orig_nbformat": 4,
  "language_info": {
   "name": "python",
   "version": "3.8.5",
   "mimetype": "text/x-python",
   "codemirror_mode": {
    "name": "ipython",
    "version": 3
   },
   "pygments_lexer": "ipython3",
   "nbconvert_exporter": "python",
   "file_extension": ".py"
  },
  "kernelspec": {
   "name": "python3",
   "display_name": "Python 3.8.5 64-bit ('drl-trading': conda)"
  },
  "interpreter": {
   "hash": "e45917c04d38222114aa5092d372c38c1fe51cd799a955b9958f10f4348c0bb7"
  }
 },
 "nbformat": 4,
 "nbformat_minor": 2
}