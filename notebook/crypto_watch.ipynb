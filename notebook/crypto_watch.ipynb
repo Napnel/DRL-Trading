{
 "cells": [
  {
   "cell_type": "code",
   "execution_count": 1,
   "source": [
    "import os\r\n",
    "import time\r\n",
    "import pandas as pd\r\n",
    "from datetime import datetime, timedelta\r\n",
    "import requests"
   ],
   "outputs": [],
   "metadata": {}
  },
  {
   "cell_type": "code",
   "execution_count": 2,
   "source": [
    "def fetch_candles(pair: str, before: int, after: int, periods: int, save: bool = False) -> pd.DataFrame:\r\n",
    "    '''\r\n",
    "    exchange: ftx\r\n",
    "    pair: fttusd-perpetual-futures\r\n",
    "    '''\r\n",
    "    url = f\"https://api.cryptowat.ch/markets/ftx/{pair}/ohlc\"\r\n",
    "    query = {'before': before, 'after': after, 'periods': periods}\r\n",
    "    candles = requests.get(url, params=query).json()[\"result\"][f\"{periods}\"]\r\n",
    "\r\n",
    "    t, o, h, l, c, v = [], [], [], [], [], []\r\n",
    "    for candle in candles:\r\n",
    "        t.append(datetime.fromtimestamp(candle[0]))\r\n",
    "        o.append(candle[1])\r\n",
    "        h.append(candle[2])\r\n",
    "        l.append(candle[3])\r\n",
    "        c.append(candle[4])\r\n",
    "        v.append(candle[5])\r\n",
    "\r\n",
    "    candles = pd.DataFrame({\"Date\": t, \"Open\": o, \"High\": h, \"Low\": l, \"Close\": c, \"Volume\": v}).set_index(\"Date\")\r\n",
    "\r\n",
    "    if save:\r\n",
    "        pth = f\"../data/{periods}/{pair}/\"\r\n",
    "        os.makedirs(pth, exist_ok=True)\r\n",
    "        candles.to_csv(pth + f\"{candles.index[0].strftime('%Y-%m-%d')}.csv\")\r\n",
    "\r\n",
    "    return candles"
   ],
   "outputs": [],
   "metadata": {}
  },
  {
   "cell_type": "code",
   "execution_count": 3,
   "source": [
    "pair = \"btcusd-perpetual-futures\"\r\n",
    "current_time = datetime.fromtimestamp(int(time.time()))\r\n",
    "after = current_time - timedelta(days=300)\r\n",
    "print(current_time)\r\n",
    "print(after)\r\n",
    "before = int(datetime.timestamp(current_time))\r\n",
    "after = int(datetime.timestamp(after))\r\n",
    "periods = 60 * 60\r\n",
    "print(before, after)\r\n",
    "print(before, after + 60 * 60 * 24)\r\n",
    "\r\n",
    "candles = fetch_candles(pair, before, after, periods)\r\n",
    "print(candles)"
   ],
   "outputs": [
    {
     "output_type": "stream",
     "name": "stdout",
     "text": [
      "2021-07-29 16:05:23\n",
      "2020-10-02 16:05:23\n",
      "1627542323 1601622323\n",
      "1627542323 1601708723\n",
      "                        Open     High      Low    Close     Volume\n",
      "Date                                                              \n",
      "2020-11-21 18:00:00  18694.0  18814.0  18688.0  18814.0   860.9376\n",
      "2020-11-21 19:00:00  18814.5  18814.5  18576.5  18634.0  1947.8756\n",
      "2020-11-21 20:00:00  18637.0  18726.0  18592.5  18620.0  1481.4738\n",
      "2020-11-21 21:00:00  18619.5  18673.5  18511.5  18555.0  1332.0568\n",
      "2020-11-21 22:00:00  18556.0  18742.5  18301.5  18666.5  4146.2396\n",
      "...                      ...      ...      ...      ...        ...\n",
      "2021-07-29 12:00:00  39666.0  39995.0  39626.0  39720.0  1962.1624\n",
      "2021-07-29 13:00:00  39721.0  39870.0  39517.0  39629.0  1264.2347\n",
      "2021-07-29 14:00:00  39630.0  40144.0  39500.0  39987.0  2407.5231\n",
      "2021-07-29 15:00:00  39988.0  40343.0  39722.0  40150.0  7353.8637\n",
      "2021-07-29 16:00:00  40151.0  40245.0  39938.0  40035.0  1664.7514\n",
      "\n",
      "[5999 rows x 5 columns]\n"
     ]
    }
   ],
   "metadata": {}
  },
  {
   "cell_type": "code",
   "execution_count": 4,
   "source": [
    "pairs = [\"btcusd\", \"ethusd\"]\r\n",
    "url = \"https://api.cryptowat.ch/markets/ftx\"\r\n",
    "markets = requests.get(url).json()[\"result\"]\r\n",
    "for market in markets:\r\n",
    "    if market[\"pair\"] in pairs:\r\n",
    "        print(market)"
   ],
   "outputs": [
    {
     "output_type": "stream",
     "name": "stdout",
     "text": [
      "{'id': 62576, 'exchange': 'ftx', 'pair': 'btcusd', 'active': True, 'route': 'https://api.cryptowat.ch/markets/ftx/btcusd'}\n",
      "{'id': 62579, 'exchange': 'ftx', 'pair': 'ethusd', 'active': True, 'route': 'https://api.cryptowat.ch/markets/ftx/ethusd'}\n"
     ]
    }
   ],
   "metadata": {}
  },
  {
   "cell_type": "code",
   "execution_count": 6,
   "source": [
    "start = int(datetime.timestamp(datetime(2021, 1, 1)))\r\n",
    "end = int(datetime.timestamp(datetime(2021, 6, 30)))\r\n",
    "for pair in pairs:\r\n",
    "    fetch_candles(pair, end, start, 60 * 60, save=True)"
   ],
   "outputs": [],
   "metadata": {}
  },
  {
   "cell_type": "code",
   "execution_count": null,
   "source": [],
   "outputs": [],
   "metadata": {}
  }
 ],
 "metadata": {
  "orig_nbformat": 4,
  "language_info": {
   "name": "python",
   "version": "3.7.10",
   "mimetype": "text/x-python",
   "codemirror_mode": {
    "name": "ipython",
    "version": 3
   },
   "pygments_lexer": "ipython3",
   "nbconvert_exporter": "python",
   "file_extension": ".py"
  },
  "kernelspec": {
   "name": "python3",
   "display_name": "Python 3.7.10 64-bit ('drl-trading': conda)"
  },
  "interpreter": {
   "hash": "e82865e532b7e394095be646e23b93da3726393d2bbb7df037ebf7989b111349"
  }
 },
 "nbformat": 4,
 "nbformat_minor": 2
}