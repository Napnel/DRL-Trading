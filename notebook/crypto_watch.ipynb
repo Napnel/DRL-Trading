{
 "cells": [
  {
   "cell_type": "code",
   "execution_count": 2,
   "source": [
    "import os\n",
    "import time\n",
    "import pandas as pd\n",
    "from datetime import datetime, timedelta\n",
    "import requests"
   ],
   "outputs": [],
   "metadata": {}
  },
  {
   "cell_type": "code",
   "execution_count": 6,
   "source": [
    "url = \"https://api.cryptowat.ch/exchanges\"\n",
    "response = requests.get(url).json()[\"result\"]\n",
    "exchanges = [res[\"symbol\"] for res in response]\n",
    "exchanges\n",
    "    "
   ],
   "outputs": [
    {
     "output_type": "execute_result",
     "data": {
      "text/plain": [
       "['gateio',\n",
       " 'binance-us',\n",
       " 'kraken-futures',\n",
       " 'gemini',\n",
       " 'liquid',\n",
       " 'okex',\n",
       " 'hitbtc',\n",
       " 'cbot',\n",
       " 'cexio',\n",
       " 'btc-china',\n",
       " 'poloniex',\n",
       " 'bitbay',\n",
       " 'bitmex',\n",
       " 'quoine',\n",
       " 'bitflyer',\n",
       " 'okcoin',\n",
       " '796',\n",
       " 'luno',\n",
       " 'bisq',\n",
       " 'bittrex',\n",
       " 'deribit',\n",
       " 'bitfinex',\n",
       " 'wex',\n",
       " 'cryptsy',\n",
       " 'bitvc',\n",
       " 'cme',\n",
       " 'nymex',\n",
       " 'bitstamp',\n",
       " 'mtgox',\n",
       " 'quadriga',\n",
       " 'dex-aggregated',\n",
       " 'coinbase-pro',\n",
       " 'vault-of-satoshi',\n",
       " 'bithumb',\n",
       " 'coinone',\n",
       " 'ftx',\n",
       " 'uniswap-v2',\n",
       " 'ftx-us',\n",
       " 'bitz',\n",
       " 'comex',\n",
       " 'kraken',\n",
       " 'mexbt',\n",
       " 'huobi',\n",
       " 'binance']"
      ]
     },
     "metadata": {},
     "execution_count": 6
    }
   ],
   "metadata": {}
  },
  {
   "cell_type": "code",
   "execution_count": 3,
   "source": [
    "def fetch_candles(pair: str, before: int, after: int, periods: int, save: bool = False) -> pd.DataFrame:\n",
    "    '''\n",
    "    exchange: ftx\n",
    "    pair: fttusd-perpetual-futures\n",
    "    '''\n",
    "    url = f\"https://api.cryptowat.ch/markets/ftx/{pair}/ohlc\"\n",
    "    query = {'before': before, 'after': after, 'periods': periods}\n",
    "    candles = requests.get(url, params=query).json()[\"result\"][f\"{periods}\"]\n",
    "\n",
    "    t, o, h, l, c, v = [], [], [], [], [], []\n",
    "    for candle in candles:\n",
    "        t.append(datetime.fromtimestamp(candle[0]))\n",
    "        o.append(candle[1])\n",
    "        h.append(candle[2])\n",
    "        l.append(candle[3])\n",
    "        c.append(candle[4])\n",
    "        v.append(candle[5])\n",
    "\n",
    "    candles = pd.DataFrame({\"Date\": t, \"Open\": o, \"High\": h, \"Low\": l, \"Close\": c, \"Volume\": v}).set_index(\"Date\")\n",
    "\n",
    "    if save:\n",
    "        pth = f\"../data/{periods}/{pair}/\"\n",
    "        os.makedirs(pth, exist_ok=True)\n",
    "        candles.to_csv(pth + f\"{candles.index[0].strftime('%Y-%m-%d')}.csv\")\n",
    "\n",
    "    return candles"
   ],
   "outputs": [],
   "metadata": {}
  },
  {
   "cell_type": "code",
   "execution_count": 4,
   "source": [
    "pair = \"btcusd-perpetual-futures\"\n",
    "current_time = datetime.fromtimestamp(int(time.time()))\n",
    "after = current_time - timedelta(days=300)\n",
    "print(current_time)\n",
    "print(after)\n",
    "before = int(datetime.timestamp(current_time))\n",
    "after = int(datetime.timestamp(after))\n",
    "periods = 60 * 60\n",
    "print(before, after)\n",
    "print(before, after + 60 * 60 * 24)\n",
    "\n",
    "candles = fetch_candles(pair, before, after, periods)\n",
    "print(candles)"
   ],
   "outputs": [
    {
     "output_type": "stream",
     "name": "stdout",
     "text": [
      "2021-08-31 15:35:46\n",
      "2020-11-04 15:35:46\n",
      "1630391746 1604471746\n",
      "1630391746 1604558146\n",
      "                        Open     High      Low    Close     Volume\n",
      "Date                                                              \n",
      "2020-12-24 17:00:00  22940.0  23210.0  22835.0  23176.0  1725.9189\n",
      "2020-12-24 18:00:00  23176.0  23490.0  23065.0  23458.5  2925.8211\n",
      "2020-12-24 19:00:00  23458.5  23481.0  23259.0  23346.0  1013.5225\n",
      "2020-12-24 20:00:00  23349.0  23350.0  23113.5  23127.0   917.1621\n",
      "2020-12-24 21:00:00  23126.0  23297.5  23053.0  23219.5  1330.8342\n",
      "...                      ...      ...      ...      ...        ...\n",
      "2021-08-31 11:00:00  46865.0  47040.0  46762.0  46904.0  1729.7117\n",
      "2021-08-31 12:00:00  46903.0  47075.0  46770.0  47034.0  1720.1033\n",
      "2021-08-31 13:00:00  47034.0  47229.0  46999.0  47156.0  2216.5649\n",
      "2021-08-31 14:00:00  47156.0  47314.0  47026.0  47066.0  1730.8860\n",
      "2021-08-31 15:00:00  47066.0  47225.0  47023.0  47158.0  1591.9359\n",
      "\n",
      "[5999 rows x 5 columns]\n"
     ]
    }
   ],
   "metadata": {}
  },
  {
   "cell_type": "code",
   "execution_count": 15,
   "source": [
    "pairs = [\"btcusd\", \"ethusd\"]\n",
    "url = \"https://api.cryptowat.ch/markets/binance\"\n",
    "markets = requests.get(url).json()[\"result\"]\n",
    "# from pprint import pprint\n",
    "# pprint(markets)\n",
    "for market in markets:\n",
    "    if \"perpetual-futures\" in market[\"pair\"]:\n",
    "        if \"dot\" in market[\"pair\"]:\n",
    "            print(market[\"pair\"])\n",
    "    # if market[\"pair\"] in pairs:\n",
    "    #     print(market)"
   ],
   "outputs": [
    {
     "output_type": "stream",
     "name": "stdout",
     "text": [
      "dotusdt-perpetual-futures\n"
     ]
    }
   ],
   "metadata": {}
  },
  {
   "cell_type": "code",
   "execution_count": 6,
   "source": [
    "start = int(datetime.timestamp(datetime(2020, 1, 1)))\n",
    "# end = int(datetime.timestamp(datetime(2021, 7, 30)))\n",
    "end = int(datetime.timestamp(datetime.now()))\n",
    "for pair in pairs:\n",
    "    fetch_candles(pair, end, start, 60 * 60)"
   ],
   "outputs": [],
   "metadata": {}
  },
  {
   "cell_type": "code",
   "execution_count": null,
   "source": [],
   "outputs": [],
   "metadata": {}
  }
 ],
 "metadata": {
  "orig_nbformat": 4,
  "language_info": {
   "name": "python",
   "version": "3.7.11",
   "mimetype": "text/x-python",
   "codemirror_mode": {
    "name": "ipython",
    "version": 3
   },
   "pygments_lexer": "ipython3",
   "nbconvert_exporter": "python",
   "file_extension": ".py"
  },
  "kernelspec": {
   "name": "python3",
   "display_name": "Python 3.7.11 64-bit ('drl-trading': conda)"
  },
  "interpreter": {
   "hash": "e45917c04d38222114aa5092d372c38c1fe51cd799a955b9958f10f4348c0bb7"
  }
 },
 "nbformat": 4,
 "nbformat_minor": 2
}