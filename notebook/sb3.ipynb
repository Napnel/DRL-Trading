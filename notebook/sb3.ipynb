{
 "cells": [
  {
   "cell_type": "code",
   "execution_count": 1,
   "source": [
    "import gym\r\n",
    "from stable_baselines3 import DQN"
   ],
   "outputs": [],
   "metadata": {}
  },
  {
   "cell_type": "code",
   "execution_count": 2,
   "source": [
    "env = gym.make(\"CartPole-v0\")\r\n",
    "\r\n",
    "model = DQN(\"MlpPolicy\", env, verbose=0)\r\n",
    "model.learn(total_timesteps=10000, log_interval=4)\r\n",
    "model.save(\"dqn_cartpole\")\r\n",
    "del model"
   ],
   "outputs": [],
   "metadata": {}
  },
  {
   "cell_type": "code",
   "execution_count": null,
   "source": [
    "model = DQN.load(\"dqn_cartpole\")\r\n",
    "\r\n",
    "obs = env.reset()\r\n",
    "while True:\r\n",
    "    action, _states = model.predict(obs, deterministic=True)\r\n",
    "    obs, reward, done, info = env.step(action)\r\n",
    "    env.render()\r\n",
    "    if done:\r\n",
    "        obs = env.reset()\r\n",
    "        break"
   ],
   "outputs": [],
   "metadata": {}
  }
 ],
 "metadata": {
  "orig_nbformat": 4,
  "language_info": {
   "name": "python"
  }
 },
 "nbformat": 4,
 "nbformat_minor": 2
}