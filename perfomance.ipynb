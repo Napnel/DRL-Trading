{
 "cells": [
  {
   "cell_type": "code",
   "execution_count": 1,
   "metadata": {},
   "outputs": [],
   "source": [
    "import os\n",
    "import re\n",
    "import glob\n",
    "import pandas as pd\n",
    "import matplotlib.pyplot as plt\n",
    "import seaborn as sns\n",
    "from pprint import pprint\n",
    "import json\n",
    "from datetime import datetime\n",
    "from dateutil.relativedelta import relativedelta\n",
    "sns.set('paper','whitegrid', font_scale=2, rc={\"lines.linewidth\": 2, 'grid.linestyle': '--'})"
   ]
  },
  {
   "cell_type": "code",
   "execution_count": 2,
   "metadata": {},
   "outputs": [],
   "source": [
    "def get_summary_perfomance(local_dir: str, expt_name: str = None):\n",
    "    summary_performance = {}\n",
    "    expt_names = glob.glob(os.path.join(local_dir, \"*_*\"))\n",
    "    for expt_name in expt_names:\n",
    "        algo, env_params, timelog = expt_name.split(\"\\\\\")[-1].split(\"__\")\n",
    "        trials = glob.glob(os.path.join(expt_name, \"ExperimentCV_*\"))\n",
    "        summary_trials = {}\n",
    "        for trial in trials:\n",
    "            with open(os.path.join(trial, \"params.json\"), 'r') as f:\n",
    "                params = json.load(f)\n",
    "            train_start = datetime.strptime(params[\"_train_start\"], \"%Y-%m-%d\") + relativedelta(years=params[\"__trial_index__\"])\n",
    "            eval_start = datetime.strptime(params[\"_train_start\"], \"%Y-%m-%d\") + relativedelta(years=params[\"__trial_index__\"] + params[\"_train_years\"])\n",
    "            column_name = f\"{train_start.year}(+{params['_train_years']}) | {eval_start.year}(+{params['_eval_years']})\"\n",
    "            \n",
    "            try:\n",
    "                perfomance_train = pd.read_csv(os.path.join(trial, \"best-stats-train\", \"performance.csv\"), index_col=0).rename(columns={'0': column_name})\n",
    "                perfomance_eval = pd.read_csv(os.path.join(trial, \"best-stats-eval\", \"performance.csv\"), index_col=0).rename(columns={'0': column_name})\n",
    "                summary_trials[column_name] = perfomance_eval\n",
    "            except Exception as e:\n",
    "                pass\n",
    "        \n",
    "        summary_performance[f\"{algo}_{env_params}\"] = summary_trials\n",
    "\n",
    "    return summary_performance"
   ]
  },
  {
   "cell_type": "code",
   "execution_count": 3,
   "metadata": {},
   "outputs": [],
   "source": [
    "# summary_perfomance = get_summary_perfomance(\"./ray_results/compare-action-3\")\n",
    "summary_perfomance = get_summary_perfomance(\"./ray_results/compare-stop_loss-3\")"
   ]
  },
  {
   "cell_type": "code",
   "execution_count": 4,
   "metadata": {},
   "outputs": [
    {
     "data": {
      "text/html": [
       "<div>\n",
       "<style scoped>\n",
       "    .dataframe tbody tr th:only-of-type {\n",
       "        vertical-align: middle;\n",
       "    }\n",
       "\n",
       "    .dataframe tbody tr th {\n",
       "        vertical-align: top;\n",
       "    }\n",
       "\n",
       "    .dataframe thead th {\n",
       "        text-align: right;\n",
       "    }\n",
       "</style>\n",
       "<table border=\"1\" class=\"dataframe\">\n",
       "  <thead>\n",
       "    <tr style=\"text-align: right;\">\n",
       "      <th></th>\n",
       "      <th>A2C_stop_loss=True</th>\n",
       "      <th>DQN_stop_loss=True</th>\n",
       "      <th>PPO_stop_loss=True</th>\n",
       "      <th>SAC_stop_loss=True</th>\n",
       "    </tr>\n",
       "  </thead>\n",
       "  <tbody>\n",
       "    <tr>\n",
       "      <th>Return (Ann.) [%]</th>\n",
       "      <td>17.729602</td>\n",
       "      <td>28.778047</td>\n",
       "      <td>7.935853</td>\n",
       "      <td>NaN</td>\n",
       "    </tr>\n",
       "    <tr>\n",
       "      <th>Volatility (Ann.) [%]</th>\n",
       "      <td>12.248378</td>\n",
       "      <td>11.866047</td>\n",
       "      <td>12.694153</td>\n",
       "      <td>NaN</td>\n",
       "    </tr>\n",
       "    <tr>\n",
       "      <th>Sharpe Ratio</th>\n",
       "      <td>1.391085</td>\n",
       "      <td>2.081625</td>\n",
       "      <td>0.659098</td>\n",
       "      <td>NaN</td>\n",
       "    </tr>\n",
       "    <tr>\n",
       "      <th>Max. Drawdown [%]</th>\n",
       "      <td>-7.503878</td>\n",
       "      <td>-7.264270</td>\n",
       "      <td>-10.254774</td>\n",
       "      <td>NaN</td>\n",
       "    </tr>\n",
       "  </tbody>\n",
       "</table>\n",
       "</div>"
      ],
      "text/plain": [
       "                       A2C_stop_loss=True  DQN_stop_loss=True  \\\n",
       "Return (Ann.) [%]               17.729602           28.778047   \n",
       "Volatility (Ann.) [%]           12.248378           11.866047   \n",
       "Sharpe Ratio                     1.391085            2.081625   \n",
       "Max. Drawdown [%]               -7.503878           -7.264270   \n",
       "\n",
       "                       PPO_stop_loss=True  SAC_stop_loss=True  \n",
       "Return (Ann.) [%]                7.935853                 NaN  \n",
       "Volatility (Ann.) [%]           12.694153                 NaN  \n",
       "Sharpe Ratio                     0.659098                 NaN  \n",
       "Max. Drawdown [%]              -10.254774                 NaN  "
      ]
     },
     "execution_count": 4,
     "metadata": {},
     "output_type": "execute_result"
    }
   ],
   "source": [
    "performance_expt = pd.DataFrame()\n",
    "for expt_name, summary_trials in summary_perfomance.items():\n",
    "    performance_cv = pd.DataFrame()\n",
    "    for trial, performance in summary_trials.items():\n",
    "        performance = performance.iloc[-4:, :].astype(float)\n",
    "        performance_cv = pd.concat([performance_cv, performance], axis=1)\n",
    "\n",
    "\n",
    "    performance_cv_mean = performance_cv.mean(axis=1)\n",
    "    performance_cv_mean.name = expt_name\n",
    "    performance_expt = pd.concat([performance_expt, performance_cv_mean], axis=1)\n",
    "    \n",
    "performance_expt"
   ]
  }
 ],
 "metadata": {
  "interpreter": {
   "hash": "92494b380cdd7d1d1ced08fe7bc7df853d898bcea1d66a2a33078fd6ace70ca7"
  },
  "kernelspec": {
   "display_name": "Python 3.7.10 64-bit ('drl-trading': conda)",
   "name": "python3"
  },
  "language_info": {
   "codemirror_mode": {
    "name": "ipython",
    "version": 3
   },
   "file_extension": ".py",
   "mimetype": "text/x-python",
   "name": "python",
   "nbconvert_exporter": "python",
   "pygments_lexer": "ipython3",
   "version": "3.7.10"
  },
  "orig_nbformat": 4
 },
 "nbformat": 4,
 "nbformat_minor": 2
}
