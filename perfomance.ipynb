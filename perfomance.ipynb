{
 "cells": [
  {
   "cell_type": "code",
   "execution_count": 1,
   "metadata": {},
   "outputs": [],
   "source": [
    "import os\n",
    "import re\n",
    "import glob\n",
    "import pandas as pd\n",
    "import matplotlib.pyplot as plt\n",
    "import seaborn as sns\n",
    "from pprint import pprint\n",
    "import json\n",
    "from datetime import datetime\n",
    "from dateutil.relativedelta import relativedelta\n",
    "sns.set('paper','whitegrid', font_scale=2, rc={\"lines.linewidth\": 2, 'grid.linestyle': '--'})"
   ]
  },
  {
   "cell_type": "code",
   "execution_count": 2,
   "metadata": {},
   "outputs": [],
   "source": [
    "def get_summary_perfomance(local_dir: str, expt_name: str = None):\n",
    "    summary_performance = {}\n",
    "    expt_names = glob.glob(os.path.join(local_dir, \"*_*\"))\n",
    "    for expt_name in expt_names:\n",
    "        splits = expt_name.split(\"\\\\\")[-1].split(\"__\")\n",
    "        if len(splits) == 3:\n",
    "            algo, env_params, timelog = splits\n",
    "        else:\n",
    "            algo, timelog = splits\n",
    "            env_params = \"default\"\n",
    "        trials = glob.glob(os.path.join(expt_name, \"ExperimentCV_*\"))\n",
    "        summary_trials = {}\n",
    "        for trial in trials:\n",
    "            with open(os.path.join(trial, \"params.json\"), 'r') as f:\n",
    "                params = json.load(f)\n",
    "            train_start = datetime.strptime(params[\"_train_start\"], \"%Y-%m-%d\") + relativedelta(years=params[\"__trial_index__\"])\n",
    "            eval_start = datetime.strptime(params[\"_train_start\"], \"%Y-%m-%d\") + relativedelta(years=params[\"__trial_index__\"] + params[\"_train_years\"])\n",
    "            column_name = f\"{train_start.year}(+{params['_train_years']}) | {eval_start.year}(+{params['_eval_years']})\"\n",
    "            \n",
    "            try:\n",
    "                perfomance_train = pd.read_csv(os.path.join(trial, \"best-stats-train\", \"performance.csv\"), index_col=0).rename(columns={'0': column_name})\n",
    "                perfomance_eval = pd.read_csv(os.path.join(trial, \"best-stats-eval\", \"performance.csv\"), index_col=0).rename(columns={'0': column_name})\n",
    "                summary_trials[column_name] = perfomance_eval\n",
    "            except Exception as e:\n",
    "                pass\n",
    "        \n",
    "        summary_performance[f\"{algo}_{env_params}\"] = summary_trials\n",
    "\n",
    "    return summary_performance"
   ]
  },
  {
   "cell_type": "code",
   "execution_count": 3,
   "metadata": {},
   "outputs": [],
   "source": [
    "# summary_perfomance = get_summary_perfomance(\"./ray_results/compare-action-3\")\n",
    "summary_perfomance = get_summary_perfomance(\"./ray_results/features_selection_10\")"
   ]
  },
  {
   "cell_type": "code",
   "execution_count": 4,
   "metadata": {},
   "outputs": [
    {
     "data": {
      "text/html": [
       "<div>\n",
       "<style scoped>\n",
       "    .dataframe tbody tr th:only-of-type {\n",
       "        vertical-align: middle;\n",
       "    }\n",
       "\n",
       "    .dataframe tbody tr th {\n",
       "        vertical-align: top;\n",
       "    }\n",
       "\n",
       "    .dataframe thead th {\n",
       "        text-align: right;\n",
       "    }\n",
       "</style>\n",
       "<table border=\"1\" class=\"dataframe\">\n",
       "  <thead>\n",
       "    <tr style=\"text-align: right;\">\n",
       "      <th></th>\n",
       "      <th>A2C_default</th>\n",
       "      <th>DQN_default</th>\n",
       "      <th>PPO_default</th>\n",
       "      <th>SAC_default</th>\n",
       "    </tr>\n",
       "  </thead>\n",
       "  <tbody>\n",
       "    <tr>\n",
       "      <th>Return (Ann.) [%]</th>\n",
       "      <td>13.272513</td>\n",
       "      <td>27.123381</td>\n",
       "      <td>3.731098</td>\n",
       "      <td>19.873487</td>\n",
       "    </tr>\n",
       "    <tr>\n",
       "      <th>Volatility (Ann.) [%]</th>\n",
       "      <td>12.439139</td>\n",
       "      <td>12.708330</td>\n",
       "      <td>12.233924</td>\n",
       "      <td>12.561945</td>\n",
       "    </tr>\n",
       "    <tr>\n",
       "      <th>Sharpe Ratio</th>\n",
       "      <td>1.072616</td>\n",
       "      <td>1.919754</td>\n",
       "      <td>0.400986</td>\n",
       "      <td>1.645851</td>\n",
       "    </tr>\n",
       "    <tr>\n",
       "      <th>Max. Drawdown [%]</th>\n",
       "      <td>-10.978208</td>\n",
       "      <td>-6.188126</td>\n",
       "      <td>-9.588222</td>\n",
       "      <td>-8.221787</td>\n",
       "    </tr>\n",
       "  </tbody>\n",
       "</table>\n",
       "</div>"
      ],
      "text/plain": [
       "                       A2C_default  DQN_default  PPO_default  SAC_default\n",
       "Return (Ann.) [%]        13.272513    27.123381     3.731098    19.873487\n",
       "Volatility (Ann.) [%]    12.439139    12.708330    12.233924    12.561945\n",
       "Sharpe Ratio              1.072616     1.919754     0.400986     1.645851\n",
       "Max. Drawdown [%]       -10.978208    -6.188126    -9.588222    -8.221787"
      ]
     },
     "execution_count": 4,
     "metadata": {},
     "output_type": "execute_result"
    }
   ],
   "source": [
    "performance_expt = pd.DataFrame()\n",
    "for expt_name, summary_trials in summary_perfomance.items():\n",
    "    performance_cv = pd.DataFrame()\n",
    "    for trial, performance in summary_trials.items():\n",
    "        performance = performance.iloc[-4:, :].astype(float)\n",
    "        performance_cv = pd.concat([performance_cv, performance], axis=1)\n",
    "\n",
    "\n",
    "    performance_cv_mean = performance_cv.mean(axis=1)\n",
    "    performance_cv_mean.name = expt_name\n",
    "    performance_expt = pd.concat([performance_expt, performance_cv_mean], axis=1)\n",
    "    \n",
    "performance_expt"
   ]
  }
 ],
 "metadata": {
  "interpreter": {
   "hash": "92494b380cdd7d1d1ced08fe7bc7df853d898bcea1d66a2a33078fd6ace70ca7"
  },
  "kernelspec": {
   "display_name": "Python 3.7.10 64-bit ('drl-trading': conda)",
   "name": "python3"
  },
  "language_info": {
   "codemirror_mode": {
    "name": "ipython",
    "version": 3
   },
   "file_extension": ".py",
   "mimetype": "text/x-python",
   "name": "python",
   "nbconvert_exporter": "python",
   "pygments_lexer": "ipython3",
   "version": "3.7.10"
  },
  "orig_nbformat": 4
 },
 "nbformat": 4,
 "nbformat_minor": 2
}
