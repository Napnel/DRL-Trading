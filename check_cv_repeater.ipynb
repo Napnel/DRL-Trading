{
 "cells": [
  {
   "cell_type": "code",
   "execution_count": 1,
   "metadata": {},
   "outputs": [
    {
     "data": {
      "text/html": [
       "\n",
       "    <div class=\"bk-root\">\n",
       "        <a href=\"https://bokeh.org\" target=\"_blank\" class=\"bk-logo bk-logo-small bk-logo-notebook\"></a>\n",
       "        <span id=\"1002\">Loading BokehJS ...</span>\n",
       "    </div>"
      ]
     },
     "metadata": {},
     "output_type": "display_data"
    },
    {
     "data": {
      "application/javascript": "\n(function(root) {\n  function now() {\n    return new Date();\n  }\n\n  var force = true;\n\n  if (typeof root._bokeh_onload_callbacks === \"undefined\" || force === true) {\n    root._bokeh_onload_callbacks = [];\n    root._bokeh_is_loading = undefined;\n  }\n\n  var JS_MIME_TYPE = 'application/javascript';\n  var HTML_MIME_TYPE = 'text/html';\n  var EXEC_MIME_TYPE = 'application/vnd.bokehjs_exec.v0+json';\n  var CLASS_NAME = 'output_bokeh rendered_html';\n\n  /**\n   * Render data to the DOM node\n   */\n  function render(props, node) {\n    var script = document.createElement(\"script\");\n    node.appendChild(script);\n  }\n\n  /**\n   * Handle when an output is cleared or removed\n   */\n  function handleClearOutput(event, handle) {\n    var cell = handle.cell;\n\n    var id = cell.output_area._bokeh_element_id;\n    var server_id = cell.output_area._bokeh_server_id;\n    // Clean up Bokeh references\n    if (id != null && id in Bokeh.index) {\n      Bokeh.index[id].model.document.clear();\n      delete Bokeh.index[id];\n    }\n\n    if (server_id !== undefined) {\n      // Clean up Bokeh references\n      var cmd = \"from bokeh.io.state import curstate; print(curstate().uuid_to_server['\" + server_id + \"'].get_sessions()[0].document.roots[0]._id)\";\n      cell.notebook.kernel.execute(cmd, {\n        iopub: {\n          output: function(msg) {\n            var id = msg.content.text.trim();\n            if (id in Bokeh.index) {\n              Bokeh.index[id].model.document.clear();\n              delete Bokeh.index[id];\n            }\n          }\n        }\n      });\n      // Destroy server and session\n      var cmd = \"import bokeh.io.notebook as ion; ion.destroy_server('\" + server_id + \"')\";\n      cell.notebook.kernel.execute(cmd);\n    }\n  }\n\n  /**\n   * Handle when a new output is added\n   */\n  function handleAddOutput(event, handle) {\n    var output_area = handle.output_area;\n    var output = handle.output;\n\n    // limit handleAddOutput to display_data with EXEC_MIME_TYPE content only\n    if ((output.output_type != \"display_data\") || (!Object.prototype.hasOwnProperty.call(output.data, EXEC_MIME_TYPE))) {\n      return\n    }\n\n    var toinsert = output_area.element.find(\".\" + CLASS_NAME.split(' ')[0]);\n\n    if (output.metadata[EXEC_MIME_TYPE][\"id\"] !== undefined) {\n      toinsert[toinsert.length - 1].firstChild.textContent = output.data[JS_MIME_TYPE];\n      // store reference to embed id on output_area\n      output_area._bokeh_element_id = output.metadata[EXEC_MIME_TYPE][\"id\"];\n    }\n    if (output.metadata[EXEC_MIME_TYPE][\"server_id\"] !== undefined) {\n      var bk_div = document.createElement(\"div\");\n      bk_div.innerHTML = output.data[HTML_MIME_TYPE];\n      var script_attrs = bk_div.children[0].attributes;\n      for (var i = 0; i < script_attrs.length; i++) {\n        toinsert[toinsert.length - 1].firstChild.setAttribute(script_attrs[i].name, script_attrs[i].value);\n        toinsert[toinsert.length - 1].firstChild.textContent = bk_div.children[0].textContent\n      }\n      // store reference to server id on output_area\n      output_area._bokeh_server_id = output.metadata[EXEC_MIME_TYPE][\"server_id\"];\n    }\n  }\n\n  function register_renderer(events, OutputArea) {\n\n    function append_mime(data, metadata, element) {\n      // create a DOM node to render to\n      var toinsert = this.create_output_subarea(\n        metadata,\n        CLASS_NAME,\n        EXEC_MIME_TYPE\n      );\n      this.keyboard_manager.register_events(toinsert);\n      // Render to node\n      var props = {data: data, metadata: metadata[EXEC_MIME_TYPE]};\n      render(props, toinsert[toinsert.length - 1]);\n      element.append(toinsert);\n      return toinsert\n    }\n\n    /* Handle when an output is cleared or removed */\n    events.on('clear_output.CodeCell', handleClearOutput);\n    events.on('delete.Cell', handleClearOutput);\n\n    /* Handle when a new output is added */\n    events.on('output_added.OutputArea', handleAddOutput);\n\n    /**\n     * Register the mime type and append_mime function with output_area\n     */\n    OutputArea.prototype.register_mime_type(EXEC_MIME_TYPE, append_mime, {\n      /* Is output safe? */\n      safe: true,\n      /* Index of renderer in `output_area.display_order` */\n      index: 0\n    });\n  }\n\n  // register the mime type if in Jupyter Notebook environment and previously unregistered\n  if (root.Jupyter !== undefined) {\n    var events = require('base/js/events');\n    var OutputArea = require('notebook/js/outputarea').OutputArea;\n\n    if (OutputArea.prototype.mime_types().indexOf(EXEC_MIME_TYPE) == -1) {\n      register_renderer(events, OutputArea);\n    }\n  }\n\n  \n  if (typeof (root._bokeh_timeout) === \"undefined\" || force === true) {\n    root._bokeh_timeout = Date.now() + 5000;\n    root._bokeh_failed_load = false;\n  }\n\n  var NB_LOAD_WARNING = {'data': {'text/html':\n     \"<div style='background-color: #fdd'>\\n\"+\n     \"<p>\\n\"+\n     \"BokehJS does not appear to have successfully loaded. If loading BokehJS from CDN, this \\n\"+\n     \"may be due to a slow or bad network connection. Possible fixes:\\n\"+\n     \"</p>\\n\"+\n     \"<ul>\\n\"+\n     \"<li>re-rerun `output_notebook()` to attempt to load from CDN again, or</li>\\n\"+\n     \"<li>use INLINE resources instead, as so:</li>\\n\"+\n     \"</ul>\\n\"+\n     \"<code>\\n\"+\n     \"from bokeh.resources import INLINE\\n\"+\n     \"output_notebook(resources=INLINE)\\n\"+\n     \"</code>\\n\"+\n     \"</div>\"}};\n\n  function display_loaded() {\n    var el = document.getElementById(\"1002\");\n    if (el != null) {\n      el.textContent = \"BokehJS is loading...\";\n    }\n    if (root.Bokeh !== undefined) {\n      if (el != null) {\n        el.textContent = \"BokehJS \" + root.Bokeh.version + \" successfully loaded.\";\n      }\n    } else if (Date.now() < root._bokeh_timeout) {\n      setTimeout(display_loaded, 100)\n    }\n  }\n\n\n  function run_callbacks() {\n    try {\n      root._bokeh_onload_callbacks.forEach(function(callback) {\n        if (callback != null)\n          callback();\n      });\n    } finally {\n      delete root._bokeh_onload_callbacks\n    }\n    console.debug(\"Bokeh: all callbacks have finished\");\n  }\n\n  function load_libs(css_urls, js_urls, callback) {\n    if (css_urls == null) css_urls = [];\n    if (js_urls == null) js_urls = [];\n\n    root._bokeh_onload_callbacks.push(callback);\n    if (root._bokeh_is_loading > 0) {\n      console.debug(\"Bokeh: BokehJS is being loaded, scheduling callback at\", now());\n      return null;\n    }\n    if (js_urls == null || js_urls.length === 0) {\n      run_callbacks();\n      return null;\n    }\n    console.debug(\"Bokeh: BokehJS not loaded, scheduling load and callback at\", now());\n    root._bokeh_is_loading = css_urls.length + js_urls.length;\n\n    function on_load() {\n      root._bokeh_is_loading--;\n      if (root._bokeh_is_loading === 0) {\n        console.debug(\"Bokeh: all BokehJS libraries/stylesheets loaded\");\n        run_callbacks()\n      }\n    }\n\n    function on_error(url) {\n      console.error(\"failed to load \" + url);\n    }\n\n    for (let i = 0; i < css_urls.length; i++) {\n      const url = css_urls[i];\n      const element = document.createElement(\"link\");\n      element.onload = on_load;\n      element.onerror = on_error.bind(null, url);\n      element.rel = \"stylesheet\";\n      element.type = \"text/css\";\n      element.href = url;\n      console.debug(\"Bokeh: injecting link tag for BokehJS stylesheet: \", url);\n      document.body.appendChild(element);\n    }\n\n    const hashes = {\"https://cdn.bokeh.org/bokeh/release/bokeh-2.3.3.min.js\": \"dM3QQsP+wXdHg42wTqW85BjZQdLNNIXqlPw/BgKoExPmTG7ZLML4EGqLMfqHT6ON\", \"https://cdn.bokeh.org/bokeh/release/bokeh-tables-2.3.3.min.js\": \"8x57I4YuIfu8XyZfFo0XVr2WAT8EK4rh/uDe3wF7YuW2FNUSNEpJbsPaB1nJ2fz2\", \"https://cdn.bokeh.org/bokeh/release/bokeh-widgets-2.3.3.min.js\": \"3QTqdz9LyAm2i0sG5XTePsHec3UHWwVsrOL68SYRoAXsafvfAyqtQ+h440+qIBhS\"};\n\n    for (let i = 0; i < js_urls.length; i++) {\n      const url = js_urls[i];\n      const element = document.createElement('script');\n      element.onload = on_load;\n      element.onerror = on_error.bind(null, url);\n      element.async = false;\n      element.src = url;\n      if (url in hashes) {\n        element.crossOrigin = \"anonymous\";\n        element.integrity = \"sha384-\" + hashes[url];\n      }\n      console.debug(\"Bokeh: injecting script tag for BokehJS library: \", url);\n      document.head.appendChild(element);\n    }\n  };\n\n  function inject_raw_css(css) {\n    const element = document.createElement(\"style\");\n    element.appendChild(document.createTextNode(css));\n    document.body.appendChild(element);\n  }\n\n  \n  var js_urls = [\"https://cdn.bokeh.org/bokeh/release/bokeh-2.3.3.min.js\", \"https://cdn.bokeh.org/bokeh/release/bokeh-widgets-2.3.3.min.js\", \"https://cdn.bokeh.org/bokeh/release/bokeh-tables-2.3.3.min.js\"];\n  var css_urls = [];\n  \n\n  var inline_js = [\n    function(Bokeh) {\n      Bokeh.set_log_level(\"info\");\n    },\n    function(Bokeh) {\n    \n    \n    }\n  ];\n\n  function run_inline_js() {\n    \n    if (root.Bokeh !== undefined || force === true) {\n      \n    for (var i = 0; i < inline_js.length; i++) {\n      inline_js[i].call(root, root.Bokeh);\n    }\n    if (force === true) {\n        display_loaded();\n      }} else if (Date.now() < root._bokeh_timeout) {\n      setTimeout(run_inline_js, 100);\n    } else if (!root._bokeh_failed_load) {\n      console.log(\"Bokeh: BokehJS failed to load within specified timeout.\");\n      root._bokeh_failed_load = true;\n    } else if (force !== true) {\n      var cell = $(document.getElementById(\"1002\")).parents('.cell').data().cell;\n      cell.output_area.append_execute_result(NB_LOAD_WARNING)\n    }\n\n  }\n\n  if (root._bokeh_is_loading === 0) {\n    console.debug(\"Bokeh: BokehJS loaded, going straight to plotting\");\n    run_inline_js();\n  } else {\n    load_libs(css_urls, js_urls, function() {\n      console.debug(\"Bokeh: BokehJS plotting callback run at\", now());\n      run_inline_js();\n    });\n  }\n}(window));",
      "application/vnd.bokehjs_load.v0+json": ""
     },
     "metadata": {},
     "output_type": "display_data"
    }
   ],
   "source": [
    "import os\n",
    "import pathlib\n",
    "import glob\n",
    "import random\n",
    "import argparse\n",
    "import pandas as pd\n",
    "import matplotlib.pyplot as plt\n",
    "from datetime import datetime\n",
    "from typing import Dict, List, Any, Optional\n",
    "\n",
    "import ray\n",
    "from ray import tune\n",
    "from ray.tune.suggest.repeater import Repeater\n",
    "from ray.tune.suggest.bayesopt import BayesOptSearch\n",
    "from ray.tune.suggest.suggestion import Searcher\n",
    "from ray.tune import CLIReporter\n",
    "from src.envs import TradingEnv\n",
    "from src.utils import backtest\n",
    "from src.envs.actions import BuySell, LongNeutralShort\n",
    "from src.trainable.cross_validation import ExperimentCV\n",
    "from src.trainable.util import prepare_config_for_agent"
   ]
  },
  {
   "cell_type": "code",
   "execution_count": 2,
   "metadata": {},
   "outputs": [
    {
     "data": {
      "text/plain": [
       "Namespace(algo='DQN', local_dir='./experiments', max_timesteps=15000, metric='evaluation/episode_reward_mean', mode='max', num_samples=1, repeat=2, seed=340, ticker='^N225')"
      ]
     },
     "execution_count": 2,
     "metadata": {},
     "output_type": "execute_result"
    }
   ],
   "source": [
    "args = {\n",
    "    \"ticker\": \"^N225\",\n",
    "    \"algo\": \"DQN\",\n",
    "    \"max_timesteps\": 15000,\n",
    "    \"metric\": \"evaluation/episode_reward_mean\",\n",
    "    \"mode\": \"max\",\n",
    "    \"repeat\": 2,\n",
    "    \"num_samples\": 1,\n",
    "    \"seed\": 340,\n",
    "    \"local_dir\": \"./experiments\",\n",
    "}\n",
    "args = argparse.Namespace(**args)\n",
    "args"
   ]
  },
  {
   "cell_type": "code",
   "execution_count": 3,
   "metadata": {},
   "outputs": [],
   "source": [
    "config = {\n",
    "    \"env\": \"TradingEnv\",\n",
    "    \"env_config\": {},\n",
    "    \"evaluation_interval\": 1,\n",
    "    \"evaluation_num_episodes\": 1,\n",
    "    \"evaluation_config\": {\n",
    "        \"env_config\": {},\n",
    "        \"explore\": False,\n",
    "    },\n",
    "    \"num_workers\": 4,\n",
    "    \"framework\": \"torch\",\n",
    "    \"log_level\": \"WARN\",\n",
    "    \"timesteps_per_iteration\": 5000,\n",
    "    \"num_gpus\": 0,\n",
    "    \"seed\": args.seed,\n",
    "    \"_algo\": args.algo,\n",
    "    \"_ticker\": args.ticker,\n",
    "    \"_train_start\": \"2010-01-01\",\n",
    "    \"_train_years\": 1,\n",
    "    \"_eval_years\": 1,\n",
    "    \"_actions\": \"BuySell\",\n",
    "    # \"lambda\": tune.sample_from(lambda spec: random.uniform(0.9, 1.0)),\n",
    "    # \"lr\": tune.sample_from(lambda spec: random.uniform(1e-3, 1e-5)),\n",
    "}"
   ]
  },
  {
   "cell_type": "code",
   "execution_count": 4,
   "metadata": {},
   "outputs": [
    {
     "name": "stderr",
     "output_type": "stream",
     "text": [
      "2021-11-18 14:30:39,437\tINFO services.py:1252 -- View the Ray dashboard at \u001b[1m\u001b[32mhttp://127.0.0.1:8265\u001b[39m\u001b[22m\n",
      "2021-11-18 14:30:48,533\tERROR syncer.py:73 -- Log sync requires rsync to be installed.\n"
     ]
    },
    {
     "name": "stdout",
     "output_type": "stream",
     "text": [
      "== Status ==\n",
      "Memory usage on this node: 10.6/31.9 GiB\n",
      "Using FIFO scheduling algorithm.\n",
      "Resources requested: 0/8 CPUs, 0/0 GPUs, 0.0/13.18 GiB heap, 0.0/6.59 GiB objects\n",
      "Result logdir: c:\\Users\\xiang-lab\\Documents\\DRL-Trading\\experiments\\DQN_2021-11-18_14-30\n",
      "Number of trials: 1/2 (1 PENDING)\n",
      "+----------------------------------+----------+-------+-------------------+\n",
      "| Trial name                       | status   | loc   |   __trial_index__ |\n",
      "|----------------------------------+----------+-------+-------------------|\n",
      "| ExperimentCV_TradingEnv_af9fad1c | PENDING  |       |                 0 |\n",
      "+----------------------------------+----------+-------+-------------------+\n",
      "\n",
      "\n",
      "== Status ==\n",
      "Memory usage on this node: 11.9/31.9 GiB\n",
      "Using FIFO scheduling algorithm.\n",
      "Resources requested: 8.0/8 CPUs, 0/0 GPUs, 0.0/13.18 GiB heap, 0.0/6.59 GiB objects\n",
      "Result logdir: c:\\Users\\xiang-lab\\Documents\\DRL-Trading\\experiments\\DQN_2021-11-18_14-30\n",
      "Number of trials: 2/2 (1 RUNNING, 1 TERMINATED)\n",
      "+----------------------------------+------------+---------------------+-------------------+------------------+-----------------------+---------+------------+\n",
      "| Trial name                       | status     | loc                 |   __trial_index__ |   episode_reward |   eval/episode_reward |   steps |   episodes |\n",
      "|----------------------------------+------------+---------------------+-------------------+------------------+-----------------------+---------+------------|\n",
      "| ExperimentCV_TradingEnv_afb7e150 | RUNNING    | 172.22.130.108:7956 |                 1 |        0.0349176 |              0.144917 |   10016 |         40 |\n",
      "| ExperimentCV_TradingEnv_af9fad1c | TERMINATED |                     |                 0 |        0.0536426 |             -0.258015 |   15024 |         60 |\n",
      "+----------------------------------+------------+---------------------+-------------------+------------------+-----------------------+---------+------------+\n",
      "\n",
      "\n"
     ]
    },
    {
     "name": "stderr",
     "output_type": "stream",
     "text": [
      "2021-11-18 14:31:54,608\tINFO tune.py:617 -- Total run time: 66.27 seconds (66.12 seconds for the tuning loop).\n"
     ]
    },
    {
     "name": "stdout",
     "output_type": "stream",
     "text": [
      "== Status ==\n",
      "Memory usage on this node: 12.0/31.9 GiB\n",
      "Using FIFO scheduling algorithm.\n",
      "Resources requested: 0/8 CPUs, 0/0 GPUs, 0.0/13.18 GiB heap, 0.0/6.59 GiB objects\n",
      "Result logdir: c:\\Users\\xiang-lab\\Documents\\DRL-Trading\\experiments\\DQN_2021-11-18_14-30\n",
      "Number of trials: 2/2 (2 TERMINATED)\n",
      "+----------------------------------+------------+-------+-------------------+------------------+-----------------------+---------+------------+\n",
      "| Trial name                       | status     | loc   |   __trial_index__ |   episode_reward |   eval/episode_reward |   steps |   episodes |\n",
      "|----------------------------------+------------+-------+-------------------+------------------+-----------------------+---------+------------|\n",
      "| ExperimentCV_TradingEnv_af9fad1c | TERMINATED |       |                 0 |        0.0536426 |             -0.258015 |   15024 |         60 |\n",
      "| ExperimentCV_TradingEnv_afb7e150 | TERMINATED |       |                 1 |        0.0464222 |              0.216721 |   15024 |         60 |\n",
      "+----------------------------------+------------+-------+-------------------+------------------+-----------------------+---------+------------+\n",
      "\n",
      "\n"
     ]
    }
   ],
   "source": [
    "ray.init(log_to_driver=False, num_gpus=0, local_mode=False)\n",
    "\n",
    "\n",
    "timelog = str(datetime.date(datetime.now())) + \"_\" + datetime.time(datetime.now()).strftime(\"%H-%M\")\n",
    "\n",
    "reporter = CLIReporter(\n",
    "    {\n",
    "        \"episode_reward_mean\": \"episode_reward\",\n",
    "        \"evaluation/episode_reward_mean\": \"eval/episode_reward\",\n",
    "        \"timesteps_total\": \"steps\",\n",
    "        \"episodes_total\": \"episodes\",\n",
    "    },\n",
    "    max_report_frequency=60,\n",
    ")\n",
    "\n",
    "re_searcher = Repeater(BayesOptSearch(), repeat=args.repeat)\n",
    "# re_searcher = Repeater(Searcher, repeat=3)\n",
    "\n",
    "analysis = tune.run(\n",
    "    ExperimentCV,\n",
    "    name=f\"{args.algo}_{timelog}\",\n",
    "    num_samples=args.repeat * args.num_samples,\n",
    "    metric=args.metric,\n",
    "    mode=args.mode,\n",
    "    stop={\"timesteps_total\": args.max_timesteps},\n",
    "    config=config,\n",
    "    progress_reporter=reporter,\n",
    "    checkpoint_freq=1,\n",
    "    local_dir=args.local_dir,\n",
    "    trial_dirname_creator=lambda trial: str(trial).split(\"__\")[0],\n",
    "    resources_per_trial=tune.PlacementGroupFactory([{\"CPU\": 4}, {\"CPU\": 4}]),\n",
    "    # resources_per_trial=tune.PlacementGroupFactory([{\"CPU\": 8}]),\n",
    "    search_alg=re_searcher,\n",
    "    verbose=1,\n",
    ")\n"
   ]
  },
  {
   "cell_type": "code",
   "execution_count": 5,
   "metadata": {},
   "outputs": [
    {
     "data": {
      "text/plain": [
       "{'c:\\\\Users\\\\xiang-lab\\\\Documents\\\\DRL-Trading\\\\experiments\\\\DQN_2021-11-18_14-30\\\\ExperimentCV_TradingEnv_af9fad1c': {'__trial_index__': 0,\n",
       "  '_actions': 'BuySell',\n",
       "  '_algo': 'DQN',\n",
       "  '_eval_years': 1,\n",
       "  '_ticker': '^N225',\n",
       "  '_train_start': '2010-01-01',\n",
       "  '_train_years': 1,\n",
       "  'env': 'TradingEnv',\n",
       "  'env_config': {},\n",
       "  'evaluation_config': {'env_config': {}, 'explore': False},\n",
       "  'evaluation_interval': 1,\n",
       "  'evaluation_num_episodes': 1,\n",
       "  'framework': 'torch',\n",
       "  'log_level': 'WARN',\n",
       "  'num_gpus': 0,\n",
       "  'num_workers': 4,\n",
       "  'seed': 340,\n",
       "  'timesteps_per_iteration': 5000},\n",
       " 'c:\\\\Users\\\\xiang-lab\\\\Documents\\\\DRL-Trading\\\\experiments\\\\DQN_2021-11-18_14-30\\\\ExperimentCV_TradingEnv_afb7e150': {'__trial_index__': 1,\n",
       "  '_actions': 'BuySell',\n",
       "  '_algo': 'DQN',\n",
       "  '_eval_years': 1,\n",
       "  '_ticker': '^N225',\n",
       "  '_train_start': '2010-01-01',\n",
       "  '_train_years': 1,\n",
       "  'env': 'TradingEnv',\n",
       "  'env_config': {},\n",
       "  'evaluation_config': {'env_config': {}, 'explore': False},\n",
       "  'evaluation_interval': 1,\n",
       "  'evaluation_num_episodes': 1,\n",
       "  'framework': 'torch',\n",
       "  'log_level': 'WARN',\n",
       "  'num_gpus': 0,\n",
       "  'num_workers': 4,\n",
       "  'seed': 340,\n",
       "  'timesteps_per_iteration': 5000}}"
      ]
     },
     "execution_count": 5,
     "metadata": {},
     "output_type": "execute_result"
    }
   ],
   "source": [
    "all_config = analysis.get_all_configs()\n",
    "all_config"
   ]
  },
  {
   "cell_type": "code",
   "execution_count": 6,
   "metadata": {},
   "outputs": [
    {
     "data": {
      "text/plain": [
       "'c:\\\\Users\\\\xiang-lab\\\\Documents\\\\DRL-Trading\\\\experiments\\\\DQN_2021-11-18_14-30\\\\ExperimentCV_TradingEnv_afb7e150\\\\checkpoint_000003\\\\checkpoint-3'"
      ]
     },
     "execution_count": 6,
     "metadata": {},
     "output_type": "execute_result"
    }
   ],
   "source": [
    "checkpoint = analysis.best_checkpoint\n",
    "checkpoint"
   ]
  },
  {
   "cell_type": "code",
   "execution_count": 7,
   "metadata": {},
   "outputs": [
    {
     "data": {
      "text/plain": [
       "<bound method Analysis.get_all_configs of <ray.tune.analysis.experiment_analysis.ExperimentAnalysis object at 0x000001CCDECA4608>>"
      ]
     },
     "execution_count": 7,
     "metadata": {},
     "output_type": "execute_result"
    }
   ],
   "source": [
    "analysis.get_all_configs"
   ]
  },
  {
   "cell_type": "code",
   "execution_count": 8,
   "metadata": {},
   "outputs": [
    {
     "name": "stderr",
     "output_type": "stream",
     "text": [
      "2021-11-18 14:31:54,923\tINFO dqn.py:142 -- In multi-agent mode, policies will be optimized sequentially by the multi-GPU optimizer. Consider setting simple_optimizer=True if this doesn't work for you.\n",
      "2021-11-18 14:31:54,923\tINFO trainer.py:760 -- Current log_level is WARN. For more information, set 'log_level': 'INFO' / 'DEBUG' or use the -v and -vv flags.\n",
      "2021-11-18 14:32:02,953\tWARNING deprecation.py:39 -- DeprecationWarning: `ReplayBuffer(size)` has been deprecated. Use `ReplayBuffer(capacity)` instead. This will raise an error in the future!\n",
      "2021-11-18 14:32:02,956\tWARNING deprecation.py:39 -- DeprecationWarning: `simple_optimizer` has been deprecated. This will raise an error in the future!\n",
      "2021-11-18 14:32:03,012\tINFO trainable.py:394 -- Restored on 172.22.130.108 from checkpoint: c:\\Users\\xiang-lab\\Documents\\DRL-Trading\\experiments\\DQN_2021-11-18_14-30\\ExperimentCV_TradingEnv_af9fad1c\\checkpoint_000002\\checkpoint-2\n",
      "2021-11-18 14:32:03,013\tINFO trainable.py:401 -- Current state after restoring: {'_iteration': 2, '_timesteps_total': None, '_time_total': 13.619773864746094, '_episodes_total': 40}\n"
     ]
    },
    {
     "name": "stdout",
     "output_type": "stream",
     "text": [
      "Start                     2010-01-04 00:00:00\n",
      "End                       2010-12-30 00:00:00\n",
      "Duration                    360 days 00:00:00\n",
      "Exposure Time [%]                   97.530864\n",
      "Equity Final [$]                111518.700305\n",
      "Equity Peak [$]                 118190.361063\n",
      "Return [%]                            11.5187\n",
      "Buy & Hold Return [%]               -3.996983\n",
      "Return (Ann.) [%]                   11.969907\n",
      "Volatility (Ann.) [%]               13.791396\n",
      "Sharpe Ratio                         0.891974\n",
      "Sortino Ratio                        1.314773\n",
      "Calmar Ratio                         1.134242\n",
      "Max. Drawdown [%]                  -10.553224\n",
      "Avg. Drawdown [%]                   -3.192861\n",
      "Max. Drawdown Duration      182 days 00:00:00\n",
      "Avg. Drawdown Duration       33 days 00:00:00\n",
      "# Trades                                   45\n",
      "Win Rate [%]                        48.888889\n",
      "Best Trade [%]                       8.896176\n",
      "Worst Trade [%]                     -3.939312\n",
      "Avg. Trade [%]                        0.25233\n",
      "Max. Trade Duration          27 days 00:00:00\n",
      "Avg. Trade Duration           7 days 00:00:00\n",
      "Profit Factor                        1.337998\n",
      "Expectancy [%]                       0.287718\n",
      "SQN                                   0.78069\n",
      "_strategy                 DRLStrategy(env=...\n",
      "_equity_curve                             ...\n",
      "_trades                       Size  EntryB...\n",
      "dtype: object\n",
      "Start                     2011-01-04 00:00:00\n",
      "End                       2011-12-30 00:00:00\n",
      "Duration                    360 days 00:00:00\n",
      "Exposure Time [%]                    97.55102\n",
      "Equity Final [$]                114555.018624\n",
      "Equity Peak [$]                 122752.188332\n",
      "Return [%]                          14.555019\n",
      "Buy & Hold Return [%]              -18.683703\n",
      "Return (Ann.) [%]                   15.000635\n",
      "Volatility (Ann.) [%]               16.589476\n",
      "Sharpe Ratio                          0.92726\n",
      "Sortino Ratio                        1.713169\n",
      "Calmar Ratio                          1.77788\n",
      "Max. Drawdown [%]                   -8.437372\n",
      "Avg. Drawdown [%]                   -3.225607\n",
      "Max. Drawdown Duration      130 days 00:00:00\n",
      "Avg. Drawdown Duration       35 days 00:00:00\n",
      "# Trades                                   33\n",
      "Win Rate [%]                        54.545455\n",
      "Best Trade [%]                      18.064033\n",
      "Worst Trade [%]                     -6.928453\n",
      "Avg. Trade [%]                       0.321336\n",
      "Max. Trade Duration          62 days 00:00:00\n",
      "Avg. Trade Duration          10 days 00:00:00\n",
      "Profit Factor                        1.359992\n",
      "Expectancy [%]                       0.399564\n",
      "SQN                                  0.690779\n",
      "_strategy                 DRLStrategy(env=...\n",
      "_equity_curve                             ...\n",
      "_trades                       Size  EntryB...\n",
      "dtype: object\n"
     ]
    },
    {
     "name": "stderr",
     "output_type": "stream",
     "text": [
      "2021-11-18 14:32:04,403\tINFO trainable.py:394 -- Restored on 172.22.130.108 from checkpoint: c:\\Users\\xiang-lab\\Documents\\DRL-Trading\\experiments\\DQN_2021-11-18_14-30\\ExperimentCV_TradingEnv_afb7e150\\checkpoint_000003\\checkpoint-3\n",
      "2021-11-18 14:32:04,403\tINFO trainable.py:401 -- Current state after restoring: {'_iteration': 3, '_timesteps_total': None, '_time_total': 24.971120595932007, '_episodes_total': 60}\n"
     ]
    },
    {
     "name": "stdout",
     "output_type": "stream",
     "text": [
      "Start                     2011-01-04 00:00:00\n",
      "End                       2011-12-30 00:00:00\n",
      "Duration                    360 days 00:00:00\n",
      "Exposure Time [%]                    97.55102\n",
      "Equity Final [$]                 111772.20453\n",
      "Equity Peak [$]                 115097.086062\n",
      "Return [%]                          11.772205\n",
      "Buy & Hold Return [%]              -18.683703\n",
      "Return (Ann.) [%]                   12.128183\n",
      "Volatility (Ann.) [%]               17.665607\n",
      "Sharpe Ratio                         0.737499\n",
      "Sortino Ratio                         1.13269\n",
      "Calmar Ratio                         1.077061\n",
      "Max. Drawdown [%]                  -11.260439\n",
      "Avg. Drawdown [%]                   -5.310508\n",
      "Max. Drawdown Duration      195 days 00:00:00\n",
      "Avg. Drawdown Duration       69 days 00:00:00\n",
      "# Trades                                   42\n",
      "Win Rate [%]                        61.904762\n",
      "Best Trade [%]                       7.223869\n",
      "Worst Trade [%]                     -5.693272\n",
      "Avg. Trade [%]                       0.296001\n",
      "Max. Trade Duration          43 days 00:00:00\n",
      "Avg. Trade Duration           7 days 00:00:00\n",
      "Profit Factor                        1.512973\n",
      "Expectancy [%]                       0.321535\n",
      "SQN                                  0.926496\n",
      "_strategy                 DRLStrategy(env=...\n",
      "_equity_curve                             ...\n",
      "_trades                       Size  EntryB...\n",
      "dtype: object\n",
      "Start                     2012-01-04 00:00:00\n",
      "End                       2012-12-28 00:00:00\n",
      "Duration                    359 days 00:00:00\n",
      "Exposure Time [%]                   97.580645\n",
      "Equity Final [$]                125033.349057\n",
      "Equity Peak [$]                 125033.349057\n",
      "Return [%]                          25.033349\n",
      "Buy & Hold Return [%]                21.43745\n",
      "Return (Ann.) [%]                   25.484706\n",
      "Volatility (Ann.) [%]               11.245323\n",
      "Sharpe Ratio                         2.083746\n",
      "Sortino Ratio                         3.69688\n",
      "Calmar Ratio                         2.763916\n",
      "Max. Drawdown [%]                   -9.220508\n",
      "Avg. Drawdown [%]                   -1.115052\n",
      "Max. Drawdown Duration      251 days 00:00:00\n",
      "Avg. Drawdown Duration       21 days 00:00:00\n",
      "# Trades                                   14\n",
      "Win Rate [%]                        42.857143\n",
      "Best Trade [%]                      22.172747\n",
      "Worst Trade [%]                     -6.366175\n",
      "Avg. Trade [%]                       2.116325\n",
      "Max. Trade Duration         163 days 00:00:00\n",
      "Avg. Trade Duration          24 days 00:00:00\n",
      "Profit Factor                        3.381134\n",
      "Expectancy [%]                       2.373599\n",
      "SQN                                  1.099487\n",
      "_strategy                 DRLStrategy(env=...\n",
      "_equity_curve                             ...\n",
      "_trades                       Size  EntryB...\n",
      "dtype: object\n"
     ]
    }
   ],
   "source": [
    "# Backtest\n",
    "all_config = analysis.get_all_configs()\n",
    "agent = None\n",
    "for trial in analysis.trials:\n",
    "    config = all_config[trial.logdir].copy()\n",
    "    config[\"_actions\"] = BuySell\n",
    "    # print(config)\n",
    "    agent_class, algo_config = prepare_config_for_agent(config, pathlib.Path(trial.logdir).parent)\n",
    "\n",
    "    algo_config[\"num_workers\"] = 1\n",
    "    algo_config[\"logger_config\"] = {\"type\": ray.tune.logger.NoopLogger}\n",
    "    # print(algo_config)\n",
    "    # index = config.pop(\"__trial_index__\")\n",
    "\n",
    "    if agent is None:\n",
    "        agent = agent_class(config=algo_config)\n",
    "    else:\n",
    "        agent.reset(algo_config)\n",
    "\n",
    "    checkpoint = analysis.get_best_checkpoint(trial)\n",
    "    agent.restore(checkpoint)\n",
    "\n",
    "    # env_train = agent.workers.local_worker().env\n",
    "    env_train = TradingEnv(**algo_config[\"env_config\"])\n",
    "    env_eval = TradingEnv(**algo_config[\"evaluation_config\"][\"env_config\"])\n",
    "    print(backtest(env_train, agent, save_dir=os.path.join(trial.logdir, \"last-stats-train\"), plot=False))\n",
    "    print(backtest(env_eval, agent, save_dir=os.path.join(trial.logdir, \"best-stats-eval\"), plot=True))\n",
    "    backtest(env_eval, agent=\"Buy&Hold\", save_dir=os.path.join(trial.logdir, \"buy-and-hold\"), plot=False)"
   ]
  },
  {
   "cell_type": "code",
   "execution_count": 9,
   "metadata": {},
   "outputs": [],
   "source": [
    "ray.shutdown()"
   ]
  }
 ],
 "metadata": {
  "interpreter": {
   "hash": "92494b380cdd7d1d1ced08fe7bc7df853d898bcea1d66a2a33078fd6ace70ca7"
  },
  "kernelspec": {
   "display_name": "Python 3.7.10 64-bit ('drl-trading': conda)",
   "language": "python",
   "name": "python3"
  },
  "language_info": {
   "codemirror_mode": {
    "name": "ipython",
    "version": 3
   },
   "file_extension": ".py",
   "mimetype": "text/x-python",
   "name": "python",
   "nbconvert_exporter": "python",
   "pygments_lexer": "ipython3",
   "version": "3.7.10"
  },
  "orig_nbformat": 4
 },
 "nbformat": 4,
 "nbformat_minor": 2
}
